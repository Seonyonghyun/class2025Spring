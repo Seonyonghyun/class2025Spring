{
  "cells": [
    {
      "cell_type": "markdown",
      "metadata": {
        "id": "view-in-github",
        "colab_type": "text"
      },
      "source": [
        "<a href=\"https://colab.research.google.com/github/Seonyonghyun/class2025Spring/blob/main/natural_language_homewor_v2k.ipynb\" target=\"_parent\"><img src=\"https://colab.research.google.com/assets/colab-badge.svg\" alt=\"Open In Colab\"/></a>"
      ]
    },
    {
      "cell_type": "markdown",
      "source": [
        "### **영화 한줄평을 통해서 영화 예상 평점을 예측하자**"
      ],
      "metadata": {
        "id": "gcho3-Y3kGEO"
      }
    },
    {
      "cell_type": "markdown",
      "source": [
        "크롤링을 위한 셀레늄 인스톨"
      ],
      "metadata": {
        "id": "PaFs1gsrkaLM"
      }
    },
    {
      "cell_type": "code",
      "execution_count": null,
      "metadata": {
        "id": "FVqnz0tcAVFM",
        "outputId": "d5b40668-ee52-411b-c68c-eabe7f75db31",
        "colab": {
          "base_uri": "https://localhost:8080/"
        }
      },
      "outputs": [
        {
          "output_type": "stream",
          "name": "stdout",
          "text": [
            "Collecting selenium\n",
            "  Downloading selenium-4.31.0-py3-none-any.whl.metadata (7.5 kB)\n",
            "Requirement already satisfied: urllib3<3,>=1.26 in /usr/local/lib/python3.11/dist-packages (from urllib3[socks]<3,>=1.26->selenium) (2.3.0)\n",
            "Collecting trio~=0.17 (from selenium)\n",
            "  Downloading trio-0.30.0-py3-none-any.whl.metadata (8.5 kB)\n",
            "Collecting trio-websocket~=0.9 (from selenium)\n",
            "  Downloading trio_websocket-0.12.2-py3-none-any.whl.metadata (5.1 kB)\n",
            "Requirement already satisfied: certifi>=2021.10.8 in /usr/local/lib/python3.11/dist-packages (from selenium) (2025.1.31)\n",
            "Requirement already satisfied: typing_extensions~=4.9 in /usr/local/lib/python3.11/dist-packages (from selenium) (4.13.2)\n",
            "Requirement already satisfied: websocket-client~=1.8 in /usr/local/lib/python3.11/dist-packages (from selenium) (1.8.0)\n",
            "Requirement already satisfied: attrs>=23.2.0 in /usr/local/lib/python3.11/dist-packages (from trio~=0.17->selenium) (25.3.0)\n",
            "Requirement already satisfied: sortedcontainers in /usr/local/lib/python3.11/dist-packages (from trio~=0.17->selenium) (2.4.0)\n",
            "Requirement already satisfied: idna in /usr/local/lib/python3.11/dist-packages (from trio~=0.17->selenium) (3.10)\n",
            "Collecting outcome (from trio~=0.17->selenium)\n",
            "  Downloading outcome-1.3.0.post0-py2.py3-none-any.whl.metadata (2.6 kB)\n",
            "Requirement already satisfied: sniffio>=1.3.0 in /usr/local/lib/python3.11/dist-packages (from trio~=0.17->selenium) (1.3.1)\n",
            "Collecting wsproto>=0.14 (from trio-websocket~=0.9->selenium)\n",
            "  Downloading wsproto-1.2.0-py3-none-any.whl.metadata (5.6 kB)\n",
            "Requirement already satisfied: pysocks!=1.5.7,<2.0,>=1.5.6 in /usr/local/lib/python3.11/dist-packages (from urllib3[socks]<3,>=1.26->selenium) (1.7.1)\n",
            "Requirement already satisfied: h11<1,>=0.9.0 in /usr/local/lib/python3.11/dist-packages (from wsproto>=0.14->trio-websocket~=0.9->selenium) (0.14.0)\n",
            "Downloading selenium-4.31.0-py3-none-any.whl (9.4 MB)\n",
            "\u001b[2K   \u001b[90m━━━━━━━━━━━━━━━━━━━━━━━━━━━━━━━━━━━━━━━━\u001b[0m \u001b[32m9.4/9.4 MB\u001b[0m \u001b[31m74.2 MB/s\u001b[0m eta \u001b[36m0:00:00\u001b[0m\n",
            "\u001b[?25hDownloading trio-0.30.0-py3-none-any.whl (499 kB)\n",
            "\u001b[2K   \u001b[90m━━━━━━━━━━━━━━━━━━━━━━━━━━━━━━━━━━━━━━━━\u001b[0m \u001b[32m499.2/499.2 kB\u001b[0m \u001b[31m30.7 MB/s\u001b[0m eta \u001b[36m0:00:00\u001b[0m\n",
            "\u001b[?25hDownloading trio_websocket-0.12.2-py3-none-any.whl (21 kB)\n",
            "Downloading outcome-1.3.0.post0-py2.py3-none-any.whl (10 kB)\n",
            "Downloading wsproto-1.2.0-py3-none-any.whl (24 kB)\n",
            "Installing collected packages: wsproto, outcome, trio, trio-websocket, selenium\n",
            "Successfully installed outcome-1.3.0.post0 selenium-4.31.0 trio-0.30.0 trio-websocket-0.12.2 wsproto-1.2.0\n"
          ]
        }
      ],
      "source": [
        "!pip install selenium"
      ]
    },
    {
      "cell_type": "markdown",
      "source": [
        "**※ 영화 리뷰사이트인 왓챠에서 이동진 영화 평론가의 평론을 크롤링**"
      ],
      "metadata": {
        "id": "q1DSs5CXzVzv"
      }
    },
    {
      "cell_type": "code",
      "execution_count": null,
      "metadata": {
        "id": "8xUALw60_lie",
        "outputId": "9ea11c4a-f58e-443d-e1ca-babb8534eef1",
        "colab": {
          "base_uri": "https://localhost:8080/"
        }
      },
      "outputs": [
        {
          "output_type": "stream",
          "name": "stdout",
          "text": [
            "[스크롤 중] 현재 로딩된 리뷰 수: 28\n",
            "[스크롤 중] 현재 로딩된 리뷰 수: 46\n",
            "[스크롤 중] 현재 로딩된 리뷰 수: 64\n",
            "[스크롤 중] 현재 로딩된 리뷰 수: 82\n",
            "[스크롤 중] 현재 로딩된 리뷰 수: 100\n",
            "[스크롤 중] 현재 로딩된 리뷰 수: 118\n",
            "[스크롤 중] 현재 로딩된 리뷰 수: 136\n",
            "[스크롤 중] 현재 로딩된 리뷰 수: 154\n",
            "[스크롤 중] 현재 로딩된 리뷰 수: 172\n",
            "[스크롤 중] 현재 로딩된 리뷰 수: 190\n",
            "[스크롤 중] 현재 로딩된 리뷰 수: 208\n",
            "[스크롤 중] 현재 로딩된 리뷰 수: 226\n",
            "[스크롤 중] 현재 로딩된 리뷰 수: 244\n",
            "[스크롤 중] 현재 로딩된 리뷰 수: 262\n",
            "[스크롤 중] 현재 로딩된 리뷰 수: 280\n",
            "[스크롤 중] 현재 로딩된 리뷰 수: 298\n",
            "[스크롤 중] 현재 로딩된 리뷰 수: 316\n",
            "[스크롤 중] 현재 로딩된 리뷰 수: 334\n",
            "[스크롤 중] 현재 로딩된 리뷰 수: 352\n",
            "[스크롤 중] 현재 로딩된 리뷰 수: 370\n",
            "[스크롤 중] 현재 로딩된 리뷰 수: 388\n",
            "[스크롤 중] 현재 로딩된 리뷰 수: 406\n",
            "[스크롤 중] 현재 로딩된 리뷰 수: 424\n",
            "[스크롤 중] 현재 로딩된 리뷰 수: 442\n",
            "[스크롤 중] 현재 로딩된 리뷰 수: 460\n",
            "[스크롤 중] 현재 로딩된 리뷰 수: 478\n",
            "[스크롤 중] 현재 로딩된 리뷰 수: 496\n",
            "[스크롤 중] 현재 로딩된 리뷰 수: 514\n",
            "[스크롤 중] 현재 로딩된 리뷰 수: 532\n",
            "[스크롤 중] 현재 로딩된 리뷰 수: 550\n",
            "[스크롤 중] 현재 로딩된 리뷰 수: 568\n",
            "[스크롤 중] 현재 로딩된 리뷰 수: 586\n",
            "[스크롤 중] 현재 로딩된 리뷰 수: 604\n",
            "[스크롤 중] 현재 로딩된 리뷰 수: 613\n",
            "[스크롤 중] 현재 로딩된 리뷰 수: 631\n",
            "[스크롤 중] 현재 로딩된 리뷰 수: 649\n",
            "[스크롤 중] 현재 로딩된 리뷰 수: 667\n",
            "[스크롤 중] 현재 로딩된 리뷰 수: 685\n",
            "[스크롤 중] 현재 로딩된 리뷰 수: 703\n",
            "[스크롤 중] 현재 로딩된 리뷰 수: 721\n",
            "[스크롤 중] 현재 로딩된 리뷰 수: 739\n",
            "[스크롤 중] 현재 로딩된 리뷰 수: 757\n",
            "[스크롤 중] 현재 로딩된 리뷰 수: 775\n",
            "[스크롤 중] 현재 로딩된 리뷰 수: 793\n",
            "[스크롤 중] 현재 로딩된 리뷰 수: 811\n",
            "[스크롤 중] 현재 로딩된 리뷰 수: 829\n",
            "[스크롤 중] 현재 로딩된 리뷰 수: 847\n",
            "[스크롤 중] 현재 로딩된 리뷰 수: 865\n",
            "[스크롤 중] 현재 로딩된 리뷰 수: 883\n",
            "[스크롤 중] 현재 로딩된 리뷰 수: 901\n",
            "[스크롤 중] 현재 로딩된 리뷰 수: 919\n",
            "[스크롤 중] 현재 로딩된 리뷰 수: 937\n",
            "[스크롤 중] 현재 로딩된 리뷰 수: 955\n",
            "[스크롤 중] 현재 로딩된 리뷰 수: 973\n",
            "[스크롤 중] 현재 로딩된 리뷰 수: 991\n",
            "[스크롤 중] 현재 로딩된 리뷰 수: 1009\n",
            "[스크롤 중] 현재 로딩된 리뷰 수: 1027\n",
            "[스크롤 중] 현재 로딩된 리뷰 수: 1045\n",
            "[스크롤 중] 현재 로딩된 리뷰 수: 1063\n",
            "[스크롤 중] 현재 로딩된 리뷰 수: 1081\n",
            "[스크롤 중] 현재 로딩된 리뷰 수: 1099\n",
            "[스크롤 중] 현재 로딩된 리뷰 수: 1117\n",
            "[스크롤 중] 현재 로딩된 리뷰 수: 1135\n",
            "[스크롤 중] 현재 로딩된 리뷰 수: 1153\n",
            "[스크롤 중] 현재 로딩된 리뷰 수: 1171\n",
            "[스크롤 중] 현재 로딩된 리뷰 수: 1189\n",
            "[스크롤 중] 현재 로딩된 리뷰 수: 1207\n",
            "[스크롤 중] 현재 로딩된 리뷰 수: 1225\n",
            "[스크롤 중] 현재 로딩된 리뷰 수: 1243\n",
            "[스크롤 중] 현재 로딩된 리뷰 수: 1261\n",
            "[스크롤 중] 현재 로딩된 리뷰 수: 1279\n",
            "[스크롤 중] 현재 로딩된 리뷰 수: 1297\n",
            "[스크롤 중] 현재 로딩된 리뷰 수: 1315\n",
            "[스크롤 중] 현재 로딩된 리뷰 수: 1333\n",
            "[스크롤 중] 현재 로딩된 리뷰 수: 1351\n",
            "[스크롤 중] 현재 로딩된 리뷰 수: 1369\n",
            "[스크롤 중] 현재 로딩된 리뷰 수: 1387\n",
            "[스크롤 중] 현재 로딩된 리뷰 수: 1405\n",
            "[스크롤 중] 현재 로딩된 리뷰 수: 1423\n",
            "[스크롤 중] 현재 로딩된 리뷰 수: 1441\n",
            "[스크롤 중] 현재 로딩된 리뷰 수: 1459\n",
            "[스크롤 중] 현재 로딩된 리뷰 수: 1477\n",
            "[스크롤 중] 현재 로딩된 리뷰 수: 1495\n",
            "[스크롤 중] 현재 로딩된 리뷰 수: 1513\n",
            "[스크롤 중] 현재 로딩된 리뷰 수: 1531\n",
            "[스크롤 중] 현재 로딩된 리뷰 수: 1549\n",
            "[스크롤 중] 현재 로딩된 리뷰 수: 1567\n",
            "[스크롤 중] 현재 로딩된 리뷰 수: 1585\n",
            "[스크롤 중] 현재 로딩된 리뷰 수: 1603\n",
            "[스크롤 중] 현재 로딩된 리뷰 수: 1621\n",
            "[스크롤 중] 현재 로딩된 리뷰 수: 1639\n",
            "[스크롤 중] 현재 로딩된 리뷰 수: 1657\n",
            "[스크롤 중] 현재 로딩된 리뷰 수: 1675\n",
            "[스크롤 중] 현재 로딩된 리뷰 수: 1693\n",
            "[스크롤 중] 현재 로딩된 리뷰 수: 1711\n",
            "[스크롤 중] 현재 로딩된 리뷰 수: 1729\n",
            "[스크롤 중] 현재 로딩된 리뷰 수: 1747\n",
            "[스크롤 중] 현재 로딩된 리뷰 수: 1765\n",
            "[스크롤 중] 현재 로딩된 리뷰 수: 1783\n",
            "[스크롤 중] 현재 로딩된 리뷰 수: 1801\n",
            "[스크롤 중] 현재 로딩된 리뷰 수: 1819\n",
            "[스크롤 중] 현재 로딩된 리뷰 수: 1837\n",
            "[스크롤 중] 현재 로딩된 리뷰 수: 1855\n",
            "[스크롤 중] 현재 로딩된 리뷰 수: 1873\n",
            "[스크롤 중] 현재 로딩된 리뷰 수: 1891\n",
            "[스크롤 중] 현재 로딩된 리뷰 수: 1909\n",
            "[스크롤 중] 현재 로딩된 리뷰 수: 1927\n",
            "[스크롤 중] 현재 로딩된 리뷰 수: 1945\n",
            "[스크롤 중] 현재 로딩된 리뷰 수: 1963\n",
            "[스크롤 중] 현재 로딩된 리뷰 수: 1981\n",
            "[스크롤 중] 현재 로딩된 리뷰 수: 1999\n",
            "[스크롤 중] 현재 로딩된 리뷰 수: 2017\n",
            "[스크롤 중] 현재 로딩된 리뷰 수: 2035\n",
            "[스크롤 중] 현재 로딩된 리뷰 수: 2053\n",
            "[스크롤 중] 현재 로딩된 리뷰 수: 2071\n",
            "[스크롤 중] 현재 로딩된 리뷰 수: 2089\n",
            "[스크롤 중] 현재 로딩된 리뷰 수: 2107\n",
            "[스크롤 중] 현재 로딩된 리뷰 수: 2125\n",
            "[스크롤 중] 현재 로딩된 리뷰 수: 2143\n",
            "[스크롤 중] 현재 로딩된 리뷰 수: 2161\n",
            "[스크롤 중] 현재 로딩된 리뷰 수: 2179\n",
            "[스크롤 중] 현재 로딩된 리뷰 수: 2197\n",
            "[스크롤 중] 현재 로딩된 리뷰 수: 2215\n",
            "[스크롤 중] 현재 로딩된 리뷰 수: 2233\n",
            "[스크롤 중] 현재 로딩된 리뷰 수: 2251\n",
            "[스크롤 중] 현재 로딩된 리뷰 수: 2269\n",
            "[스크롤 중] 현재 로딩된 리뷰 수: 2287\n",
            "[스크롤 중] 현재 로딩된 리뷰 수: 2305\n",
            "[스크롤 중] 현재 로딩된 리뷰 수: 2323\n",
            "[스크롤 중] 현재 로딩된 리뷰 수: 2341\n",
            "[스크롤 중] 현재 로딩된 리뷰 수: 2359\n",
            "[스크롤 중] 현재 로딩된 리뷰 수: 2361\n",
            "[스크롤 중] 현재 로딩된 리뷰 수: 2361\n",
            "[진행 상황] 현재 저장된 리뷰 수: 100\n",
            "[진행 상황] 현재 저장된 리뷰 수: 200\n",
            "[진행 상황] 현재 저장된 리뷰 수: 300\n",
            "[진행 상황] 현재 저장된 리뷰 수: 400\n",
            "[진행 상황] 현재 저장된 리뷰 수: 500\n",
            "[진행 상황] 현재 저장된 리뷰 수: 600\n",
            "[진행 상황] 현재 저장된 리뷰 수: 700\n",
            "[진행 상황] 현재 저장된 리뷰 수: 800\n",
            "[진행 상황] 현재 저장된 리뷰 수: 900\n",
            "[진행 상황] 현재 저장된 리뷰 수: 1000\n",
            "[진행 상황] 현재 저장된 리뷰 수: 1100\n",
            "[진행 상황] 현재 저장된 리뷰 수: 1200\n",
            "[진행 상황] 현재 저장된 리뷰 수: 1300\n",
            "[진행 상황] 현재 저장된 리뷰 수: 1400\n",
            "[진행 상황] 현재 저장된 리뷰 수: 1500\n",
            "[진행 상황] 현재 저장된 리뷰 수: 1600\n",
            "[진행 상황] 현재 저장된 리뷰 수: 1700\n",
            "[진행 상황] 현재 저장된 리뷰 수: 1800\n",
            "[진행 상황] 현재 저장된 리뷰 수: 1900\n",
            "[진행 상황] 현재 저장된 리뷰 수: 2000\n",
            "[진행 상황] 현재 저장된 리뷰 수: 2100\n",
            "[진행 상황] 현재 저장된 리뷰 수: 2200\n",
            "[진행 상황] 현재 저장된 리뷰 수: 2300\n",
            "                        title                                      review  \\\n",
            "0                      올파의 딸들                         극단주의는 어떤 토양에서 자라는가.   \n",
            "1                          로비  독기와 재기를 품은 말들이 서로를 찔러가며 리드미컬하게 필드 위를 굴러간다.   \n",
            "2                         헤레틱                길고 긴 독백의 지적인 대사를 배우가 체화하는 법.   \n",
            "3                      그랜드 투어                   풍경들 사이로 미끄러져 흘러간 시네마의 몽환.   \n",
            "4                          승부               전설적인 순간을 고스란히 살려낸 배우들이 감탄스럽다.   \n",
            "...                       ...                                         ...   \n",
            "2355                   아이언맨 3                 볼거리든 메시지든 명확히 핵심을 담아낼 줄 안다.   \n",
            "2356            반지의 제왕: 왕의 귀환                          덕분에 지난 3년간 행복했습니다.   \n",
            "2357                   다크 나이트               내러티브와 스타일을 완벽히 장악한 자의 눈부신 활공.   \n",
            "2358             혹성탈출: 진화의 시작               블록버스터에서도 이렇게 훌륭한 심리 묘사가 가능하다.   \n",
            "2359  나니아 연대기 - 사자, 마녀 그리고 옷장            돌이켜보면 '반지의 제왕'은 정말 뛰어난 판타지 영화였어.   \n",
            "\n",
            "     rating  \n",
            "0       3.5  \n",
            "1       3.0  \n",
            "2       3.0  \n",
            "3       4.0  \n",
            "4       3.0  \n",
            "...     ...  \n",
            "2355    3.5  \n",
            "2356    5.0  \n",
            "2357    5.0  \n",
            "2358    4.5  \n",
            "2359    3.0  \n",
            "\n",
            "[2360 rows x 3 columns]\n"
          ]
        }
      ],
      "source": [
        "from selenium import webdriver\n",
        "from selenium.webdriver.common.by import By\n",
        "import time\n",
        "import pandas as pd\n",
        "\n",
        "# URL 설정\n",
        "URL = \"https://pedia.watcha.com/ko-KR/users/DgwxAeQYNxrMj/comments\"\n",
        "\n",
        "# 크롬 옵션\n",
        "options = webdriver.ChromeOptions()\n",
        "options.add_argument(\"--headless\")\n",
        "options.add_argument(\"--disable-dev-shm-usage\")\n",
        "options.add_argument(\"--no-sandbox\")\n",
        "\n",
        "driver = webdriver.Chrome(options=options)\n",
        "driver.get(URL)\n",
        "time.sleep(3)\n",
        "\n",
        "# 스크롤 함수\n",
        "def scroll_until_loaded(min_count=2700, delay=2):\n",
        "    prev_height = driver.execute_script(\"return document.body.scrollHeight\")\n",
        "    while True:\n",
        "        driver.execute_script(\"window.scrollTo(0, document.body.scrollHeight);\")\n",
        "        time.sleep(delay)\n",
        "        new_height = driver.execute_script(\"return document.body.scrollHeight\")\n",
        "        review_blocks = driver.find_elements(By.CSS_SELECTOR, \"section div div div ul > div\")\n",
        "        print(f\"[스크롤 중] 현재 로딩된 리뷰 수: {len(review_blocks)}\")\n",
        "        if len(review_blocks) >= min_count:\n",
        "            break\n",
        "        if new_height == prev_height:\n",
        "            break\n",
        "        prev_height = new_height\n",
        "\n",
        "# 스크롤 시작\n",
        "scroll_until_loaded(min_count=2700)\n",
        "\n",
        "# 리뷰 블록 가져오기\n",
        "blocks = driver.find_elements(By.CSS_SELECTOR, \"section div div div ul > div\")[:2700]\n",
        "\n",
        "results = []\n",
        "\n",
        "for idx, block in enumerate(blocks):\n",
        "    try:\n",
        "        title = block.find_element(By.CSS_SELECTOR, 'p.AiYVTbAU.Odz7q79D.qfFKTvc9').text\n",
        "        #review = block.find_element(By.CSS_SELECTOR, 'a > div > div').text\n",
        "        review = block.find_element(By.CSS_SELECTOR, 'div.Uk7cqXn2.miRF2twb').text\n",
        "        try:\n",
        "            rating = block.find_element(By.CSS_SELECTOR, 'div.H7gLZE2m.KYbG4TeN > span').text\n",
        "        except:\n",
        "            rating = None\n",
        "\n",
        "        results.append({\n",
        "            'title': title,\n",
        "            'review': review,\n",
        "            'rating': rating\n",
        "        })\n",
        "\n",
        "        # 진행 상황 출력 (100개 단위로)\n",
        "        if (idx + 1) % 100 == 0:\n",
        "            print(f\"[진행 상황] 현재 저장된 리뷰 수: {len(results)}\")\n",
        "\n",
        "    except Exception as e:\n",
        "        continue\n",
        "\n",
        "# 데이터프레임 저장\n",
        "df = pd.DataFrame(results)\n",
        "print(df)\n",
        "\n",
        "# CSV 저장\n",
        "df.to_csv(\"watcha_reviews_test.csv\", index=False, encoding='utf-8-sig')\n",
        "\n",
        "driver.quit()"
      ]
    },
    {
      "cell_type": "code",
      "source": [
        "#크롤링한 csv 파일데이터 불러오기\n",
        "import time\n",
        "import pandas as pd\n",
        "df = pd.read_csv(\"watcha_reviews_test.csv\")\n",
        "df"
      ],
      "metadata": {
        "id": "mfK1YWK-g1r0",
        "colab": {
          "base_uri": "https://localhost:8080/",
          "height": 424
        },
        "outputId": "e4a56f6d-c8d5-4da5-d5bb-4309f43e5445"
      },
      "execution_count": 91,
      "outputs": [
        {
          "output_type": "execute_result",
          "data": {
            "text/plain": [
              "                        title                                      review  \\\n",
              "0                      올파의 딸들                         극단주의는 어떤 토양에서 자라는가.   \n",
              "1                          로비  독기와 재기를 품은 말들이 서로를 찔러가며 리드미컬하게 필드 위를 굴러간다.   \n",
              "2                         헤레틱                길고 긴 독백의 지적인 대사를 배우가 체화하는 법.   \n",
              "3                      그랜드 투어                   풍경들 사이로 미끄러져 흘러간 시네마의 몽환.   \n",
              "4                          승부               전설적인 순간을 고스란히 살려낸 배우들이 감탄스럽다.   \n",
              "...                       ...                                         ...   \n",
              "2355                   아이언맨 3                 볼거리든 메시지든 명확히 핵심을 담아낼 줄 안다.   \n",
              "2356            반지의 제왕: 왕의 귀환                          덕분에 지난 3년간 행복했습니다.   \n",
              "2357                   다크 나이트               내러티브와 스타일을 완벽히 장악한 자의 눈부신 활공.   \n",
              "2358             혹성탈출: 진화의 시작               블록버스터에서도 이렇게 훌륭한 심리 묘사가 가능하다.   \n",
              "2359  나니아 연대기 - 사자, 마녀 그리고 옷장            돌이켜보면 '반지의 제왕'은 정말 뛰어난 판타지 영화였어.   \n",
              "\n",
              "      rating  \n",
              "0        3.5  \n",
              "1        3.0  \n",
              "2        3.0  \n",
              "3        4.0  \n",
              "4        3.0  \n",
              "...      ...  \n",
              "2355     3.5  \n",
              "2356     5.0  \n",
              "2357     5.0  \n",
              "2358     4.5  \n",
              "2359     3.0  \n",
              "\n",
              "[2360 rows x 3 columns]"
            ],
            "text/html": [
              "\n",
              "  <div id=\"df-0c77a854-a415-4f8b-b4dc-7c03019bb8c9\" class=\"colab-df-container\">\n",
              "    <div>\n",
              "<style scoped>\n",
              "    .dataframe tbody tr th:only-of-type {\n",
              "        vertical-align: middle;\n",
              "    }\n",
              "\n",
              "    .dataframe tbody tr th {\n",
              "        vertical-align: top;\n",
              "    }\n",
              "\n",
              "    .dataframe thead th {\n",
              "        text-align: right;\n",
              "    }\n",
              "</style>\n",
              "<table border=\"1\" class=\"dataframe\">\n",
              "  <thead>\n",
              "    <tr style=\"text-align: right;\">\n",
              "      <th></th>\n",
              "      <th>title</th>\n",
              "      <th>review</th>\n",
              "      <th>rating</th>\n",
              "    </tr>\n",
              "  </thead>\n",
              "  <tbody>\n",
              "    <tr>\n",
              "      <th>0</th>\n",
              "      <td>올파의 딸들</td>\n",
              "      <td>극단주의는 어떤 토양에서 자라는가.</td>\n",
              "      <td>3.5</td>\n",
              "    </tr>\n",
              "    <tr>\n",
              "      <th>1</th>\n",
              "      <td>로비</td>\n",
              "      <td>독기와 재기를 품은 말들이 서로를 찔러가며 리드미컬하게 필드 위를 굴러간다.</td>\n",
              "      <td>3.0</td>\n",
              "    </tr>\n",
              "    <tr>\n",
              "      <th>2</th>\n",
              "      <td>헤레틱</td>\n",
              "      <td>길고 긴 독백의 지적인 대사를 배우가 체화하는 법.</td>\n",
              "      <td>3.0</td>\n",
              "    </tr>\n",
              "    <tr>\n",
              "      <th>3</th>\n",
              "      <td>그랜드 투어</td>\n",
              "      <td>풍경들 사이로 미끄러져 흘러간 시네마의 몽환.</td>\n",
              "      <td>4.0</td>\n",
              "    </tr>\n",
              "    <tr>\n",
              "      <th>4</th>\n",
              "      <td>승부</td>\n",
              "      <td>전설적인 순간을 고스란히 살려낸 배우들이 감탄스럽다.</td>\n",
              "      <td>3.0</td>\n",
              "    </tr>\n",
              "    <tr>\n",
              "      <th>...</th>\n",
              "      <td>...</td>\n",
              "      <td>...</td>\n",
              "      <td>...</td>\n",
              "    </tr>\n",
              "    <tr>\n",
              "      <th>2355</th>\n",
              "      <td>아이언맨 3</td>\n",
              "      <td>볼거리든 메시지든 명확히 핵심을 담아낼 줄 안다.</td>\n",
              "      <td>3.5</td>\n",
              "    </tr>\n",
              "    <tr>\n",
              "      <th>2356</th>\n",
              "      <td>반지의 제왕: 왕의 귀환</td>\n",
              "      <td>덕분에 지난 3년간 행복했습니다.</td>\n",
              "      <td>5.0</td>\n",
              "    </tr>\n",
              "    <tr>\n",
              "      <th>2357</th>\n",
              "      <td>다크 나이트</td>\n",
              "      <td>내러티브와 스타일을 완벽히 장악한 자의 눈부신 활공.</td>\n",
              "      <td>5.0</td>\n",
              "    </tr>\n",
              "    <tr>\n",
              "      <th>2358</th>\n",
              "      <td>혹성탈출: 진화의 시작</td>\n",
              "      <td>블록버스터에서도 이렇게 훌륭한 심리 묘사가 가능하다.</td>\n",
              "      <td>4.5</td>\n",
              "    </tr>\n",
              "    <tr>\n",
              "      <th>2359</th>\n",
              "      <td>나니아 연대기 - 사자, 마녀 그리고 옷장</td>\n",
              "      <td>돌이켜보면 '반지의 제왕'은 정말 뛰어난 판타지 영화였어.</td>\n",
              "      <td>3.0</td>\n",
              "    </tr>\n",
              "  </tbody>\n",
              "</table>\n",
              "<p>2360 rows × 3 columns</p>\n",
              "</div>\n",
              "    <div class=\"colab-df-buttons\">\n",
              "\n",
              "  <div class=\"colab-df-container\">\n",
              "    <button class=\"colab-df-convert\" onclick=\"convertToInteractive('df-0c77a854-a415-4f8b-b4dc-7c03019bb8c9')\"\n",
              "            title=\"Convert this dataframe to an interactive table.\"\n",
              "            style=\"display:none;\">\n",
              "\n",
              "  <svg xmlns=\"http://www.w3.org/2000/svg\" height=\"24px\" viewBox=\"0 -960 960 960\">\n",
              "    <path d=\"M120-120v-720h720v720H120Zm60-500h600v-160H180v160Zm220 220h160v-160H400v160Zm0 220h160v-160H400v160ZM180-400h160v-160H180v160Zm440 0h160v-160H620v160ZM180-180h160v-160H180v160Zm440 0h160v-160H620v160Z\"/>\n",
              "  </svg>\n",
              "    </button>\n",
              "\n",
              "  <style>\n",
              "    .colab-df-container {\n",
              "      display:flex;\n",
              "      gap: 12px;\n",
              "    }\n",
              "\n",
              "    .colab-df-convert {\n",
              "      background-color: #E8F0FE;\n",
              "      border: none;\n",
              "      border-radius: 50%;\n",
              "      cursor: pointer;\n",
              "      display: none;\n",
              "      fill: #1967D2;\n",
              "      height: 32px;\n",
              "      padding: 0 0 0 0;\n",
              "      width: 32px;\n",
              "    }\n",
              "\n",
              "    .colab-df-convert:hover {\n",
              "      background-color: #E2EBFA;\n",
              "      box-shadow: 0px 1px 2px rgba(60, 64, 67, 0.3), 0px 1px 3px 1px rgba(60, 64, 67, 0.15);\n",
              "      fill: #174EA6;\n",
              "    }\n",
              "\n",
              "    .colab-df-buttons div {\n",
              "      margin-bottom: 4px;\n",
              "    }\n",
              "\n",
              "    [theme=dark] .colab-df-convert {\n",
              "      background-color: #3B4455;\n",
              "      fill: #D2E3FC;\n",
              "    }\n",
              "\n",
              "    [theme=dark] .colab-df-convert:hover {\n",
              "      background-color: #434B5C;\n",
              "      box-shadow: 0px 1px 3px 1px rgba(0, 0, 0, 0.15);\n",
              "      filter: drop-shadow(0px 1px 2px rgba(0, 0, 0, 0.3));\n",
              "      fill: #FFFFFF;\n",
              "    }\n",
              "  </style>\n",
              "\n",
              "    <script>\n",
              "      const buttonEl =\n",
              "        document.querySelector('#df-0c77a854-a415-4f8b-b4dc-7c03019bb8c9 button.colab-df-convert');\n",
              "      buttonEl.style.display =\n",
              "        google.colab.kernel.accessAllowed ? 'block' : 'none';\n",
              "\n",
              "      async function convertToInteractive(key) {\n",
              "        const element = document.querySelector('#df-0c77a854-a415-4f8b-b4dc-7c03019bb8c9');\n",
              "        const dataTable =\n",
              "          await google.colab.kernel.invokeFunction('convertToInteractive',\n",
              "                                                    [key], {});\n",
              "        if (!dataTable) return;\n",
              "\n",
              "        const docLinkHtml = 'Like what you see? Visit the ' +\n",
              "          '<a target=\"_blank\" href=https://colab.research.google.com/notebooks/data_table.ipynb>data table notebook</a>'\n",
              "          + ' to learn more about interactive tables.';\n",
              "        element.innerHTML = '';\n",
              "        dataTable['output_type'] = 'display_data';\n",
              "        await google.colab.output.renderOutput(dataTable, element);\n",
              "        const docLink = document.createElement('div');\n",
              "        docLink.innerHTML = docLinkHtml;\n",
              "        element.appendChild(docLink);\n",
              "      }\n",
              "    </script>\n",
              "  </div>\n",
              "\n",
              "\n",
              "    <div id=\"df-b3d99339-e4f6-4851-8521-93d53094e5a5\">\n",
              "      <button class=\"colab-df-quickchart\" onclick=\"quickchart('df-b3d99339-e4f6-4851-8521-93d53094e5a5')\"\n",
              "                title=\"Suggest charts\"\n",
              "                style=\"display:none;\">\n",
              "\n",
              "<svg xmlns=\"http://www.w3.org/2000/svg\" height=\"24px\"viewBox=\"0 0 24 24\"\n",
              "     width=\"24px\">\n",
              "    <g>\n",
              "        <path d=\"M19 3H5c-1.1 0-2 .9-2 2v14c0 1.1.9 2 2 2h14c1.1 0 2-.9 2-2V5c0-1.1-.9-2-2-2zM9 17H7v-7h2v7zm4 0h-2V7h2v10zm4 0h-2v-4h2v4z\"/>\n",
              "    </g>\n",
              "</svg>\n",
              "      </button>\n",
              "\n",
              "<style>\n",
              "  .colab-df-quickchart {\n",
              "      --bg-color: #E8F0FE;\n",
              "      --fill-color: #1967D2;\n",
              "      --hover-bg-color: #E2EBFA;\n",
              "      --hover-fill-color: #174EA6;\n",
              "      --disabled-fill-color: #AAA;\n",
              "      --disabled-bg-color: #DDD;\n",
              "  }\n",
              "\n",
              "  [theme=dark] .colab-df-quickchart {\n",
              "      --bg-color: #3B4455;\n",
              "      --fill-color: #D2E3FC;\n",
              "      --hover-bg-color: #434B5C;\n",
              "      --hover-fill-color: #FFFFFF;\n",
              "      --disabled-bg-color: #3B4455;\n",
              "      --disabled-fill-color: #666;\n",
              "  }\n",
              "\n",
              "  .colab-df-quickchart {\n",
              "    background-color: var(--bg-color);\n",
              "    border: none;\n",
              "    border-radius: 50%;\n",
              "    cursor: pointer;\n",
              "    display: none;\n",
              "    fill: var(--fill-color);\n",
              "    height: 32px;\n",
              "    padding: 0;\n",
              "    width: 32px;\n",
              "  }\n",
              "\n",
              "  .colab-df-quickchart:hover {\n",
              "    background-color: var(--hover-bg-color);\n",
              "    box-shadow: 0 1px 2px rgba(60, 64, 67, 0.3), 0 1px 3px 1px rgba(60, 64, 67, 0.15);\n",
              "    fill: var(--button-hover-fill-color);\n",
              "  }\n",
              "\n",
              "  .colab-df-quickchart-complete:disabled,\n",
              "  .colab-df-quickchart-complete:disabled:hover {\n",
              "    background-color: var(--disabled-bg-color);\n",
              "    fill: var(--disabled-fill-color);\n",
              "    box-shadow: none;\n",
              "  }\n",
              "\n",
              "  .colab-df-spinner {\n",
              "    border: 2px solid var(--fill-color);\n",
              "    border-color: transparent;\n",
              "    border-bottom-color: var(--fill-color);\n",
              "    animation:\n",
              "      spin 1s steps(1) infinite;\n",
              "  }\n",
              "\n",
              "  @keyframes spin {\n",
              "    0% {\n",
              "      border-color: transparent;\n",
              "      border-bottom-color: var(--fill-color);\n",
              "      border-left-color: var(--fill-color);\n",
              "    }\n",
              "    20% {\n",
              "      border-color: transparent;\n",
              "      border-left-color: var(--fill-color);\n",
              "      border-top-color: var(--fill-color);\n",
              "    }\n",
              "    30% {\n",
              "      border-color: transparent;\n",
              "      border-left-color: var(--fill-color);\n",
              "      border-top-color: var(--fill-color);\n",
              "      border-right-color: var(--fill-color);\n",
              "    }\n",
              "    40% {\n",
              "      border-color: transparent;\n",
              "      border-right-color: var(--fill-color);\n",
              "      border-top-color: var(--fill-color);\n",
              "    }\n",
              "    60% {\n",
              "      border-color: transparent;\n",
              "      border-right-color: var(--fill-color);\n",
              "    }\n",
              "    80% {\n",
              "      border-color: transparent;\n",
              "      border-right-color: var(--fill-color);\n",
              "      border-bottom-color: var(--fill-color);\n",
              "    }\n",
              "    90% {\n",
              "      border-color: transparent;\n",
              "      border-bottom-color: var(--fill-color);\n",
              "    }\n",
              "  }\n",
              "</style>\n",
              "\n",
              "      <script>\n",
              "        async function quickchart(key) {\n",
              "          const quickchartButtonEl =\n",
              "            document.querySelector('#' + key + ' button');\n",
              "          quickchartButtonEl.disabled = true;  // To prevent multiple clicks.\n",
              "          quickchartButtonEl.classList.add('colab-df-spinner');\n",
              "          try {\n",
              "            const charts = await google.colab.kernel.invokeFunction(\n",
              "                'suggestCharts', [key], {});\n",
              "          } catch (error) {\n",
              "            console.error('Error during call to suggestCharts:', error);\n",
              "          }\n",
              "          quickchartButtonEl.classList.remove('colab-df-spinner');\n",
              "          quickchartButtonEl.classList.add('colab-df-quickchart-complete');\n",
              "        }\n",
              "        (() => {\n",
              "          let quickchartButtonEl =\n",
              "            document.querySelector('#df-b3d99339-e4f6-4851-8521-93d53094e5a5 button');\n",
              "          quickchartButtonEl.style.display =\n",
              "            google.colab.kernel.accessAllowed ? 'block' : 'none';\n",
              "        })();\n",
              "      </script>\n",
              "    </div>\n",
              "\n",
              "  <div id=\"id_7f3b834d-132d-48aa-9517-12dcecae7cb5\">\n",
              "    <style>\n",
              "      .colab-df-generate {\n",
              "        background-color: #E8F0FE;\n",
              "        border: none;\n",
              "        border-radius: 50%;\n",
              "        cursor: pointer;\n",
              "        display: none;\n",
              "        fill: #1967D2;\n",
              "        height: 32px;\n",
              "        padding: 0 0 0 0;\n",
              "        width: 32px;\n",
              "      }\n",
              "\n",
              "      .colab-df-generate:hover {\n",
              "        background-color: #E2EBFA;\n",
              "        box-shadow: 0px 1px 2px rgba(60, 64, 67, 0.3), 0px 1px 3px 1px rgba(60, 64, 67, 0.15);\n",
              "        fill: #174EA6;\n",
              "      }\n",
              "\n",
              "      [theme=dark] .colab-df-generate {\n",
              "        background-color: #3B4455;\n",
              "        fill: #D2E3FC;\n",
              "      }\n",
              "\n",
              "      [theme=dark] .colab-df-generate:hover {\n",
              "        background-color: #434B5C;\n",
              "        box-shadow: 0px 1px 3px 1px rgba(0, 0, 0, 0.15);\n",
              "        filter: drop-shadow(0px 1px 2px rgba(0, 0, 0, 0.3));\n",
              "        fill: #FFFFFF;\n",
              "      }\n",
              "    </style>\n",
              "    <button class=\"colab-df-generate\" onclick=\"generateWithVariable('df')\"\n",
              "            title=\"Generate code using this dataframe.\"\n",
              "            style=\"display:none;\">\n",
              "\n",
              "  <svg xmlns=\"http://www.w3.org/2000/svg\" height=\"24px\"viewBox=\"0 0 24 24\"\n",
              "       width=\"24px\">\n",
              "    <path d=\"M7,19H8.4L18.45,9,17,7.55,7,17.6ZM5,21V16.75L18.45,3.32a2,2,0,0,1,2.83,0l1.4,1.43a1.91,1.91,0,0,1,.58,1.4,1.91,1.91,0,0,1-.58,1.4L9.25,21ZM18.45,9,17,7.55Zm-12,3A5.31,5.31,0,0,0,4.9,8.1,5.31,5.31,0,0,0,1,6.5,5.31,5.31,0,0,0,4.9,4.9,5.31,5.31,0,0,0,6.5,1,5.31,5.31,0,0,0,8.1,4.9,5.31,5.31,0,0,0,12,6.5,5.46,5.46,0,0,0,6.5,12Z\"/>\n",
              "  </svg>\n",
              "    </button>\n",
              "    <script>\n",
              "      (() => {\n",
              "      const buttonEl =\n",
              "        document.querySelector('#id_7f3b834d-132d-48aa-9517-12dcecae7cb5 button.colab-df-generate');\n",
              "      buttonEl.style.display =\n",
              "        google.colab.kernel.accessAllowed ? 'block' : 'none';\n",
              "\n",
              "      buttonEl.onclick = () => {\n",
              "        google.colab.notebook.generateWithVariable('df');\n",
              "      }\n",
              "      })();\n",
              "    </script>\n",
              "  </div>\n",
              "\n",
              "    </div>\n",
              "  </div>\n"
            ],
            "application/vnd.google.colaboratory.intrinsic+json": {
              "type": "dataframe",
              "variable_name": "df",
              "summary": "{\n  \"name\": \"df\",\n  \"rows\": 2360,\n  \"fields\": [\n    {\n      \"column\": \"title\",\n      \"properties\": {\n        \"dtype\": \"string\",\n        \"num_unique_values\": 2341,\n        \"samples\": [\n          \"\\uc544\\uc774\\uc5b8\\ub9e8\",\n          \"\\ub7ec\\ube0c\\ub9ac\\uc2a4\",\n          \"\\ub9ac\\ubc14\\uc6b4\\ub4dc\"\n        ],\n        \"semantic_type\": \"\",\n        \"description\": \"\"\n      }\n    },\n    {\n      \"column\": \"review\",\n      \"properties\": {\n        \"dtype\": \"string\",\n        \"num_unique_values\": 2356,\n        \"samples\": [\n          \"\\ubd80\\ub044\\ub7ec\\uc6c0 \\ubaa8\\ub974\\ub294 \\uc774\\uc804 \\uc138\\ub300 \\uad8c\\ub825\\uc744 \\ud559\\uc0b4\\ud558\\ub2e4.\",\n          \"\\uc138\\uc6d4\\uc744 \\ub6f0\\uc5b4\\ub118\\uc5b4 \\ud750\\ub974\\ub294 \\ud64d\\ucf69 \\uba5c\\ub85c \\uc601\\ud654\\uc758 \\ubb49\\ud074\\ud55c \\ud48d\\uacbd\\ub4e4.\",\n          \"\\ubd80\\ubd80\\ub294 \\ubb34\\uc5c7\\uc73c\\ub85c \\uc0ac\\ub294\\uac00\\uc5d0 \\ub300\\ud55c \\uace0\\uc804\\uc801 \\ud574\\ub2f5.\"\n        ],\n        \"semantic_type\": \"\",\n        \"description\": \"\"\n      }\n    },\n    {\n      \"column\": \"rating\",\n      \"properties\": {\n        \"dtype\": \"number\",\n        \"std\": 0.8461782676044444,\n        \"min\": 1.0,\n        \"max\": 5.0,\n        \"num_unique_values\": 9,\n        \"samples\": [\n          1.5,\n          3.0,\n          5.0\n        ],\n        \"semantic_type\": \"\",\n        \"description\": \"\"\n      }\n    }\n  ]\n}"
            }
          },
          "metadata": {},
          "execution_count": 91
        }
      ]
    },
    {
      "cell_type": "code",
      "source": [
        "df.info() #Null 값 확인"
      ],
      "metadata": {
        "colab": {
          "base_uri": "https://localhost:8080/"
        },
        "id": "kz0Pqf-H3TEp",
        "outputId": "78b84f53-f939-4932-95e0-f9862908d1d4"
      },
      "execution_count": 92,
      "outputs": [
        {
          "output_type": "stream",
          "name": "stdout",
          "text": [
            "<class 'pandas.core.frame.DataFrame'>\n",
            "RangeIndex: 2360 entries, 0 to 2359\n",
            "Data columns (total 3 columns):\n",
            " #   Column  Non-Null Count  Dtype  \n",
            "---  ------  --------------  -----  \n",
            " 0   title   2360 non-null   object \n",
            " 1   review  2360 non-null   object \n",
            " 2   rating  2358 non-null   float64\n",
            "dtypes: float64(1), object(2)\n",
            "memory usage: 55.4+ KB\n"
          ]
        }
      ]
    },
    {
      "cell_type": "code",
      "source": [
        "df.dropna(axis=0, inplace=True) # Null이 있는 행 제거, 옛날 영화인 벤허, 티파니에서 아침을 제거"
      ],
      "metadata": {
        "id": "ZQ_iGwIf3Y6q"
      },
      "execution_count": 93,
      "outputs": []
    },
    {
      "cell_type": "code",
      "source": [
        "df.info() #Null 값 확인"
      ],
      "metadata": {
        "colab": {
          "base_uri": "https://localhost:8080/"
        },
        "id": "6ONARuJh3nJL",
        "outputId": "41919049-6e1c-4028-8b17-bad3dde4954b"
      },
      "execution_count": 94,
      "outputs": [
        {
          "output_type": "stream",
          "name": "stdout",
          "text": [
            "<class 'pandas.core.frame.DataFrame'>\n",
            "Index: 2358 entries, 0 to 2359\n",
            "Data columns (total 3 columns):\n",
            " #   Column  Non-Null Count  Dtype  \n",
            "---  ------  --------------  -----  \n",
            " 0   title   2358 non-null   object \n",
            " 1   review  2358 non-null   object \n",
            " 2   rating  2358 non-null   float64\n",
            "dtypes: float64(1), object(2)\n",
            "memory usage: 73.7+ KB\n"
          ]
        }
      ]
    },
    {
      "cell_type": "code",
      "source": [
        "# 정규식 활용한 텍스트 파일 전처리하기(글 외에 다른 문자 제거)\n",
        "df['review'] = df['review'].str.replace('[^가-힣 ]','', regex=True)\n",
        "df['review'] = df['review'].str.strip()"
      ],
      "metadata": {
        "id": "kZScUHUYEnTl"
      },
      "execution_count": 95,
      "outputs": []
    },
    {
      "cell_type": "code",
      "source": [
        "df"
      ],
      "metadata": {
        "colab": {
          "base_uri": "https://localhost:8080/",
          "height": 424
        },
        "id": "CY0586ZNFK_T",
        "outputId": "cea3a669-9b07-4e71-f657-01d3c39f81fd"
      },
      "execution_count": 96,
      "outputs": [
        {
          "output_type": "execute_result",
          "data": {
            "text/plain": [
              "                        title                                     review  \\\n",
              "0                      올파의 딸들                         극단주의는 어떤 토양에서 자라는가   \n",
              "1                          로비  독기와 재기를 품은 말들이 서로를 찔러가며 리드미컬하게 필드 위를 굴러간다   \n",
              "2                         헤레틱                길고 긴 독백의 지적인 대사를 배우가 체화하는 법   \n",
              "3                      그랜드 투어                   풍경들 사이로 미끄러져 흘러간 시네마의 몽환   \n",
              "4                          승부               전설적인 순간을 고스란히 살려낸 배우들이 감탄스럽다   \n",
              "...                       ...                                        ...   \n",
              "2355                   아이언맨 3                 볼거리든 메시지든 명확히 핵심을 담아낼 줄 안다   \n",
              "2356            반지의 제왕: 왕의 귀환                           덕분에 지난 년간 행복했습니다   \n",
              "2357                   다크 나이트               내러티브와 스타일을 완벽히 장악한 자의 눈부신 활공   \n",
              "2358             혹성탈출: 진화의 시작               블록버스터에서도 이렇게 훌륭한 심리 묘사가 가능하다   \n",
              "2359  나니아 연대기 - 사자, 마녀 그리고 옷장              돌이켜보면 반지의 제왕은 정말 뛰어난 판타지 영화였어   \n",
              "\n",
              "      rating  \n",
              "0        3.5  \n",
              "1        3.0  \n",
              "2        3.0  \n",
              "3        4.0  \n",
              "4        3.0  \n",
              "...      ...  \n",
              "2355     3.5  \n",
              "2356     5.0  \n",
              "2357     5.0  \n",
              "2358     4.5  \n",
              "2359     3.0  \n",
              "\n",
              "[2358 rows x 3 columns]"
            ],
            "text/html": [
              "\n",
              "  <div id=\"df-c8cb62c1-9099-4181-a16d-a02ac4967291\" class=\"colab-df-container\">\n",
              "    <div>\n",
              "<style scoped>\n",
              "    .dataframe tbody tr th:only-of-type {\n",
              "        vertical-align: middle;\n",
              "    }\n",
              "\n",
              "    .dataframe tbody tr th {\n",
              "        vertical-align: top;\n",
              "    }\n",
              "\n",
              "    .dataframe thead th {\n",
              "        text-align: right;\n",
              "    }\n",
              "</style>\n",
              "<table border=\"1\" class=\"dataframe\">\n",
              "  <thead>\n",
              "    <tr style=\"text-align: right;\">\n",
              "      <th></th>\n",
              "      <th>title</th>\n",
              "      <th>review</th>\n",
              "      <th>rating</th>\n",
              "    </tr>\n",
              "  </thead>\n",
              "  <tbody>\n",
              "    <tr>\n",
              "      <th>0</th>\n",
              "      <td>올파의 딸들</td>\n",
              "      <td>극단주의는 어떤 토양에서 자라는가</td>\n",
              "      <td>3.5</td>\n",
              "    </tr>\n",
              "    <tr>\n",
              "      <th>1</th>\n",
              "      <td>로비</td>\n",
              "      <td>독기와 재기를 품은 말들이 서로를 찔러가며 리드미컬하게 필드 위를 굴러간다</td>\n",
              "      <td>3.0</td>\n",
              "    </tr>\n",
              "    <tr>\n",
              "      <th>2</th>\n",
              "      <td>헤레틱</td>\n",
              "      <td>길고 긴 독백의 지적인 대사를 배우가 체화하는 법</td>\n",
              "      <td>3.0</td>\n",
              "    </tr>\n",
              "    <tr>\n",
              "      <th>3</th>\n",
              "      <td>그랜드 투어</td>\n",
              "      <td>풍경들 사이로 미끄러져 흘러간 시네마의 몽환</td>\n",
              "      <td>4.0</td>\n",
              "    </tr>\n",
              "    <tr>\n",
              "      <th>4</th>\n",
              "      <td>승부</td>\n",
              "      <td>전설적인 순간을 고스란히 살려낸 배우들이 감탄스럽다</td>\n",
              "      <td>3.0</td>\n",
              "    </tr>\n",
              "    <tr>\n",
              "      <th>...</th>\n",
              "      <td>...</td>\n",
              "      <td>...</td>\n",
              "      <td>...</td>\n",
              "    </tr>\n",
              "    <tr>\n",
              "      <th>2355</th>\n",
              "      <td>아이언맨 3</td>\n",
              "      <td>볼거리든 메시지든 명확히 핵심을 담아낼 줄 안다</td>\n",
              "      <td>3.5</td>\n",
              "    </tr>\n",
              "    <tr>\n",
              "      <th>2356</th>\n",
              "      <td>반지의 제왕: 왕의 귀환</td>\n",
              "      <td>덕분에 지난 년간 행복했습니다</td>\n",
              "      <td>5.0</td>\n",
              "    </tr>\n",
              "    <tr>\n",
              "      <th>2357</th>\n",
              "      <td>다크 나이트</td>\n",
              "      <td>내러티브와 스타일을 완벽히 장악한 자의 눈부신 활공</td>\n",
              "      <td>5.0</td>\n",
              "    </tr>\n",
              "    <tr>\n",
              "      <th>2358</th>\n",
              "      <td>혹성탈출: 진화의 시작</td>\n",
              "      <td>블록버스터에서도 이렇게 훌륭한 심리 묘사가 가능하다</td>\n",
              "      <td>4.5</td>\n",
              "    </tr>\n",
              "    <tr>\n",
              "      <th>2359</th>\n",
              "      <td>나니아 연대기 - 사자, 마녀 그리고 옷장</td>\n",
              "      <td>돌이켜보면 반지의 제왕은 정말 뛰어난 판타지 영화였어</td>\n",
              "      <td>3.0</td>\n",
              "    </tr>\n",
              "  </tbody>\n",
              "</table>\n",
              "<p>2358 rows × 3 columns</p>\n",
              "</div>\n",
              "    <div class=\"colab-df-buttons\">\n",
              "\n",
              "  <div class=\"colab-df-container\">\n",
              "    <button class=\"colab-df-convert\" onclick=\"convertToInteractive('df-c8cb62c1-9099-4181-a16d-a02ac4967291')\"\n",
              "            title=\"Convert this dataframe to an interactive table.\"\n",
              "            style=\"display:none;\">\n",
              "\n",
              "  <svg xmlns=\"http://www.w3.org/2000/svg\" height=\"24px\" viewBox=\"0 -960 960 960\">\n",
              "    <path d=\"M120-120v-720h720v720H120Zm60-500h600v-160H180v160Zm220 220h160v-160H400v160Zm0 220h160v-160H400v160ZM180-400h160v-160H180v160Zm440 0h160v-160H620v160ZM180-180h160v-160H180v160Zm440 0h160v-160H620v160Z\"/>\n",
              "  </svg>\n",
              "    </button>\n",
              "\n",
              "  <style>\n",
              "    .colab-df-container {\n",
              "      display:flex;\n",
              "      gap: 12px;\n",
              "    }\n",
              "\n",
              "    .colab-df-convert {\n",
              "      background-color: #E8F0FE;\n",
              "      border: none;\n",
              "      border-radius: 50%;\n",
              "      cursor: pointer;\n",
              "      display: none;\n",
              "      fill: #1967D2;\n",
              "      height: 32px;\n",
              "      padding: 0 0 0 0;\n",
              "      width: 32px;\n",
              "    }\n",
              "\n",
              "    .colab-df-convert:hover {\n",
              "      background-color: #E2EBFA;\n",
              "      box-shadow: 0px 1px 2px rgba(60, 64, 67, 0.3), 0px 1px 3px 1px rgba(60, 64, 67, 0.15);\n",
              "      fill: #174EA6;\n",
              "    }\n",
              "\n",
              "    .colab-df-buttons div {\n",
              "      margin-bottom: 4px;\n",
              "    }\n",
              "\n",
              "    [theme=dark] .colab-df-convert {\n",
              "      background-color: #3B4455;\n",
              "      fill: #D2E3FC;\n",
              "    }\n",
              "\n",
              "    [theme=dark] .colab-df-convert:hover {\n",
              "      background-color: #434B5C;\n",
              "      box-shadow: 0px 1px 3px 1px rgba(0, 0, 0, 0.15);\n",
              "      filter: drop-shadow(0px 1px 2px rgba(0, 0, 0, 0.3));\n",
              "      fill: #FFFFFF;\n",
              "    }\n",
              "  </style>\n",
              "\n",
              "    <script>\n",
              "      const buttonEl =\n",
              "        document.querySelector('#df-c8cb62c1-9099-4181-a16d-a02ac4967291 button.colab-df-convert');\n",
              "      buttonEl.style.display =\n",
              "        google.colab.kernel.accessAllowed ? 'block' : 'none';\n",
              "\n",
              "      async function convertToInteractive(key) {\n",
              "        const element = document.querySelector('#df-c8cb62c1-9099-4181-a16d-a02ac4967291');\n",
              "        const dataTable =\n",
              "          await google.colab.kernel.invokeFunction('convertToInteractive',\n",
              "                                                    [key], {});\n",
              "        if (!dataTable) return;\n",
              "\n",
              "        const docLinkHtml = 'Like what you see? Visit the ' +\n",
              "          '<a target=\"_blank\" href=https://colab.research.google.com/notebooks/data_table.ipynb>data table notebook</a>'\n",
              "          + ' to learn more about interactive tables.';\n",
              "        element.innerHTML = '';\n",
              "        dataTable['output_type'] = 'display_data';\n",
              "        await google.colab.output.renderOutput(dataTable, element);\n",
              "        const docLink = document.createElement('div');\n",
              "        docLink.innerHTML = docLinkHtml;\n",
              "        element.appendChild(docLink);\n",
              "      }\n",
              "    </script>\n",
              "  </div>\n",
              "\n",
              "\n",
              "    <div id=\"df-187201d9-010a-4f72-80fe-4cfb6f7f0e16\">\n",
              "      <button class=\"colab-df-quickchart\" onclick=\"quickchart('df-187201d9-010a-4f72-80fe-4cfb6f7f0e16')\"\n",
              "                title=\"Suggest charts\"\n",
              "                style=\"display:none;\">\n",
              "\n",
              "<svg xmlns=\"http://www.w3.org/2000/svg\" height=\"24px\"viewBox=\"0 0 24 24\"\n",
              "     width=\"24px\">\n",
              "    <g>\n",
              "        <path d=\"M19 3H5c-1.1 0-2 .9-2 2v14c0 1.1.9 2 2 2h14c1.1 0 2-.9 2-2V5c0-1.1-.9-2-2-2zM9 17H7v-7h2v7zm4 0h-2V7h2v10zm4 0h-2v-4h2v4z\"/>\n",
              "    </g>\n",
              "</svg>\n",
              "      </button>\n",
              "\n",
              "<style>\n",
              "  .colab-df-quickchart {\n",
              "      --bg-color: #E8F0FE;\n",
              "      --fill-color: #1967D2;\n",
              "      --hover-bg-color: #E2EBFA;\n",
              "      --hover-fill-color: #174EA6;\n",
              "      --disabled-fill-color: #AAA;\n",
              "      --disabled-bg-color: #DDD;\n",
              "  }\n",
              "\n",
              "  [theme=dark] .colab-df-quickchart {\n",
              "      --bg-color: #3B4455;\n",
              "      --fill-color: #D2E3FC;\n",
              "      --hover-bg-color: #434B5C;\n",
              "      --hover-fill-color: #FFFFFF;\n",
              "      --disabled-bg-color: #3B4455;\n",
              "      --disabled-fill-color: #666;\n",
              "  }\n",
              "\n",
              "  .colab-df-quickchart {\n",
              "    background-color: var(--bg-color);\n",
              "    border: none;\n",
              "    border-radius: 50%;\n",
              "    cursor: pointer;\n",
              "    display: none;\n",
              "    fill: var(--fill-color);\n",
              "    height: 32px;\n",
              "    padding: 0;\n",
              "    width: 32px;\n",
              "  }\n",
              "\n",
              "  .colab-df-quickchart:hover {\n",
              "    background-color: var(--hover-bg-color);\n",
              "    box-shadow: 0 1px 2px rgba(60, 64, 67, 0.3), 0 1px 3px 1px rgba(60, 64, 67, 0.15);\n",
              "    fill: var(--button-hover-fill-color);\n",
              "  }\n",
              "\n",
              "  .colab-df-quickchart-complete:disabled,\n",
              "  .colab-df-quickchart-complete:disabled:hover {\n",
              "    background-color: var(--disabled-bg-color);\n",
              "    fill: var(--disabled-fill-color);\n",
              "    box-shadow: none;\n",
              "  }\n",
              "\n",
              "  .colab-df-spinner {\n",
              "    border: 2px solid var(--fill-color);\n",
              "    border-color: transparent;\n",
              "    border-bottom-color: var(--fill-color);\n",
              "    animation:\n",
              "      spin 1s steps(1) infinite;\n",
              "  }\n",
              "\n",
              "  @keyframes spin {\n",
              "    0% {\n",
              "      border-color: transparent;\n",
              "      border-bottom-color: var(--fill-color);\n",
              "      border-left-color: var(--fill-color);\n",
              "    }\n",
              "    20% {\n",
              "      border-color: transparent;\n",
              "      border-left-color: var(--fill-color);\n",
              "      border-top-color: var(--fill-color);\n",
              "    }\n",
              "    30% {\n",
              "      border-color: transparent;\n",
              "      border-left-color: var(--fill-color);\n",
              "      border-top-color: var(--fill-color);\n",
              "      border-right-color: var(--fill-color);\n",
              "    }\n",
              "    40% {\n",
              "      border-color: transparent;\n",
              "      border-right-color: var(--fill-color);\n",
              "      border-top-color: var(--fill-color);\n",
              "    }\n",
              "    60% {\n",
              "      border-color: transparent;\n",
              "      border-right-color: var(--fill-color);\n",
              "    }\n",
              "    80% {\n",
              "      border-color: transparent;\n",
              "      border-right-color: var(--fill-color);\n",
              "      border-bottom-color: var(--fill-color);\n",
              "    }\n",
              "    90% {\n",
              "      border-color: transparent;\n",
              "      border-bottom-color: var(--fill-color);\n",
              "    }\n",
              "  }\n",
              "</style>\n",
              "\n",
              "      <script>\n",
              "        async function quickchart(key) {\n",
              "          const quickchartButtonEl =\n",
              "            document.querySelector('#' + key + ' button');\n",
              "          quickchartButtonEl.disabled = true;  // To prevent multiple clicks.\n",
              "          quickchartButtonEl.classList.add('colab-df-spinner');\n",
              "          try {\n",
              "            const charts = await google.colab.kernel.invokeFunction(\n",
              "                'suggestCharts', [key], {});\n",
              "          } catch (error) {\n",
              "            console.error('Error during call to suggestCharts:', error);\n",
              "          }\n",
              "          quickchartButtonEl.classList.remove('colab-df-spinner');\n",
              "          quickchartButtonEl.classList.add('colab-df-quickchart-complete');\n",
              "        }\n",
              "        (() => {\n",
              "          let quickchartButtonEl =\n",
              "            document.querySelector('#df-187201d9-010a-4f72-80fe-4cfb6f7f0e16 button');\n",
              "          quickchartButtonEl.style.display =\n",
              "            google.colab.kernel.accessAllowed ? 'block' : 'none';\n",
              "        })();\n",
              "      </script>\n",
              "    </div>\n",
              "\n",
              "  <div id=\"id_e63decb2-e79c-42fa-9a42-708b512ef82e\">\n",
              "    <style>\n",
              "      .colab-df-generate {\n",
              "        background-color: #E8F0FE;\n",
              "        border: none;\n",
              "        border-radius: 50%;\n",
              "        cursor: pointer;\n",
              "        display: none;\n",
              "        fill: #1967D2;\n",
              "        height: 32px;\n",
              "        padding: 0 0 0 0;\n",
              "        width: 32px;\n",
              "      }\n",
              "\n",
              "      .colab-df-generate:hover {\n",
              "        background-color: #E2EBFA;\n",
              "        box-shadow: 0px 1px 2px rgba(60, 64, 67, 0.3), 0px 1px 3px 1px rgba(60, 64, 67, 0.15);\n",
              "        fill: #174EA6;\n",
              "      }\n",
              "\n",
              "      [theme=dark] .colab-df-generate {\n",
              "        background-color: #3B4455;\n",
              "        fill: #D2E3FC;\n",
              "      }\n",
              "\n",
              "      [theme=dark] .colab-df-generate:hover {\n",
              "        background-color: #434B5C;\n",
              "        box-shadow: 0px 1px 3px 1px rgba(0, 0, 0, 0.15);\n",
              "        filter: drop-shadow(0px 1px 2px rgba(0, 0, 0, 0.3));\n",
              "        fill: #FFFFFF;\n",
              "      }\n",
              "    </style>\n",
              "    <button class=\"colab-df-generate\" onclick=\"generateWithVariable('df')\"\n",
              "            title=\"Generate code using this dataframe.\"\n",
              "            style=\"display:none;\">\n",
              "\n",
              "  <svg xmlns=\"http://www.w3.org/2000/svg\" height=\"24px\"viewBox=\"0 0 24 24\"\n",
              "       width=\"24px\">\n",
              "    <path d=\"M7,19H8.4L18.45,9,17,7.55,7,17.6ZM5,21V16.75L18.45,3.32a2,2,0,0,1,2.83,0l1.4,1.43a1.91,1.91,0,0,1,.58,1.4,1.91,1.91,0,0,1-.58,1.4L9.25,21ZM18.45,9,17,7.55Zm-12,3A5.31,5.31,0,0,0,4.9,8.1,5.31,5.31,0,0,0,1,6.5,5.31,5.31,0,0,0,4.9,4.9,5.31,5.31,0,0,0,6.5,1,5.31,5.31,0,0,0,8.1,4.9,5.31,5.31,0,0,0,12,6.5,5.46,5.46,0,0,0,6.5,12Z\"/>\n",
              "  </svg>\n",
              "    </button>\n",
              "    <script>\n",
              "      (() => {\n",
              "      const buttonEl =\n",
              "        document.querySelector('#id_e63decb2-e79c-42fa-9a42-708b512ef82e button.colab-df-generate');\n",
              "      buttonEl.style.display =\n",
              "        google.colab.kernel.accessAllowed ? 'block' : 'none';\n",
              "\n",
              "      buttonEl.onclick = () => {\n",
              "        google.colab.notebook.generateWithVariable('df');\n",
              "      }\n",
              "      })();\n",
              "    </script>\n",
              "  </div>\n",
              "\n",
              "    </div>\n",
              "  </div>\n"
            ],
            "application/vnd.google.colaboratory.intrinsic+json": {
              "type": "dataframe",
              "variable_name": "df",
              "summary": "{\n  \"name\": \"df\",\n  \"rows\": 2358,\n  \"fields\": [\n    {\n      \"column\": \"title\",\n      \"properties\": {\n        \"dtype\": \"string\",\n        \"num_unique_values\": 2340,\n        \"samples\": [\n          \"\\ubc94\\uc8c4\\ub3c4\\uc2dc3\",\n          \"\\uac70\\ubd81\\uc774 \\ub2ec\\ub9b0\\ub2e4\",\n          \"\\uc228\\ubc14\\uaf2d\\uc9c8\"\n        ],\n        \"semantic_type\": \"\",\n        \"description\": \"\"\n      }\n    },\n    {\n      \"column\": \"review\",\n      \"properties\": {\n        \"dtype\": \"string\",\n        \"num_unique_values\": 2354,\n        \"samples\": [\n          \"\\ud6e8\\uc52c \\ub354 \\uc798 \\ub9cc\\ub4e4 \\uc218 \\uc788\\uc5c8\\ub358 \\uc601\\ud654 \\uc544\\uc27d\\uac8c\\ub3c4\",\n          \"\\ubcc4\\ub85c \\ub04c\\ub9ac\\uc9c0 \\uc54a\\uc544\\ub3c4 \\ub9c9\\uc0c1 \\uc811\\ud574\\ubcf4\\uba74 \\ub610 \\uadf8\\ub7ed\\uc800\\ub7ed \\uad1c\\ucc2e\\uac8c \\ub290\\ub07c\\ub3c4\\ub85d \\ub9cc\\ub4dc\\ub294 \\ub514\\uc988\\ub2c8\\uc758 \\uacf5\\uc815\\uad00\\ub9ac\",\n          \"\\uadf8\\ubb3c\\uc5d0 \\uac78\\ub9ac\\uc9c0 \\uc54a\\ub294 \\ubc14\\ub78c\\ucc98\\ub7fc \\ubb34\\uc18c\\uc758 \\ubfd4\\ucc98\\ub7fc \\ud63c\\uc790\\uc11c \\uac00\\ub2e4\"\n        ],\n        \"semantic_type\": \"\",\n        \"description\": \"\"\n      }\n    },\n    {\n      \"column\": \"rating\",\n      \"properties\": {\n        \"dtype\": \"number\",\n        \"std\": 0.8461782676044444,\n        \"min\": 1.0,\n        \"max\": 5.0,\n        \"num_unique_values\": 9,\n        \"samples\": [\n          1.5,\n          3.0,\n          5.0\n        ],\n        \"semantic_type\": \"\",\n        \"description\": \"\"\n      }\n    }\n  ]\n}"
            }
          },
          "metadata": {},
          "execution_count": 96
        }
      ]
    },
    {
      "cell_type": "code",
      "source": [
        "#**※ TfidfVectorizer, RandomForestClassifier 활용한 분류 모델**\n",
        "from sklearn.ensemble import RandomForestClassifier\n",
        "from sklearn.metrics import accuracy_score\n",
        "from sklearn.feature_extraction.text import TfidfVectorizer\n",
        "from sklearn.model_selection import train_test_split\n",
        "vectorizer = TfidfVectorizer(max_features=5000)\n",
        "\n",
        "df['rating_scaled'] = (df['rating'] * 2).astype(int)\n",
        "X = vectorizer.fit_transform(df['review'])\n",
        "y = df['rating_scaled']\n",
        "\n",
        "X_train, X_test, y_train, y_test = train_test_split(X, y, test_size=0.2, random_state=42)\n",
        "\n",
        "clf = RandomForestClassifier()\n",
        "clf.fit(X_train, y_train)\n",
        "\n",
        "y_pred = clf.predict(X_test)\n",
        "acc = accuracy_score(y_test, y_pred)\n",
        "print(f\"Accuracy: {acc:.2%}\")"
      ],
      "metadata": {
        "colab": {
          "base_uri": "https://localhost:8080/"
        },
        "id": "p8AW73sT0FGl",
        "outputId": "b756f693-d120-464f-a555-3d79e860bb38"
      },
      "execution_count": 98,
      "outputs": [
        {
          "output_type": "stream",
          "name": "stdout",
          "text": [
            "Accuracy: 25.00%\n"
          ]
        }
      ]
    },
    {
      "cell_type": "code",
      "source": [
        "#25년 4월 28일 새롭게 추가된 이동진 평론가 평 4개를 예측\n",
        "new_reviews = [\n",
        "  \"빛이 있으라, 그러자 영화는 꿈꾸기 시작했다.\",\n",
        "  \"끝을 치러내면서 다시 시작하는 거울의 마술.\",\n",
        "  \"오르락내리락 흥얼흥얼 평화로운 리듬에 느긋하게 젖는다.\",\n",
        "  \"착상으로는 무척이나 신선한 실험, 감흥으로는 자꾸 밀어내는 구현.\"\n",
        "]\n",
        "\n",
        "# TF-IDF로 벡터화 후\n",
        "new_X_clf = vectorizer.transform(new_reviews)\n",
        "\n",
        "# 회귀 모델로 예측\n",
        "predicted_ratings = clf.predict(new_X_clf) / 2  # 스케일링 복구 (0~5점)\n",
        "print(\"예상 별점:\", predicted_ratings)\n",
        "print(\"실제 별점: [4.5, 4, 3, 3]\")"
      ],
      "metadata": {
        "colab": {
          "base_uri": "https://localhost:8080/"
        },
        "id": "IY5ssobMt5y_",
        "outputId": "4cb79bbb-e71c-4522-908f-48e918d99738"
      },
      "execution_count": 108,
      "outputs": [
        {
          "output_type": "stream",
          "name": "stdout",
          "text": [
            "예상 별점: [3.5 3.5 2.5 3. ]\n",
            "실제 별점: [4.5, 4, 3, 3]\n"
          ]
        }
      ]
    },
    {
      "cell_type": "code",
      "source": [
        "#**※ TfidfVectorizer, RandomForestREgressor 활용한 회귀 모델**\n",
        "from sklearn.ensemble import RandomForestRegressor\n",
        "from sklearn.metrics import mean_squared_error\n",
        "from sklearn.feature_extraction.text import TfidfVectorizer\n",
        "from sklearn.model_selection import train_test_split\n",
        "\n",
        "# 1. TF-IDF 변환\n",
        "vectorizer = TfidfVectorizer(max_features=5000)\n",
        "\n",
        "# 2. 별점 스케일 변환 (1.0 ~ 5.0을 2배 → 2 ~ 10으로)\n",
        "df['rating_scaled'] = (df['rating'] * 2).astype(float)\n",
        "\n",
        "# 3. 데이터 준비\n",
        "X = vectorizer.fit_transform(df['review'])\n",
        "y = df['rating_scaled']\n",
        "\n",
        "# 4. Train/Test split\n",
        "X_train, X_test, y_train, y_test = train_test_split(X, y, test_size=0.2, random_state=42)\n",
        "\n",
        "# 5. 모델: RandomForestRegressor 사용\n",
        "regressor = RandomForestRegressor()\n",
        "regressor.fit(X_train, y_train)\n",
        "\n",
        "# 6. 예측\n",
        "y_pred = regressor.predict(X_test)\n",
        "\n",
        "# 7. 평가\n",
        "mse = mean_squared_error(y_test, y_pred)\n",
        "print(f\"MSE: {mse:.4f}\")\n",
        "print(f\"RMSE: {mse**0.5:.4f}\")"
      ],
      "metadata": {
        "colab": {
          "base_uri": "https://localhost:8080/"
        },
        "id": "eSnIQW-lsgNY",
        "outputId": "ff86e5e7-3322-4291-b035-72c8069a416f"
      },
      "execution_count": 113,
      "outputs": [
        {
          "output_type": "stream",
          "name": "stdout",
          "text": [
            "MSE: 2.5760\n",
            "RMSE: 1.6050\n"
          ]
        }
      ]
    },
    {
      "cell_type": "code",
      "source": [
        "#25년 4월 28일 새롭게 추가된 이동진 평론가 평 4개를 예측\n",
        "new_reviews = [\n",
        "  \"빛이 있으라, 그러자 영화는 꿈꾸기 시작했다.\",\n",
        "  \"끝을 치러내면서 다시 시작하는 거울의 마술.\",\n",
        "  \"오르락내리락 흥얼흥얼 평화로운 리듬에 느긋하게 젖는다.\",\n",
        "  \"착상으로는 무척이나 신선한 실험, 감흥으로는 자꾸 밀어내는 구현.\"\n",
        "]\n",
        "\n",
        "\n",
        "# TF-IDF로 벡터화 후\n",
        "new_X_reg = vectorizer.transform(new_reviews)\n",
        "\n",
        "# 회귀 모델로 예측\n",
        "predicted_ratings = regressor.predict(new_X_reg) / 2  # 스케일링 복구 (0~5점)\n",
        "\n",
        "print(predicted_ratings)\n",
        "print(\"실제 별점: [4.5, 4, 3, 3]\")"
      ],
      "metadata": {
        "colab": {
          "base_uri": "https://localhost:8080/"
        },
        "id": "8C0TU8VMtyli",
        "outputId": "61c1df46-33da-489b-9f11-647c8d52735c"
      },
      "execution_count": 115,
      "outputs": [
        {
          "output_type": "stream",
          "name": "stdout",
          "text": [
            "[3.38946498 3.09493897 3.09436747 2.3905837 ]\n",
            "실제 별점: [4.5, 4, 3, 3]\n"
          ]
        }
      ]
    },
    {
      "cell_type": "code",
      "source": [
        "X_dense = X.toarray()\n",
        "\n",
        "# DataFrame으로 보기 좋게 변환 (상위 10개의 샘플만)\n",
        "X_df = pd.DataFrame(X_dense[:10], columns=vectorizer.get_feature_names_out())\n",
        "print(X_df.head())"
      ],
      "metadata": {
        "colab": {
          "base_uri": "https://localhost:8080/"
        },
        "id": "7uGkl3si2yci",
        "outputId": "d138652a-a7c6-4e2c-b901-ffd011bb78b9"
      },
      "execution_count": 117,
      "outputs": [
        {
          "output_type": "stream",
          "name": "stdout",
          "text": [
            "    가고  가까운   가끔  가끔은  가냐고  가녀린   가는  가는지  가능성의  가능하다  ...   힐링  힘겨운  힘겹게  \\\n",
            "0  0.0  0.0  0.0  0.0  0.0  0.0  0.0  0.0   0.0   0.0  ...  0.0  0.0  0.0   \n",
            "1  0.0  0.0  0.0  0.0  0.0  0.0  0.0  0.0   0.0   0.0  ...  0.0  0.0  0.0   \n",
            "2  0.0  0.0  0.0  0.0  0.0  0.0  0.0  0.0   0.0   0.0  ...  0.0  0.0  0.0   \n",
            "3  0.0  0.0  0.0  0.0  0.0  0.0  0.0  0.0   0.0   0.0  ...  0.0  0.0  0.0   \n",
            "4  0.0  0.0  0.0  0.0  0.0  0.0  0.0  0.0   0.0   0.0  ...  0.0  0.0  0.0   \n",
            "\n",
            "    힘과   힘든   힘에   힘은   힘을   힘이  힘차게  \n",
            "0  0.0  0.0  0.0  0.0  0.0  0.0  0.0  \n",
            "1  0.0  0.0  0.0  0.0  0.0  0.0  0.0  \n",
            "2  0.0  0.0  0.0  0.0  0.0  0.0  0.0  \n",
            "3  0.0  0.0  0.0  0.0  0.0  0.0  0.0  \n",
            "4  0.0  0.0  0.0  0.0  0.0  0.0  0.0  \n",
            "\n",
            "[5 rows x 5000 columns]\n"
          ]
        }
      ]
    },
    {
      "cell_type": "code",
      "source": [
        "#CountVectorizer를 통해서도 모델링 가능\n",
        "from sklearn.feature_extraction.text import CountVectorizer\n",
        "from sklearn.model_selection import train_test_split\n",
        "\n",
        "vectorizer = CountVectorizer()\n",
        "X = vectorizer.fit_transform(df['review'])\n",
        "print(f\"Total unique words in dataset: {len(vectorizer.get_feature_names_out())}\")\n",
        "\n",
        "features = df['review'].values\n",
        "labels = df['rating_scaled'].values\n",
        "features.shape, labels.shape\n",
        "\n",
        "\n",
        "# 1. 텍스트를 벡터화\n",
        "vectorizer = CountVectorizer()\n",
        "X = vectorizer.fit_transform(df['review'])\n",
        "\n",
        "print(f\"유니크한 단어: {len(vectorizer.get_feature_names_out())}\")\n",
        "\n",
        "# 2. 레이블 준비\n",
        "labels = df['rating_scaled'].values\n",
        "\n",
        "# 3. 벡터화된 데이터(X)와 레이블(labels)을 train/test로 분리\n",
        "X_train, X_test, y_train, y_test = train_test_split(X, labels, test_size=0.2, stratify=labels, random_state=42)\n",
        "\n",
        "# 4. 모델: RandomForestRegressor 사용\n",
        "regressor = RandomForestRegressor()\n",
        "regressor.fit(X_train, y_train)\n",
        "\n",
        "# 5. 예측\n",
        "y_pred = regressor.predict(X_test)\n",
        "\n",
        "# 6. 평가\n",
        "mse = mean_squared_error(y_test, y_pred)\n",
        "print(f\"MSE: {mse:.4f}\")\n",
        "print(f\"RMSE: {mse**0.5:.4f}\")"
      ],
      "metadata": {
        "colab": {
          "base_uri": "https://localhost:8080/"
        },
        "id": "1sE1WV2W5p8x",
        "outputId": "1e5d2367-c136-46b1-f4bd-08be59eb875d"
      },
      "execution_count": 118,
      "outputs": [
        {
          "output_type": "stream",
          "name": "stdout",
          "text": [
            "Total unique words in dataset: 8974\n",
            "유니크한 단어: 8974\n",
            "MSE: 2.8359\n",
            "RMSE: 1.6840\n"
          ]
        }
      ]
    },
    {
      "cell_type": "code",
      "source": [
        "print(X)"
      ],
      "metadata": {
        "colab": {
          "base_uri": "https://localhost:8080/"
        },
        "id": "uHoNsanGvtVQ",
        "outputId": "970ccab0-0729-4a19-e442-b476ed7e1bf8"
      },
      "execution_count": 119,
      "outputs": [
        {
          "output_type": "stream",
          "name": "stdout",
          "text": [
            "<Compressed Sparse Row sparse matrix of dtype 'int64'\n",
            "\twith 14670 stored elements and shape (2358, 8974)>\n",
            "  Coords\tValues\n",
            "  (0, 875)\t1\n",
            "  (0, 5259)\t1\n",
            "  (0, 7962)\t1\n",
            "  (0, 6544)\t1\n",
            "  (1, 1879)\t1\n",
            "  (1, 6736)\t1\n",
            "  (1, 8238)\t1\n",
            "  (1, 2490)\t1\n",
            "  (1, 4078)\t1\n",
            "  (1, 7458)\t1\n",
            "  (1, 2323)\t1\n",
            "  (1, 8333)\t1\n",
            "  (1, 6008)\t1\n",
            "  (1, 750)\t1\n",
            "  (2, 1000)\t1\n",
            "  (2, 1883)\t1\n",
            "  (2, 7300)\t1\n",
            "  (2, 1754)\t1\n",
            "  (2, 3236)\t1\n",
            "  (2, 7609)\t1\n",
            "  (3, 8245)\t1\n",
            "  (3, 3865)\t1\n",
            "  (3, 2971)\t1\n",
            "  (3, 8899)\t1\n",
            "  (3, 4654)\t1\n",
            "  :\t:\n",
            "  (2353, 2650)\t1\n",
            "  (2354, 1806)\t1\n",
            "  (2354, 7268)\t1\n",
            "  (2354, 1405)\t1\n",
            "  (2354, 8554)\t1\n",
            "  (2355, 6583)\t1\n",
            "  (2355, 4570)\t1\n",
            "  (2355, 1515)\t1\n",
            "  (2355, 1315)\t1\n",
            "  (2355, 5795)\t1\n",
            "  (2355, 6714)\t1\n",
            "  (2355, 8786)\t1\n",
            "  (2356, 6188)\t1\n",
            "  (2356, 4835)\t1\n",
            "  (2356, 8851)\t1\n",
            "  (2356, 3626)\t1\n",
            "  (2356, 2814)\t1\n",
            "  (2356, 12)\t1\n",
            "  (2357, 2236)\t1\n",
            "  (2357, 6965)\t1\n",
            "  (2357, 8089)\t1\n",
            "  (2357, 1916)\t1\n",
            "  (2357, 3144)\t1\n",
            "  (2357, 7034)\t1\n",
            "  (2357, 5626)\t1\n"
          ]
        }
      ]
    },
    {
      "cell_type": "code",
      "source": [
        "X.shape"
      ],
      "metadata": {
        "colab": {
          "base_uri": "https://localhost:8080/"
        },
        "id": "-aeZkeugwX4V",
        "outputId": "63c8c0e1-5d49-411b-d519-01c06cec57da"
      },
      "execution_count": 120,
      "outputs": [
        {
          "output_type": "execute_result",
          "data": {
            "text/plain": [
              "(2358, 8974)"
            ]
          },
          "metadata": {},
          "execution_count": 120
        }
      ]
    },
    {
      "cell_type": "code",
      "source": [
        "# Tokenizer를 활용한 예측\n",
        "import tensorflow as tf\n",
        "from tensorflow.keras.preprocessing.text import Tokenizer\n",
        "from tensorflow.keras.preprocessing.sequence import pad_sequences\n",
        "\n",
        "features = df['review'].values\n",
        "\n",
        "# 2. 라벨\n",
        "labels = df['rating_scaled'].values\n",
        "\n",
        "# 3. Train/Test split\n",
        "X_train, X_test, y_train, y_test = train_test_split(features, labels, test_size=0.2, stratify=labels, random_state=42)\n",
        "\n",
        "tokenizer = Tokenizer()\n",
        "tokenizer.fit_on_texts(X_train)"
      ],
      "metadata": {
        "id": "lsqMyRm6H4TR"
      },
      "execution_count": 121,
      "outputs": []
    },
    {
      "cell_type": "code",
      "source": [
        "print(tokenizer.word_index)"
      ],
      "metadata": {
        "colab": {
          "base_uri": "https://localhost:8080/"
        },
        "id": "LTp--pAeH8qG",
        "outputId": "500ea5ac-2fc7-47e4-b63f-f4365f9439c2"
      },
      "execution_count": 123,
      "outputs": [
        {
          "output_type": "stream",
          "name": "stdout",
          "text": [
            "{'그': 1, '수': 2, '대한': 3, '영화': 4, '한': 5, '없는': 6, '것': 7, '않는': 8, '있는': 9, '모든': 10, '더': 11, '이': 12, '영화를': 13, '같은': 14, '어떤': 15, '할': 16, '영화가': 17, '영화의': 18, '어떻게': 19, '것은': 20, '아니라': 21, '잘': 22, '함께': 23, '결국': 24, '듯': 25, '가장': 26, '있다': 27, '다': 28, '좋은': 29, '코미디': 30, '하는': 31, '것을': 32, '내내': 33, '그저': 34, '두': 35, '액션': 36, '못한': 37, '위한': 38, '대신': 39, '된다': 40, '세계': 41, '만든': 42, '이야기를': 43, '캐릭터': 44, '왜': 45, '만드는': 46, '된': 47, '게': 48, '싶은': 49, '강력한': 50, '다시': 51, '뿐': 52, '자의': 53, '흥미로운': 54, '대하여': 55, '속에서': 56, '여전히': 57, '않은': 58, '마음을': 59, '사이의': 60, '보는': 61, '끝내': 62, '감동': 63, '연기': 64, '계속': 65, '후': 66, '제대로': 67, '넘치는': 68, '담긴': 69, '때': 70, '모두': 71, '줄': 72, '이야기': 73, '이렇게': 74, '거의': 75, '경우': 76, '한다': 77, '같다': 78, '때의': 79, '않고': 80, '장르의': 81, '중': 82, '있다는': 83, '채': 84, '또': 85, '한국': 86, '사랑의': 87, '이제': 88, '삶의': 89, '년': 90, '것인가': 91, '사이에서': 92, '평범한': 93, '다른': 94, '종종': 95, '그리고': 96, '혹은': 97, '하고': 98, '이런': 99, '배우': 100, '것도': 101, '마침내': 102, '아는': 103, '시대의': 104, '주는': 105, '안': 106, '고스란히': 107, '못한다': 108, '소재의': 109, '작은': 110, '서로': 111, '끝에': 112, '뻔한': 113, '뜨거운': 114, '신선한': 115, '건': 116, '못하는': 117, '되는': 118, '시리즈를': 119, '이야기의': 120, '연출': 121, '거대한': 122, '의': 123, '재미': 124, '긴': 125, '하나': 126, '없이': 127, '에너지': 128, '너무': 129, '보인다': 130, '한국영화': 131, '강렬한': 132, '영화는': 133, '힘': 134, '세계와': 135, '자가': 136, '속': 137, '빛을': 138, '법': 139, '끝난다': 140, '스릴러': 141, '될': 142, '새로운': 143, '시간': 144, '듯한': 145, '꿈': 146, '삶': 147, '자체가': 148, '온통': 149, '깊은': 150, '대해': 151, '수밖에': 152, '것들': 153, '바라보는': 154, '스포츠': 155, '볼': 156, '아름다운': 157, '없다': 158, '시간의': 159, '않는다': 160, '내가': 161, '화술': 162, '선명하게': 163, '가득한': 164, '번': 165, '삶이': 166, '판타지': 167, '시종': 168, '더욱': 169, '속의': 170, '아니오': 171, '앞에서': 172, '세상의': 173, '인상적인': 174, '로맨틱': 175, '이유': 176, '보여준다': 177, '묵직한': 178, '속에': 179, '담겼다': 180, '그래도': 181, '호러': 182, '오락': 183, '대체': 184, '얼마나': 185, '차가운': 186, '오래도록': 187, '보고': 188, '생의': 189, '화려한': 190, '소재를': 191, '하나의': 192, '뛰어난': 193, '남는': 194, '순간': 195, '수퍼히어로': 196, '따로': 197, '극중': 198, '지독한': 199, '세계를': 200, '향한': 201, '마음의': 202, '눈': 203, '이토록': 204, '지금': 205, '이상한': 206, '없었던': 207, '아직': 208, '정말': 209, '간다': 210, '배우의': 211, '인간의': 212, '팀': 213, '영화적': 214, '걸까': 215, '가까운': 216, '픽사의': 217, '힘이': 218, '눈물': 219, '안다': 220, '매력이': 221, '있을': 222, '드라마': 223, '낮은': 224, '싶다': 225, '좋다': 226, '오래': 227, '있을까': 228, '감각': 229, '캐릭터의': 230, '방식': 231, '또박또박': 232, '슬픈': 233, '평화': 234, '최고': 235, '이야기가': 236, '스토리': 237, '전혀': 238, '문을': 239, '흡사': 240, '소재': 241, '탁월한': 242, '애니메이션': 243, '시간이': 244, '딜레마': 245, '명확히': 246, '사람들이': 247, '어린': 248, '그렇게': 249, '유머와': 250, '간절한': 251, '어려운': 252, '문': 253, '해도': 254, '언제나': 255, '미끄러지는': 256, '말을': 257, '영화에': 258, '아닌': 259, '세상': 260, '사랑': 261, '고개를': 262, '이야기에': 263, '고쳐': 264, '배우들의': 265, '시리즈가': 266, '많은': 267, '년의': 268, '서늘한': 269, '불구하고': 270, '배우들': 271, '담은': 272, '미친': 273, '사랑은': 274, '아니다': 275, '길을': 276, '끊임없이': 277, '뒤에': 278, '사람은': 279, '말의': 280, '생생한': 281, '시간을': 282, '기획': 283, '희망': 284, '보이지': 285, '적절한': 286, '자들의': 287, '사이로': 288, '모두가': 289, '것들에': 290, '나쁜': 291, '어느새': 292, '데이빗': 293, '나오는': 294, '보았다': 295, '눈길을': 296, '다룬다': 297, '그때': 298, '못하고': 299, '역시': 300, '있지만': 301, '때마다': 302, '사이': 303, '역사를': 304, '세상에서': 305, '바로': 306, '구조와': 307, '마냥': 308, '않게': 309, '새롭게': 310, '진한': 311, '끝없이': 312, '그런데': 313, '하지': 314, '먼저': 315, '않았던': 316, '속에서도': 317, '매력을': 318, '정도로': 319, '세': 320, '코미디의': 321, '다룰': 322, '굳이': 323, '흐르는': 324, '승리': 325, '네': 326, '사랑을': 327, '남은': 328, '세계에': 329, '쓸쓸한': 330, '문제': 331, '어두운': 332, '플롯': 333, '마음': 334, '요란한': 335, '올해의': 336, '얼굴': 337, '내': 338, '전하는': 339, '정확히': 340, '감상주의': 341, '디즈니': 342, '쾌감': 343, '시리즈의': 344, '감정': 345, '심지어': 346, '마이클': 347, '여린': 348, '섬뜩한': 349, '순도': 350, '위해': 351, '끄는': 352, '섹스': 353, '만들': 354, '있었던': 355, '음악': 356, '클라이맥스': 357, '소재에': 358, '것들의': 359, '모르는': 360, '잊지': 361, '못할': 362, '페이소스': 363, '아이의': 364, '세계의': 365, '열기': 366, '간': 367, '그러니까': 368, '로': 369, '충무로': 370, '그게': 371, '유머': 372, '이미지와': 373, '단': 374, '우정이': 375, '증거': 376, '예술과': 377, '카메라': 378, '마무리': 379, '쓴': 380, '성장영화': 381, '영화라는': 382, '시작해서': 383, '스펙터클': 384, '삶은': 385, '몸의': 386, '저마다의': 387, '홍상수의': 388, '인간을': 389, '몇': 390, '자신만의': 391, '한국적': 392, '일단': 393, '위해선': 394, '를': 395, '주마간산': 396, '걸작': 397, '연출의': 398, '아프게': 399, '멋진': 400, '클린트': 401, '빈': 402, '엔딩': 403, '이야기와': 404, '캐릭터들': 405, '풍경': 406, '끝까지': 407, '위에서': 408, '손': 409, '편의': 410, '큰': 411, '진짜': 412, '감독': 413, '애니메이션의': 414, '사이를': 415, '흥미진진한': 416, '마술': 417, '바꾸는': 418, '힘차게': 419, '논쟁적': 420, '엉뚱한': 421, '대하는': 422, '보여줄': 423, '웃음': 424, '진부한': 425, '장르에': 426, '것인가에': 427, '순간의': 428, '최고의': 429, '이미': 430, '인상적': 431, '사람들의': 432, '무엇을': 433, '우아한': 434, '물에': 435, '탄': 436, '잠시': 437, '신비로운': 438, '한계': 439, '한없이': 440, '반전': 441, '보게': 442, '삶을': 443, '스스로': 444, '탄식': 445, '느껴진다': 446, '무슨': 447, '나는': 448, '온전히': 449, '감독의': 450, '감정이': 451, '쓰는': 452, '역사의': 453, '순간들': 454, '고레에다': 455, '영화로': 456, '슬픔': 457, '편': 458, '힘을': 459, '일이': 460, '스파이더맨': 461, '그림자': 462, '위대한': 463, '자는': 464, '그토록': 465, '익숙한': 466, '아무': 467, '세월': 468, '년이': 469, '물러서지': 470, '화려하게': 471, '말할': 472, '오래된': 473, '것의': 474, '뭘': 475, '번번이': 476, '강박': 477, '마블': 478, '즐거움': 479, '현란하게': 480, '여성': 481, '어려울': 482, '개의': 483, '애써': 484, '말하는': 485, '비극을': 486, '멜로': 487, '더이상': 488, '세상이': 489, '붉은': 490, '없다는': 491, '바다': 492, '궤적을': 493, '처음부터': 494, '중국': 495, '거둔': 496, '작고': 497, '편이': 498, '감각의': 499, '사라져가는': 500, '액션의': 501, '쥔': 502, '묵묵히': 503, '지켜보는': 504, '태산': 505, '풍경들': 506, '재치가': 507, '경력': 508, '장르와': 509, '서로의': 510, '믿게': 511, '속으로': 512, '살려낸': 513, '김지운의': 514, '의미를': 515, '규모와': 516, '진하다': 517, '영화와': 518, '없을': 519, '자꾸': 520, '라스': 521, '폰': 522, '명확한': 523, '그릇에': 524, '이번엔': 525, '자신이': 526, '남는다': 527, '흥미롭게': 528, '훨씬': 529, '전진하는': 530, '기쁨': 531, '싶었다': 532, '오로지': 533, '귀환': 534, '않다': 535, '예술의': 536, '하나가': 537, '보고나면': 538, '쉽게': 539, '사랑과': 540, '원작': 541, '근원적': 542, '향해': 543, '안정적인': 544, '연출과': 545, '플롯의': 546, '야심찬': 547, '특별한': 548, '희망을': 549, '우아하고': 550, '실화의': 551, '부여한': 552, '날의': 553, '감각을': 554, '갖고': 555, '없이도': 556, '삶과': 557, '논다': 558, '무덤': 559, '그렇지': 560, '폐허에서': 561, '제각각': 562, '역사에': 563, '걸': 564, '그림자가': 565, '때로는': 566, '하나를': 567, '전부': 568, '블랙코미디': 569, '깊고': 570, '시대에': 571, '세계에서': 572, '태도와': 573, '갖춘': 574, '대충': 575, '지옥': 576, '할까': 577, '봐도': 578, '휴먼': 579, '선명한': 580, '모두를': 581, '물처럼': 582, '속편': 583, '첫': 584, '블록버스터': 585, '예술가의': 586, '소름': 587, '오프닝과': 588, '이스트우드의': 589, '텅': 590, '담아낸다': 591, '고독': 592, '오직': 593, '누군가의': 594, '사이에': 595, '선': 596, '투박한': 597, '아니에요': 598, '사람': 599, '아름답고': 600, '골똘히': 601, '들여다본다': 602, '뒤': 603, '끝에서': 604, '버튼': 605, '어쨌든': 606, '시공간적': 607, '관계의': 608, '그려내는': 609, '문제를': 610, '드러내는': 611, '탄력': 612, '헛소동': 613, '현실을': 614, '참신한': 615, '밀고': 616, '없어요': 617, '시리즈': 618, '부정교합': 619, '플롯을': 620, '사건': 621, '마지막': 622, '리메이크': 623, '한다면': 624, '느껴지는': 625, '편을': 626, '전도연이다': 627, '매력': 628, '구스': 629, '반': 630, '선사하는': 631, '진실을': 632, '홀로': 633, '캐릭터를': 634, '세상을': 635, '능숙하게': 636, '닫힌': 637, '남아': 638, '주제의식': 639, '여름': 640, '편까지': 641, '동력': 642, '상상력과': 643, '것처럼': 644, '진실의': 645, '이후': 646, '폭주한다': 647, '여름의': 648, '중요한': 649, '영리한': 650, '공포': 651, '해결': 652, '효과': 653, '그냥': 654, '각본': 655, '어디로': 656, '물': 657, '웃음이': 658, '초반': 659, '만나는': 660, '생생히': 661, '그린': 662, '빠진': 663, '리듬을': 664, '유쾌하게': 665, '감정의': 666, '관한': 667, '이전': 668, '담는다': 669, '여백': 670, '강박이': 671, '어느': 672, '목적과': 673, '않아도': 674, '만들어낸': 675, '설정을': 676, '담아': 677, '보지': 678, '철저히': 679, '배우들이': 680, '유일한': 681, '인물들의': 682, '신선하게': 683, '떠올릴': 684, '햇살': 685, '시각적': 686, '다음': 687, '이미지': 688, '전형적': 689, '작법': 690, '신랄한': 691, '패기': 692, '새': 693, '못': 694, '맥없는': 695, '반면교사': 696, '지난': 697, '년간': 698, '안과': 699, '밖이': 700, '경지': 701, '역사': 702, '경직된': 703, '장면에': 704, '필요하다': 705, '사운드': 706, '스필버그의': 707, '서사': 708, '낡은': 709, '간신히': 710, '재미와': 711, '하염없이': 712, '자신의': 713, '설정들': 714, '음악이': 715, '또렷이': 716, '참혹한': 717, '욕망': 718, '블럭버스터': 719, '신비한': 720, '아니야': 721, '것들을': 722, '인물의': 723, '황홀한': 724, '기대하는': 725, '펑크라는': 726, '뒤로': 727, '이젠': 728, '시적인': 729, '코엔': 730, '사랑스러운': 731, '때문에': 732, '것들은': 733, '처연한': 734, '히로카즈의': 735, '보일': 736, '재능': 737, '드문': 738, '공포영화': 739, '그들': 740, '또렷한': 741, '버전': 742, '전': 743, '사랑스런': 744, '심리': 745, '모여': 746, '것이': 747, '자체를': 748, '위로': 749, '놀라운': 750, '힘든': 751, '차례로': 752, '높은': 753, '이어지는': 754, '사례': 755, '비틀스': 756, '자와': 757, '뚝딱': 758, '휴머니즘': 759, '본성을': 760, '어찌할': 761, '세상에': 762, '물의': 763, '생각': 764, '위안': 765, '싶다는': 766, '내적': 767, '뒤엉킨': 768, '비극': 769, '그런': 770, '캐릭터가': 771, '열정과': 772, '부피를': 773, '늘려가는': 774, '순정을': 775, '동화가': 776, '바라본다': 777, '누가': 778, '무엇보다': 779, '조엘': 780, '핏빛': 781, '현실': 782, '무너지는': 783, '조롱하는': 784, '탄식의': 785, '질긴': 786, '기억': 787, '표류하는': 788, '외줄': 789, '달리는': 790, '흔들리고': 791, '위의': 792, '카리스마': 793, '누비는': 794, '치밀한': 795, '열쇠': 796, '나도': 797, '인간이': 798, '어울리지도': 799, '호소하는': 800, '간절히': 801, '살아남은': 802, '우연이': 803, '바닥까지': 804, '아직은': 805, '필요가': 806, '유쾌한': 807, '제임스': 808, '블록버스터의': 809, '끝없는': 810, '단단한': 811, '보고나니': 812, '브레이크': 813, '탁류': 814, '화법': 815, '피날레': 816, '이제는': 817, '이름들': 818, '기분좋은': 819, '제국': 820, '다코타': 821, '좋지만': 822, '요란하게': 823, '펴지': 824, '뜻을': 825, '시선의': 826, '무게': 827, '에디': 828, '뒤집어': 829, '구현하는': 830, '숨결': 831, '갸웃거려지는': 832, '행로': 833, '둘': 834, '곳': 835, '발목을': 836, '되나': 837, '어디까지': 838, '맨': 839, '침묵': 840, '이야기는': 841, '싶지': 842, '에이미': 843, '아': 844, '살아라': 845, '운명': 846, '초점이': 847, '세대에게': 848, '발라낸': 849, '텐데': 850, '것만': 851, '날개를': 852, '세기를': 853, '구현한': 854, '입': 855, '짝짝': 856, '달라붙는': 857, '흔한': 858, '남긴': 859, '우디': 860, '앨런': 861, '메릴': 862, '테크닉': 863, '점점': 864, '어깨를': 865, '바라볼': 866, '무력한': 867, '트리에': 868, '시선으로': 869, '즐길': 870, '개그': 871, '류승범': 872, '주인공인': 873, '맞서': 874, '싶어진다': 875, '목소리로': 876, '건지': 877, '접점': 878, '거기서': 879, '년째': 880, '진창에서': 881, '별을': 882, '사실감': 883, '있는지': 884, '격정과': 885, '휴먼드라마': 886, '개성을': 887, '희생시켜버린': 888, '모습이': 889, '마음에': 890, '음악과': 891, '유머가': 892, '만들면': 893, '리': 894, '늙어간다는': 895, '배우들을': 896, '침묵으로': 897, '명멸하는': 898, '당혹감': 899, '성공적인': 900, '남자': 901, '자체로': 902, '꿈꾸는': 903, '다뤄낸다': 904, '핵심을': 905, '눈물의': 906, '뭘까': 907, '하나로': 908, '욕망을': 909, '이별의': 910, '순간을': 911, '온도': 912, '현장감': 913, '한번': 914, '솔깃한': 915, '불어넣은': 916, '호러의': 917, '한기': 918, '알록달록': 919, '했는지': 920, '미야자키': 921, '확실히': 922, '마모루': 923, '나이를': 924, '따라': 925, '떠오를': 926, '한국영화계에': 927, '빚어낸': 928, '어머니의': 929, '살고': 930, '필요': 931, '독창적인': 932, '예리하게': 933, '한바탕의': 934, '만들어내는': 935, '유희정신': 936, '숭고한': 937, '외우게': 938, '기가': 939, '막힌': 940, '각본을': 941, '라스트신': 942, '꼬리를': 943, '오락영화': 944, '낭만과': 945, '향수': 946, '자장': 947, '안에서': 948, '소름끼치는': 949, '장면들': 950, '질문들': 951, '질주하는': 952, '찾아': 953, '거슬러': 954, '설정과': 955, '관계': 956, '조마조마한': 957, '기이한': 958, '처연함': 959, '설득시키지': 960, '편만': 961, '관계엔': 962, '담겨': 963, '풍광': 964, '살': 965, '수도': 966, '없고': 967, '전쟁': 968, '비가': 969, '실화가': 970, '생기': 971, '아린': 972, '예민하게': 973, '아직도': 974, '남들이': 975, '벗어나지': 976, '나로': 977, '딛고': 978, '추억을': 979, '자란다': 980, '요리에': 981, '넘실대는': 982, '관람': 983, '나의': 984, '안개와': 985, '신나게': 986, '웃긴다': 987, '캐릭터들의': 988, '설정': 989, '신선하다': 990, '스토리텔링': 991, '가족을': 992, '영국': 993, '벌써': 994, '대중영화의': 995, '모범적': 996, '연기와': 997, '애틋하게': 998, '시절': 999, '인물에게': 1000, '투': 1001, '때도': 1002, '않을': 1003, '역시나': 1004, '웃었다': 1005, '갓': 1006, '있었을': 1007, '지리멸렬': 1008, '조악한': 1009, '우정': 1010, '애수': 1011, '자기': 1012, '빠지지': 1013, '바치는': 1014, '연서': 1015, '우리는': 1016, '않았다': 1017, '매우': 1018, '사실적인': 1019, '공간에': 1020, '고단한': 1021, '극심한': 1022, '낭만적': 1023, '자동차': 1024, '오늘': 1025, '분출하는': 1026, '과도한': 1027, '비틀어': 1028, '교훈극': 1029, '추억의': 1030, '브레이크를': 1031, '말': 1032, '말이': 1033, '열린': 1034, '세번': 1035, '보며': 1036, '모색': 1037, '마음으로': 1038, '전락의': 1039, '구슬이': 1040, '야심과': 1041, '시퍼런': 1042, '뜨겁게': 1043, '울리는': 1044, '실화': 1045, '돈의': 1046, '형식': 1047, '숲을': 1048, '꽃은': 1049, '외롭고': 1050, '천천히': 1051, '들여다본': 1052, '변화를': 1053, '예의바른': 1054, '전쟁영화': 1055, '사자후': 1056, '서스펜스': 1057, '입체적인': 1058, '또다른': 1059, '욕망과': 1060, '뒤덮는': 1061, '속을': 1062, '어느덧': 1063, '구멍': 1064, '상상력': 1065, '떠올리기만': 1066, '하면': 1067, '가혹한': 1068, '우리': 1069, '얼어붙은': 1070, '드라마의': 1071, '반복된다': 1072, '지옥의': 1073, '느낌': 1074, '길다': 1075, '거듭': 1076, '클라이맥스에서': 1077, '어디에': 1078, '무소의': 1079, '뿔처럼': 1080, '혼자서': 1081, '박수를': 1082, '찾지': 1083, '해프닝': 1084, '나': 1085, '수렁을': 1086, '분노가': 1087, '귀여운': 1088, '지점에서': 1089, '선한': 1090, '로드무비': 1091, '예민한': 1092, '실험이': 1093, '서로에게서': 1094, '무거운': 1095, '발놀림': 1096, '텅빈': 1097, '발을': 1098, '절박한': 1099, '깊이': 1100, '살아간다는': 1101, '된다는': 1102, '서극': 1103, '아이디어와': 1104, '에너지가': 1105, '과녁을': 1106, '울고': 1107, '따뜻한': 1108, '원하는': 1109, '스토리의': 1110, '깃든': 1111, '꿈이': 1112, '실패한': 1113, '보이고': 1114, '신비': 1115, '부지런한': 1116, '흔들어': 1117, '계기': 1118, '어울릴': 1119, '빈약한': 1120, '아까운': 1121, '스피드와': 1122, '관객의': 1123, '서로를': 1124, '응시하는': 1125, '부르는': 1126, '픽사': 1127, '전체의': 1128, '피로가': 1129, '즐거움을': 1130, '알고': 1131, '배회하는': 1132, '빈곤한': 1133, '짜릿한': 1134, '독창적': 1135, '자주': 1136, '막장': 1137, '현실의': 1138, '또렷하게': 1139, '장르영화의': 1140, '깨닫게': 1141, '자유자재로': 1142, '넘나드는': 1143, '진창에': 1144, '야단법석': 1145, '관념적': 1146, '스타일을': 1147, '필요는': 1148, '펑펑': 1149, '요즘': 1150, '여기까지': 1151, '그의': 1152, '본드': 1153, '범죄': 1154, '뭉클한': 1155, '연기가': 1156, '장중하고': 1157, '미처': 1158, '자유로운': 1159, '끝': 1160, '나란히': 1161, '꼭': 1162, '반드시': 1163, '성취': 1164, '택한': 1165, '에너지와': 1166, '쉬운': 1167, '접근': 1168, '추억에': 1169, '무력감': 1170, '만든다': 1171, '장르는': 1172, '강력하게': 1173, '파토스': 1174, '시각': 1175, '디자인': 1176, '미스터': 1177, '타란티노': 1178, '톡톡': 1179, '대답': 1180, '가는': 1181, '산트': 1182, '사과': 1183, '공동체의': 1184, '고전적': 1185, '들여다볼': 1186, '악과': 1187, '악': 1188, '별로': 1189, '그레타': 1190, '심정으로': 1191, '법을': 1192, '앙상블': 1193, '서늘하다': 1194, '공간': 1195, '내부에서': 1196, '방향을': 1197, '해가': 1198, '시작하는': 1199, '과거의': 1200, '진실은': 1201, '클리셰': 1202, '담아낼': 1203, '척력으로': 1204, '예쁘장한': 1205, '표현하는': 1206, '그건': 1207, '기억하는': 1208, '만한': 1209, '오': 1210, '아이디어': 1211, '역사가': 1212, '내린': 1213, '애니메이션에서': 1214, '훌륭한': 1215, '밖의': 1216, '나아간': 1217, '다르덴': 1218, '감정에': 1219, '마법': 1220, '과거': 1221, '소재와': 1222, '공간에서': 1223, '실제': 1224, '단계마다': 1225, '이게': 1226, '어둠을': 1227, '넣느라': 1228, '사슬': 1229, '시간과': 1230, '겨울의': 1231, '봉준호의': 1232, '가족': 1233, '느낄': 1234, '살려냈다': 1235, '방법': 1236, '통증': 1237, '맞는': 1238, '살아': 1239, '샌드라': 1240, '불록': 1241, '옴니버스': 1242, '스릴러의': 1243, '활용': 1244, '기술': 1245, '태도': 1246, '만큼': 1247, '약한': 1248, '연기를': 1249, '음악영화의': 1250, '품격': 1251, '머금고': 1252, '숀': 1253, '질감': 1254, '되었나': 1255, '펼치는': 1256, '현란한': 1257, '성장영화가': 1258, '집념과': 1259, '아쉽다': 1260, '늪': 1261, '목소리': 1262, '센스': 1263, '놀런의': 1264, '가족영화의': 1265, '매몰된': 1266, '장르적': 1267, '관습에': 1268, '눈이': 1269, '지적인': 1270, '배우가': 1271, '전체': 1272, '시선이': 1273, '힘에': 1274, '감동적인': 1275, '돋보이는': 1276, '뻔하고': 1277, '스크린': 1278, '위태로운': 1279, '산발적인': 1280, '대체한': 1281, '벌어지는': 1282, '기술적': 1283, '상상력의': 1284, '자리를': 1285, '투명에': 1286, '알모도바르의': 1287, '격렬한': 1288, '때가': 1289, '기억한다': 1290, '작동하지': 1291, '시스템의': 1292, '보이는': 1293, '외면할': 1294, '당신이': 1295, '몰라도': 1296, '소중한': 1297, '생각하는': 1298, '자에겐': 1299, '능숙한': 1300, '마블은': 1301, '많이': 1302, '세월을': 1303, '연기하는': 1304, '분노를': 1305, '만들었다': 1306, '축조한': 1307, '판을': 1308, '신화가': 1309, '고운': 1310, '지나치게': 1311, '틀에': 1312, '갇혔다': 1313, '영화였을까': 1314, '사랑하는': 1315, '것이다': 1316, '시속': 1317, '에서': 1318, '걸음': 1319, '기품': 1320, '올해': 1321, '처절한': 1322, '수난극': 1323, '허리가': 1324, '휘는': 1325, '장르': 1326, '약점을': 1327, '모를': 1328, '때조차': 1329, '도시': 1330, '남성': 1331, '거꾸로': 1332, '덕지덕지': 1333, '이의': 1334, '외로운': 1335, '성실한': 1336, '소재가': 1337, '인물이': 1338, '쓴다': 1339, '이름을': 1340, '됐다': 1341, '키스': 1342, '비범한': 1343, '여배우': 1344, '모두에게': 1345, '제자리로': 1346, '정작': 1347, '지켜내는': 1348, '위선에': 1349, '부족한': 1350, '시리즈에': 1351, '부분적으로': 1352, '먼': 1353, '응시': 1354, '모티브': 1355, '싱크홀': 1356, '제': 1357, '어울리는': 1358, '이자벨': 1359, '관성적인': 1360, '욕조의': 1361, '에로스': 1362, '멀리': 1363, '발': 1364, '잊을': 1365, '땀을': 1366, '기리는': 1367, '찬가': 1368, '짧은': 1369, '샤말란': 1370, '효과가': 1371, '정서': 1372, '잡히지': 1373, '세월이': 1374, '관조': 1375, '마음은': 1376, '스토리와': 1377, '번쩍이는': 1378, '끝의': 1379, '자극적인': 1380, '자체에': 1381, '한다는': 1382, '대사에': 1383, '옮긴': 1384, '대사처럼': 1385, '감상적': 1386, '영원히': 1387, '아이디어들의': 1388, '대중적': 1389, '순간에': 1390, '감각과': 1391, '자체의': 1392, '동력이': 1393, '염세적': 1394, '단연': 1395, '채운': 1396, '견인하는': 1397, '여운': 1398, '절실한': 1399, '틈입하는': 1400, '시대적': 1401, '집을': 1402, '나서는': 1403, '능력': 1404, '한숨': 1405, '안타까운': 1406, '이스트우드': 1407, '후반': 1408, '구조': 1409, '하에': 1410, '떠올리면': 1411, '미칠': 1412, '얻고': 1413, '잃다': 1414, '신파': 1415, '복잡한': 1416, '동화': 1417, '했다': 1418, '연민의': 1419, '메운다': 1420, '덕분에': 1421, '형식의': 1422, '흐른다': 1423, '떠올리게': 1424, '순간이': 1425, '필름': 1426, '장면': 1427, '자': 1428, '호쾌한': 1429, '어디선가': 1430, '방': 1431, '냉혹한': 1432, '현실이': 1433, '일어난': 1434, '듯하다': 1435, '희구하는': 1436, '재료를': 1437, '담백하고': 1438, '허망한가': 1439, '감성': 1440, '그러나': 1441, '나와': 1442, '거칠게': 1443, '숨쉬는': 1444, '과소비된': 1445, '상관관계에': 1446, '엔딩을': 1447, '바깥': 1448, '기발한': 1449, '생겨나는': 1450, '오랜': 1451, '묵직하게': 1452, '인상적으로': 1453, '사람들': 1454, '주인공이': 1455, '괴리를': 1456, '존재하는': 1457, '만물을': 1458, '손에': 1459, '강렬하게': 1460, '작가의': 1461, '남기고': 1462, '운동': 1463, '봄날에': 1464, '인상': 1465, '데뷔작': 1466, '걷는': 1467, '있다면': 1468, '우정의': 1469, '각색': 1470, '믿을': 1471, '폐허': 1472, '로빈': 1473, '윌리엄스의': 1474, '허망한': 1475, '연이어': 1476, '고백하는': 1477, '불을': 1478, '버튼의': 1479, '펼쳐지는': 1480, '일하는': 1481, '풍경이': 1482, '떠오르는': 1483, '다감한': 1484, '소재로': 1485, '못한다면': 1486, '뚫고': 1487, '제목이': 1488, '다가온다': 1489, '인형의': 1490, '눈을': 1491, '내게': 1492, '나온': 1493, '주제를': 1494, '남을': 1495, '앞서': 1496, '못했던': 1497, '기어이': 1498, '기필코': 1499, '보여주는': 1500, '철': 1501, '피터': 1502, '딜레마를': 1503, '마음이': 1504, '것인지에': 1505, '명의': 1506, '플롯과': 1507, '유령처럼': 1508, '분처럼': 1509, '우화': 1510, '로맨티시즘': 1511, '사람의': 1512, '좀': 1513, '보여준': 1514, '얼굴이': 1515, '소박해서': 1516, '재미를': 1517, '찍은': 1518, '인간': 1519, '가진': 1520, '힘과': 1521, '간절함': 1522, '미안함': 1523, '터치로': 1524, '사라지는': 1525, '너머에서': 1526, '빠른': 1527, '하얀': 1528, '되면': 1529, '스콜세지의': 1530, '딱': 1531, '마치': 1532, '몰개성의': 1533, '눈과': 1534, '맑은': 1535, '픽사가': 1536, '미스터리': 1537, '인물들': 1538, '절망': 1539, '한발': 1540, '땀과': 1541, '전쟁을': 1542, '찾아오는': 1543, '좋지': 1544, '일렁이는': 1545, '한국영화에서': 1546, '보기': 1547, '후루룩': 1548, '담았다': 1549, '남자와': 1550, '나누는': 1551, '전부가': 1552, '되고': 1553, '인물을': 1554, '흥미진진하게': 1555, '최후의': 1556, '솜씨': 1557, '크게': 1558, '동력으로': 1559, '무서울': 1560, '나날들이': 1561, '비장미는': 1562, '모범례': 1563, '사람이': 1564, '가학으로': 1565, '코언형제': 1566, '느슨하고': 1567, '정확한': 1568, '스타': 1569, '성공한': 1570, '상처를': 1571, '견디는': 1572, '시공간을': 1573, '연결하는': 1574, '음악에': 1575, '처음': 1576, '따스하고': 1577, '광기의': 1578, '남기는': 1579, '슬픔을': 1580, '주겠다': 1581, '기계적': 1582, '드러나는': 1583, '중반': 1584, '일일이': 1585, '날개': 1586, '드라마가': 1587, '상황극': 1588, '내는': 1589, '꾸는': 1590, '믿는': 1591, '육체의': 1592, '희망은': 1593, '신비롭고': 1594, '앓다': 1595, '냄새와': 1596, '있나': 1597, '목놓아': 1598, '실존': 1599, '설정에': 1600, '맞게': 1601, '최고작': 1602, '능란한': 1603, '돌출된': 1604, '조단역': 1605, '눈부신': 1606, '스타일': 1607, '액션영화의': 1608, '숲': 1609, '현실에서': 1610, '일으켜': 1611, '수렁에서': 1612, '일들': 1613, '무비': 1614, '드라마에': 1615, '것과': 1616, '카메라에': 1617, '미학적으로': 1618, '능수능란한': 1619, '하정우': 1620, '악마에': 1621, '경쾌하게': 1622, '무엇이': 1623, '낸': 1624, '분을': 1625, '쓰기도': 1626, '아이들': 1627, '맹맹한': 1628, '버리고': 1629, '에스트로겐을': 1630, '남았다': 1631, '불신과': 1632, '공존하는': 1633, '이상': 1634, '찌르는': 1635, '늙지': 1636, '개인기의': 1637, '경연장': 1638, '참': 1639, '감정적': 1640, '도달한': 1641, '재미있는': 1642, '나오게': 1643, '사모곡': 1644, '극의': 1645, '소화불량의': 1646, '쿨한': 1647, '풍자': 1648, '통렬한': 1649, '눈물에': 1650, '머리': 1651, '믿고': 1652, '조지': 1653, '배역': 1654, '이정표': 1655, '위에': 1656, '역학': 1657, '창의성': 1658, '충돌한다': 1659, '잠재력을': 1660, '술': 1661, '있으면': 1662, '답한다': 1663, '이렇게나': 1664, '점에서': 1665, '잡아도': 1666, '맵시': 1667, '있게': 1668, '변주된': 1669, '냉정': 1670, '런웨이를': 1671, '누빈다': 1672, '밀도를': 1673, '종적': 1674, '횡적': 1675, '화술의': 1676, '상쇄': 1677, '낯': 1678, '간지럽지': 1679, '로맨틱코미디': 1680, '늙는다는': 1681, '이면을': 1682, '문명의': 1683, '저편에서': 1684, '맹세로도': 1685, '치유되지': 1686, '상처에': 1687, '그녀와': 1688, '자든': 1689, '말든': 1690, '에저튼의': 1691, '장밋빛': 1692, '꿈과': 1693, '안에서부터': 1694, '중산층의': 1695, '내용을': 1696, '형식으론': 1697, '긍정하는': 1698, '자기분열적': 1699, '미학': 1700, '웅크려': 1701, '늪의': 1702, '일부가': 1703, '소년과': 1704, '발버둥쳐': 1705, '굴레를': 1706, '벗으려는': 1707, '소년의': 1708, '중주': 1709, '희박하지만': 1710, '경계인의': 1711, '초상': 1712, '대사': 1713, '움큼': 1714, '적고나면': 1715, '웃음보다': 1716, '도착하는': 1717, '윌': 1718, '스미스야': 1719, '아들': 1720, '모습에': 1721, '흐뭇하겠지만': 1722, '선로만': 1723, '질적으로': 1724, '동반상승하고': 1725, '영화들을': 1726, '비틀려도': 1727, '사그라지지': 1728, '무대': 1729, '악몽을': 1730, '착상과': 1731, '부초처럼': 1732, '떠도는': 1733, '강인했던': 1734, '예술가들이': 1735, '개성과': 1736, '발견하기': 1737, '흘러간다': 1738, '치열하고': 1739, '작법생의': 1740, '미로비티와': 1741, '종잇장': 1742, '설탕가루': 1743, '나르시시즘': 1744, '존재': 1745, '무관하지': 1746, '않다고': 1747, '견뎌온': 1748, '극단적': 1749, '상황으로만': 1750, '이어가던': 1751, '범죄극에': 1752, '로맨스까지': 1753, '바람이': 1754, '탄식하고': 1755, '들풀이': 1756, '아무도': 1757, '절박함에': 1758, '무릎': 1759, '꿇지': 1760, '않도록': 1761, '오기를': 1762, '어둠이': 1763, '환경일지라도': 1764, '축복처럼': 1765, '밝힌': 1766, '날은': 1767, '흔든다': 1768, '매즈': 1769, '미켈슨이라는': 1770, '생명력': 1771, '점': 1772, '사미라': 1773, '마흐말바프': 1774, '모흐센': 1775, '마흐말바프의': 1776, '딸': 1777, '스스로의': 1778, '가면을': 1779, '손가락으로': 1780, '가리키며': 1781, '휘청휘청': 1782, '걷기': 1783, '심청전을': 1784, '끌어들일': 1785, '없었을': 1786, '패러디의': 1787, '신념의': 1788, '장식없이': 1789, '밟아나간다': 1790, '느릿느릿': 1791, '대니': 1792, '보일은': 1793, '반짝반짝했다': 1794, '카메론이': 1795, '연출하지': 1796, '터미네이터에': 1797, '필적하기는': 1798, '어차피': 1799, '터이니': 1800, '착각': 1801, '죽비처럼': 1802, '내리친다': 1803, '남자들은': 1804, '연애에': 1805, '실패하는가': 1806, '선택과': 1807, '집중이': 1808, '앨범': 1809, '제목': 1810, '떠오른다': 1811, '음': 1812, '나온다는': 1813, '건데': 1814, '편견으로': 1815, '질주하다': 1816, '휩쓸린': 1817, '가운데서': 1818, '여배우의': 1819, '앙상블을': 1820, '구글은': 1821, '싣고': 1822, '목소리와': 1823, '뭉특한': 1824, '북소리의': 1825, '이명으로': 1826, '장중한': 1827, '한국형': 1828, '블럭버스터라는': 1829, '허상': 1830, '전설이': 1831, '양감과': 1832, '긴장감이': 1833, '사라져버렸다': 1834, '톰': 1835, '포드가': 1836, '건설한': 1837, '자본의': 1838, '탐욕에': 1839, '떠밀려': 1840, '만가': 1841, '패닝도': 1842, '영화에선': 1843, '커트': 1844, '러셀': 1845, '피워올리고': 1846, '리드미컬하게': 1847, '사이키델릭': 1848, '방식이나': 1849, '선택에': 1850, '문제가': 1851, '전제나': 1852, '권리에': 1853, '불끈': 1854, '주먹을': 1855, '한번도': 1856, '꺾지': 1857, '사람들을': 1858, '곁에서': 1859, '동상이몽의': 1860, '속사포': 1861, '핵폭탄이다': 1862, '레드메인의': 1863, '되짚어': 1864, '바라보고': 1865, '서정과': 1866, '끄덕여지는': 1867, '귀착과': 1868, '밑그림만': 1869, '뚜렷할': 1870, '비릿하다': 1871, '잡다': 1872, '이래도': 1873, '가려나': 1874, '광기에': 1875, '다다른': 1876, '폭발적': 1877, '얼굴도': 1878, '그리': 1879, '나쁘진': 1880, '않은데': 1881, '화장이': 1882, '저': 1883, '어쩔': 1884, '들리고': 1885, '이성재는': 1886, '보이지만': 1887, '연출이': 1888, '제인은': 1889, '세상은': 1890, '뭍같이': 1891, '까딱': 1892, '않는데': 1893, '파도야': 1894, '어쩌란': 1895, '말이냐': 1896, '인분의': 1897, '아담스의': 1898, '무구한': 1899, '플라스틱': 1900, '클래시컬': 1901, '강문': 1902, '걸어라': 1903, '들여다보기와': 1904, '남의': 1905, '헤아려보기': 1906, '성장이란': 1907, '또각또각': 1908, '걸어들어가는': 1909, '고독과': 1910, '결기를': 1911, '명품': 1912, '외부에서': 1913, '내부로': 1914, '바뀐': 1915, '테러리즘': 1916, '전환기에': 1917, '미래': 1918, '간곡히': 1919, '가려진': 1920, '환부를': 1921, '찾아내': 1922, '위무하는': 1923, '힐링': 1924, '시네마': 1925, '이야기되어야': 1926, '변비에서': 1927, '벗어나려다': 1928, '설사하는': 1929, '자막': 1930, '제시해': 1931, '느끼게': 1932, '하루의': 1933, '모험이': 1934, '알칼리': 1935, '팀을': 1936, '만들었으면': 1937, '팀플레이를': 1938, '해야': 1939, '닫아걸고나면': 1940, '질식할': 1941, '비장미로': 1942, '치장된': 1943, '질문과': 1944, '설정이': 1945, '안정적으로': 1946, '프러덕션의': 1947, '의뭉스러운': 1948, '유머로': 1949, '맛깔나게': 1950, '차렸다': 1951, '올드보이를': 1952, '지탱했던': 1953, '모티브들의': 1954, '변용': 1955, '향수에': 1956, '젖은': 1957, '안에': 1958, '사회드라마를': 1959, '희석시킨': 1960, '기법의': 1961, '남용': 1962, '갈아만든': 1963, '실로': 1964, '한국전': 1965, '영화들에': 1966, '시큰둥했던': 1967, '심정을': 1968, '일소한다': 1969, '색': 1970, '계라니요': 1971, '화양연화라니요': 1972, '햇볕': 1973, '일요일': 1974, '오후': 1975, '늘어지게': 1976, '낮잠': 1977, '자고난': 1978, '기분': 1979, '재담': 1980, '탄식을': 1981, '문학이': 1982, '매체인지': 1983, '새삼': 1984, '확인': 1985, '분짜리': 1986, '스트립': 1987, '쇼': 1988, '비어가는': 1989, '얼굴과': 1990, '허물어져가는': 1991, '슬픔에': 1992, '넘친다': 1993, '관람이': 1994, '체험된다': 1995, '경이롭다': 1996, '달을': 1997, '가리키면서': 1998, '손가락만': 1999, '보라는': 2000, '자극성에': 2001, '함몰되지': 2002, '재해석한다': 2003, '편은': 2004, '무덤이': 2005, '물길을': 2006, '내지': 2007, '못해': 2008, '화장실': 2009, '유머의': 2010, '하한선': 2011, '허술한': 2012, '과용된': 2013, '팬더가': 2014, '팬더들': 2015, '한계효용체감의': 2016, '법칙과': 2017, '가까이': 2018, '싸우는': 2019, '베이': 2020, '끝나면': 2021, '책을': 2022, '펴고': 2023, '끊길': 2024, '노래하는': 2025, '새처럼': 2026, '알려주는': 2027, '구로사와': 2028, '기요시': 2029, '쓸리는': 2030, '일어나는': 2031, '불꽃과': 2032, '파편에': 2033, '미스트와': 2034, '로드에': 2035, '이어': 2036, '연초부터': 2037, '스산하고': 2038, '먹먹': 2039, '올려다본다는': 2040, '노동현장의': 2041, '부조리가': 2042, '과정과': 2043, '형성되는지': 2044, '음산한': 2045, '기운이': 2046, '축축한': 2047, '안개처럼': 2048, '목덜미를': 2049, '사북의': 2050, '밤거리에서': 2051, '실제로': 2052, '엿보는': 2053, '구현해낸': 2054, '진경': 2055, '자극에만': 2056, '몰두하는': 2057, '보고나올': 2058, '황폐함': 2059, '흥미만점의': 2060, '스포츠영화': 2061, '사회드라마': 2062, '수많은': 2063, '손가락을': 2064, '튕겨': 2065, '에펠탑': 2066, '조명을': 2067, '놀이터에서': 2068, '결합될': 2069, '있는지를': 2070, '증명한다': 2071, '코미디만': 2072, '이상해지는': 2073, '스파이크': 2074, '액': 2075, '행': 2076, '아쉽게도': 2077, '꾸준히': 2078, '통곡하려는': 2079, '복화술': 2080, '가십의': 2081, '악마들을': 2082, '기성세대의': 2083, '충무로에서': 2084, '전락에도': 2085, '끝끝내': 2086, '가라앉지': 2087, '부력': 2088, '자신': 2089, '시가': 2090, '시를': 2091, '발자국만을': 2092, '따라가는': 2093, '무서운': 2094, '집중력': 2095, '두려움': 2096, '정면에서': 2097, '힘있고': 2098, '진진하게': 2099, '당연히': 2100, '교훈적이고': 2101, '의외로': 2102, '재미있다': 2103, '변주하는': 2104, '팬': 2105, '서비스': 2106, '오해와': 2107, '무지의': 2108, '유혈극': 2109, '코언형제의': 2110, '스타일과': 2111, '세계관은': 2112, '완성태였다': 2113, '학대를': 2114, '통해': 2115, '얻어낸': 2116, '의미는': 2117, '재치': 2118, '망설임': 2119, '내닫는다': 2120, '전력으로': 2121, '체현한': 2122, '무자비한': 2123, '모르겠습니다': 2124, '이누도': 2125, '잇신': 2126, '되묻지': 2127, '선득한': 2128, '의심하지': 2129, '판단의': 2130, '앙상한': 2131, '잔해': 2132, '아찔한': 2133, '같진': 2134, '늘어놓는다': 2135, '키리시마와': 2136, '종이달': 2137, '수작들에': 2138, '이어서': 2139, '별과': 2140, '양의': 2141, '나무라니': 2142, '신전에': 2143, '엎드려': 2144, '올망졸망': 2145, '간질간질': 2146, '뒤뚱뒤뚱': 2147, '주윤발을': 2148, '캐스팅하고도': 2149, '하야오': 2150, '이후는': 2151, '호소다': 2152, '오종은': 2153, '과대평가됐다': 2154, '먹어감에': 2155, '문득문득': 2156, '이른바': 2157, '웰메이드': 2158, '무비의': 2159, '기준을': 2160, '제시하다': 2161, '김지운과': 2162, '송강호가': 2163, '절박함이': 2164, '생생하고': 2165, '쓰린다': 2166, '폭력의': 2167, '아버지의': 2168, '담배의': 2169, '차의': 2170, '떠나야': 2171, '떠나온': 2172, '설명해야': 2173, '설명이': 2174, '임기응변의': 2175, '학습의': 2176, '닫고': 2177, '위해서': 2178, '치러내야': 2179, '매는': 2180, '폭력은': 2181, '폭력일': 2182, '시점쇼트들로': 2183, '포착한': 2184, '이상심리의': 2185, '변이': 2186, '신나는': 2187, '난장을': 2188, '괴수영화의': 2189, '양감': 2190, '되려는': 2191, '참혹하고도': 2192, '사랑이': 2193, '낭만으로': 2194, '일렁인다': 2195, '폐': 2196, '비장': 2197, '심장의': 2198, '순서까지': 2199, '아이디어라고': 2200, '무릎을': 2201, '쳐가며': 2202, '써나갔겠지만': 2203, '가끔은': 2204, '봐야만': 2205, '있어요': 2206, '남기다': 2207, '기념비적인': 2208, '섭취하기': 2209, '잘라놓은': 2210, '티모시': 2211, '샤르르': 2212, '샤랄라': 2213, '샬라메': 2214, '미나리라는': 2215, '단어가': 2216, '기도문처럼': 2217, '들린다': 2218, '주제와': 2219, '상징이': 2220, '뒤엉켜': 2221, '괴작': 2222, '믿음만으론': 2223, '부족하니': 2224, '참으로': 2225, '극장': 2226, '나설': 2227, '느낌을': 2228, '힘겹게': 2229, '움직인다': 2230, '당신이라면': 2231, '어찌할것인가': 2232, '적막': 2233, '하나로는': 2234, '잭': 2235, '블랙이라도': 2236, '장대하거나': 2237, '장황하거나': 2238, '지나온': 2239, '적': 2240, '어제의': 2241, '세계들에': 2242, '노스탤지어': 2243, '소금기가': 2244, '배어': 2245, '메아리치는': 2246, '경기와': 2247, '전체가': 2248, '온전한': 2249, '충족을': 2250, '차례의': 2251, '베드신': 2252, '김군의': 2253, '발원지를': 2254, '올라가다': 2255, '마주하게': 2256, '김군들의': 2257, '도착점만': 2258, '미쳤다고': 2259, '좋을': 2260, '성장은': 2261, '쌍방향이다': 2262, '젊은': 2263, '스릴': 2264, '매달려': 2265, '정적': 2266, '마술사': 2267, '뺄셈으로': 2268, '전쟁영화를': 2269, '조각하다': 2270, '장르들': 2271, '까치발': 2272, '가봤던': 2273, '곳과': 2274, '해봤던': 2275, '일인데도': 2276, '캐릭터보다': 2277, '앙상블에': 2278, '집중하는': 2279, '연출로': 2280, '지옥에서도': 2281, '겯는': 2282, '생명들의': 2283, '전한다': 2284, '쇼트로': 2285, '찍어야': 2286, '이와이': 2287, '슌지의': 2288, '작품들': 2289, '고르라면': 2290, '영문학의': 2291, '고전을': 2292, '서정적으로': 2293, '각색하다': 2294, '부모자식': 2295, '간이라도': 2296, '못하면': 2297, '감정은': 2298, '절실해진다': 2299, '인간사': 2300, '번민을': 2301, '품어줄': 2302, '떨어져': 2303, '디': 2304, '아워스의': 2305, '성과에': 2306, '비교할': 2307, '아쉬움': 2308, '압도하는': 2309, '강탈': 2310, '되살려냈다': 2311, '샤말란은': 2312, '갖지': 2313, '순간도': 2314, '핵심에서': 2315, '마침표': 2316, '찍기를': 2317, '미루는': 2318, '필생의': 2319, '프로젝트': 2320, '통곡이나': 2321, '흥분': 2322, '살아가야': 2323, '나날의': 2324, '아픔': 2325, '아픔을': 2326, '빚으며': 2327, '구석구석에서': 2328, '아이들이': 2329, '제니퍼': 2330, '로렌스의': 2331, '동년배': 2332, '최강연기': 2333, '브래들리': 2334, '쿠퍼의': 2335, '최고연기': 2336, '섣불리': 2337, '견주는': 2338, '주방과': 2339, '식탁의': 2340, '풍경들로': 2341, '충만하게': 2342, '요요를': 2343, '떠올리는': 2344, '몰려오는': 2345, '바람': 2346, '관습들을': 2347, '웃어도': 2348, '싶은데도': 2349, '요령부득의': 2350, '연쇄살인': 2351, '소재로도': 2352, '이야기할': 2353, '간명하고도': 2354, '켄': 2355, '로치의': 2356, '목소리가': 2357, '복지는': 2358, '시혜가': 2359, '권리': 2360, '대중문화의': 2361, '절대우위는': 2362, '록밴드와': 2363, '감독은': 2364, '삼십대': 2365, '중반에': 2366, '대가가': 2367, '정신': 2368, '바짝': 2369, '차리고': 2370, '보아야': 2371, '후더닛무비의': 2372, '모래성': 2373, '상흔의': 2374, '유리성': 2375, '반듯하고': 2376, '번듯하다': 2377, '지나갔기에': 2378, '떠올려지는': 2379, '절레절레': 2380, '젓게': 2381, '하던': 2382, '끄덕이게': 2383, '메모': 2384, '수첩에서': 2385, '만난': 2386, '웰컴': 2387, '동막골과': 2388, '공동경비구역': 2389, '예상대로': 2390, '진행될': 2391, '당혹스럽다': 2392, '스파크': 2393, '따분함': 2394, '아무리': 2395, '비수기의': 2396, '라지만': 2397, '불모의': 2398, '불능의': 2399, '사랑으로': 2400, '허우적대던': 2401, '자를': 2402, '소생시킨': 2403, '한여름밤의': 2404, '와주고': 2405, '코러스': 2406, '흘러주고': 2407, '빙빙': 2408, '돌아주다가': 2409, '부감으로': 2410, '제대한': 2411, '학도병들이': 2412, '배우와': 2413, '기획만': 2414, '놀게': 2415, '지그재그': 2416, '부작의': 2417, '따분한': 2418, '요동치는': 2419, '속도감': 2420, '섬광': 2421, '재능으로': 2422, '뿜었던': 2423, '가지': 2424, '영광과': 2425, '연민에': 2426, '않고서': 2427, '죽음을': 2428, '처리해야': 2429, '실용적': 2430, '질문을': 2431, '곱씹어야': 2432, '질문으로': 2433, '묻는다': 2434, '블럭버스터의': 2435, '탈을': 2436, '멜로영화': 2437, '청춘영화': 2438, '화성으로': 2439, '여자': 2440, '금성으로': 2441, '토드': 2442, '헤인즈의': 2443, '별의': 2444, '잔해이고': 2445, '조각들': 2446, '롤랜드': 2447, '에머리히': 2448, '감안하면': 2449, '특별히': 2450, '실망스럽진': 2451, '그래서': 2452, '별점은': 2453, '디테일들이': 2454, '단단히': 2455, '밀착되어': 2456, '아이러니': 2457, '상투성의': 2458, '함정에': 2459, '먹먹하게': 2460, '넘어지고': 2461, '부딪치면서': 2462, '배워간': 2463, '날들에': 2464, '회고담': 2465, '오래오래': 2466, '회자될': 2467, '장대하고도': 2468, '액션들들들': 2469, '뭐': 2470, '거죠라는': 2471, '대사로': 2472, '동굴에서': 2473, '벗어나': 2474, '분노의': 2475, '마그마를': 2476, '지아장커': 2477, '개인기에': 2478, '의존': 2479, '혼미하게': 2480, '르네': 2481, '젤웨거의': 2482, '팬들과': 2483, '앨범을': 2484, '하나하나': 2485, '넘긴': 2486, '송사': 2487, '밟지': 2488, '팽창하는': 2489, '내달릴': 2490, '곳은': 2491, '선사시대': 2492, '사후세계': 2493, '헬게이트가': 2494, '다는': 2495, '물어야': 2496, '타이밍이어서': 2497, '묻는': 2498, '싫었다': 2499, '시간여행': 2500, '테마의': 2501, '다양한': 2502, '용처': 2503, '시작하고': 2504, '끝냈을까': 2505, '덮었다': 2506, '정치란': 2507, '최악을': 2508, '피하기': 2509, '차악의': 2510, '전부를': 2511, '폐수처럼': 2512, '매캐하게': 2513, '흘러드는': 2514, '서말이라도': 2515, '죽느냐의': 2516, '소용돌이에': 2517, '휘말리지': 2518, '의연하게': 2519, '미학적': 2520, '개성': 2521, '말하자면': 2522, '지구를': 2523, '지켜라': 2524, '기도하고': 2525, '탐닉하며': 2526, '고통받고': 2527, '광란하는': 2528, '현존': 2529, '겁먹은': 2530, '숙주에': 2531, '사정으로': 2532, '각자': 2533, '달라도': 2534, '가족일': 2535, '예술을': 2536, '예술로': 2537, '이루지': 2538, '이룬': 2539, '시든다': 2540, '집요하고': 2541, '흥미롭다': 2542, '카메라는': 2543, '맞이할까': 2544, '기계가': 2545, '대체해가는': 2546, '어림없다고': 2547, '외치는': 2548, '선수가': 2549, '맥없이': 2550, '재활용하는': 2551, '전작의': 2552, '모티브들': 2553, '단점까지도': 2554, '성취한': 2555, '동경과': 2556, '조바심': 2557, '허명을': 2558, '위선의': 2559, '들여다보는': 2560, '만화경': 2561, '갉아먹는': 2562, '그림자와': 2563, '땅을': 2564, '찍어누르는': 2565, '하늘과': 2566, '운명을': 2567, '안개로': 2568, '부리는': 2569, '코언의': 2570, '도술': 2571, '내로': 2572, '리부트될': 2573, '거라는': 2574, '데에': 2575, '만원': 2576, '겁니다': 2577, '로봇이': 2578, '바다로': 2579, '성큼성큼': 2580, '걸어들어갈': 2581, '두근거림': 2582, '속도를': 2583, '걷다보니': 2584, '충만해졌다': 2585, '숭숭': 2586, '파인딩': 2587, '포레스터의': 2588, '얼개를': 2589, '일차방정식으로': 2590, '파악한': 2591, '대입해서': 2592, '푼다': 2593, '행동도': 2594, '뒤틀려버리는': 2595, '입과': 2596, '뇌에서': 2597, '끝도': 2598, '리플레이되는': 2599, '선율': 2600, '희망과': 2601, '생명을': 2602, '담기': 2603, '부득불': 2604, '수난을': 2605, '안겨야': 2606, '구석이라곤': 2607, '씻고': 2608, '예술은': 2609, '안의': 2610, '바다를': 2611, '내려치는': 2612, '도끼카프카같은': 2613, '좌절을': 2614, '일어서는': 2615, '낯익은': 2616, '그렇다면': 2617, '번째엔': 2618, '선택을': 2619, '양두구육': 2620, '속편까지': 2621, '챙겨본': 2622, '인내심에': 2623, '한탄하며': 2624, '타인은': 2625, '불은': 2626, '생존본능': 2627, '처음과': 2628, '끝을': 2629, '옆에서': 2630, '지켜본': 2631, '임상수': 2632, '조물주': 2633, '치렀던': 2634, '잔치는': 2635, '느닷없고': 2636, '짧은데': 2637, '견뎌야': 2638, '후일담은': 2639, '시시하고': 2640, '주제의식과': 2641, '엄격한': 2642, '형식미': 2643, '체화한': 2644, '원악과': 2645, '차악과': 2646, '독선이': 2647, '뒤엉키는': 2648, '뻘밭에서': 2649, '믿음을': 2650, '묻다': 2651, '폐곡선에': 2652, '고인': 2653, '우수': 2654, '체액으로': 2655, '현상한': 2656, '웃는': 2657, '피곤해': 2658, '밋밋하지만': 2659, '튼튼한': 2660, '교량': 2661, '멜': 2662, '깁슨의': 2663, '집념': 2664, '아집': 2665, '홍상수': 2666, '지금도옳고그때도옳다': 2667, '병적이고': 2668, '맹목적인데도': 2669, '끌려가': 2670, '좌초되는': 2671, '마력에': 2672, '이병헌의': 2673, '아닐까': 2674, '발자국': 2675, '지루해지는': 2676, '도발이라는': 2677, '악취미': 2678, '실천하는': 2679, '투쟁하는': 2680, '어우러졌다': 2681, '솜사탕': 2682, '먹기에': 2683, '월은': 2684, '후텁지근': 2685, '끼치도록': 2686, '엔딩의': 2687, '조응': 2688, '깔끔하고': 2689, '산뜻하게': 2690, '돈까지': 2691, '내고': 2692, '봐야': 2693, '단정한': 2694, '교복을': 2695, '입은': 2696, '첩보영화': 2697, '치유도': 2698, '창작도': 2699, '핵심은': 2700, '귀기울일': 2701, '것인가의': 2702, '문제라는': 2703, '경청의': 2704, '논점을': 2705, '파고들면서': 2706, '사려': 2707, '태도도': 2708, '잃지': 2709, '신뢰감': 2710, '그물에': 2711, '걸리지': 2712, '바람처럼': 2713, '가다': 2714, '가': 2715, '뜨면': 2716, '모르게': 2717, '치게': 2718, '기척을': 2719, '응시하다': 2720, '닿을': 2721, '곳을': 2722, '구조신호가': 2723, '웅웅거린다': 2724, '소재만': 2725, '있었지': 2726, '언브레이커블': 2727, '모티브와': 2728, '이미지의': 2729, '이식': 2730, '혼자일': 2731, '바깥의': 2732, '향하던': 2733, '내부의': 2734, '동굴을': 2735, '울리기': 2736, '시작했을': 2737, '밀려드는': 2738, '탁류에': 2739, '아주': 2740, '매력이라곤': 2741, '가정폭력의': 2742, '작동방식을': 2743, '끼치는': 2744, '실감으로': 2745, '연속성을': 2746, '무시하며': 2747, '달려나가는': 2748, '망가져도': 2749, '망가져서': 2750, '테리': 2751, '길리엄의': 2752, '손끝에서': 2753, '빚어진': 2754, '혼돈스런': 2755, '세기말의': 2756, '예고편': 2757, '낚시': 2758, '격정으로': 2759, '웅변하지': 2760, '옷깃을': 2761, '여민': 2762, '쉰': 2763, '굳게': 2764, '다짐한다': 2765, '남성에서': 2766, '여성으로': 2767, '모멸에서': 2768, '연민으로': 2769, '치정에서': 2770, '우정으로': 2771, '열어젖히지': 2772, '시간만이': 2773, '희망이다': 2774, '삶이란': 2775, '비극이고': 2776, '어쩌다': 2777, '희극이며': 2778, '어쩌면': 2779, '춤': 2780, '소설보다': 2781, '낫다': 2782, '여기까지겠지': 2783, '한참': 2784, '들어간다': 2785, '선하디': 2786, '포착과': 2787, '분방한': 2788, '초현실': 2789, '미끄러진다': 2790, '지탱하느라': 2791, '쉴새없이': 2792, '창백한': 2793, '달빛': 2794, '우주의': 2795, '오리지널에': 2796, '있었구나': 2797, '시선들로': 2798, '웅웅대는': 2799, '운동장에서': 2800, '카메라만이': 2801, '동동': 2802, '구르며': 2803, '지켜본다': 2804, '불안한': 2805, '웃음과': 2806, '고함에서': 2807, '참을': 2808, '눈물까지': 2809, '뼛속': 2810, '아노라': 2811, '혼돈': 2812, '버겁게': 2813, '언니가': 2814, '건조한': 2815, '바탕': 2816, '일급배우들의': 2817, '테크닉이': 2818, '발한다': 2819, '리안과': 2820, '장이모': 2821, '까치발로': 2822, '불타올랐던': 2823, '시간들이': 2824, '재와': 2825, '뼈': 2826, '장편영화로': 2827, '완성할': 2828, '부족하다': 2829, '장맛은': 2830, '뒷맛이거늘': 2831, '봉준호는': 2832, '시작부터': 2833, '빛났다': 2834, '난': 2835, '돌직구': 2836, '아버지들을': 2837, '위하여': 2838, '반전강박에': 2839, '잡아먹힌': 2840, '확고하게': 2841, '관철해낸': 2842, '스타일로': 2843, '의문들을': 2844, '잠재운다': 2845, '미디어와': 2846, '여론이': 2847, '삼키기': 2848, '떡밥': 2849, '흐름과': 2850, '디테일이': 2851, '조응하지': 2852, '총체적': 2853, '난맥': 2854, '호연에도': 2855, '클로즈업': 2856, '쇼트들이': 2857, '지속시간을': 2858, '버텨내지': 2859, '담을': 2860, '아름다움을': 2861, '품을': 2862, '양식에': 2863, '신성': 2864, '윤리로': 2865, '작동하는': 2866, '임창정에': 2867, '빚진': 2868, '이뤄지지': 2869, '않았다고': 2870, '사람과': 2871, '사람처럼': 2872, '어둑한': 2873, '틈새': 2874, '서정': 2875, '영국식': 2876, '일급유머의': 2877, '향연': 2878, '우리를': 2879, '되돌아가게': 2880, '첫사랑이': 2881, '떠나보내지': 2882, '자체': 2883, '장르가': 2884, '깊이를': 2885, '갖추게': 2886, '유작으로': 2887, '만들어야': 2888, '데뷔작으로': 2889, '제시한다': 2890, '극장보다는': 2891, '교육방송': 2892, '채널에': 2893, '떠들썩한': 2894, '거대': 2895, '이벤트로부터': 2896, '돌려': 2897, '고독한': 2898, '내면을': 2899, '각본에': 2900, '규모를': 2901, '키우고도': 2902, '전편을': 2903, '능가하지': 2904, '허다한': 2905, '속편들의': 2906, '미로': 2907, '로봇춤어린이를': 2908, '솜씨있게': 2909, '버무려': 2910, '연다': 2911, '선연하게': 2912, '타오르는': 2913, '불꽃같다': 2914, '먹을': 2915, '전통': 2916, '상차림': 2917, '모성의': 2918, '목소리조차': 2919, '박탈한': 2920, '크신': 2921, '사랑만을': 2922, '돌림노래로': 2923, '공업적': 2924, '최루법': 2925, '활로는': 2926, '하루': 2927, '절충적': 2928, '영화만들기의': 2929, '폐해': 2930, '아이들의': 2931, '외로움과': 2932, '혼곤함을': 2933, '기름진': 2934, '상념': 2935, '취향의': 2936, '폭주': 2937, '마주치게': 2938, '뻔뻔한': 2939, '클라이맥스의': 2940, '왕국의': 2941, '수도는': 2942, '비전이': 2943, '마력으로': 2944, '통합된': 2945, '정점': 2946, '몰아붙인다': 2947, '이렇게까지': 2948, '매력없는': 2949, '캐릭터도': 2950, '드물': 2951, '공형진과': 2952, '박철만으로는': 2953, '제약을': 2954, '긴장의': 2955, '연료로': 2956, '삼았다': 2957, '뽀얗지만': 2958, '게으른': 2959, '하비': 2960, '카이텔의': 2961, '빗나간': 2962, '집착과': 2963, '뒤틀린': 2964, '욕망이': 2965, '초래한': 2966, '종말을': 2967, '재난영화처럼': 2968, '파국의': 2969, '서커스': 2970, '우화의': 2971, '부인하기': 2972, '효용이': 2973, '사라진': 2974, '후에야': 2975, '가치로': 2976, '찬란한': 2977, '달음박질': 2978, '줄줄': 2979, '늘어놓거나': 2980, '질질': 2981, '끌거나': 2982, '벽을': 2983, '세르지오': 2984, '레오네의': 2985, '미래의': 2986, '곁눈질하다가': 2987, '눈앞의': 2988, '빠지다': 2989, '것이면서': 2990, '현실에': 2991, '눌리지도': 2992, '착취하지도': 2993, '않으면서': 2994, '대담하게': 2995, '게임은': 2996, '참여자': 2997, '패배하게': 2998, '욕망고통의': 2999, '순환에': 3000, '인식과': 3001, '구체적': 3002, '표현': 3003, '괴리': 3004, '착상을': 3005, '나갈': 3006, '갖췼다': 3007, '내다보이는': 3008, '궤적에서': 3009, '않더라도': 3010, '온': 3011, '몸으로': 3012, '신명나게': 3013, '지도보기도': 3014, '못하면서': 3015, '우연히': 3016, '피택된': 3017, '가려면': 3018, '물을': 3019, '항상': 3020, '당신에게': 3021, '봤는데도': 3022, '최종편이': 3023, '궁금하다니': 3024, '이름은': 3025, '제이슨': 3026, '스릴러에서': 3027, '아이러니란': 3028, '활용하는': 3029, '무난하다는': 3030, '맨인블랙': 3031, '시리즈에는': 3032, '정체성': 3033, '위기': 3034, '행복하게': 3035, '만났다': 3036, '울버린': 3037, '전체에': 3038, '느낌까지': 3039, '완전히': 3040, '바꿔버린': 3041, '진작에': 3042, '쫌': 3043, '조폭코미디와': 3044, '휴먼드라마의': 3045, '루빅스': 3046, '큐브처럼': 3047, '허겁지겁': 3048, '감정과': 3049, '오가는': 3050, '희미하고도': 3051, '발자국들': 3052, '빚어지지도': 3053, '겅중겅중': 3054, '뛰어다닌다': 3055, '뜨는': 3056, '제목까지': 3057, '접하고나면': 3058, '독무는': 3059, '인무': 3060, '코': 3061, '시큰한': 3062, '무난한': 3063, '짐작할': 3064, '것만으로도': 3065, '설': 3066, '상실이란': 3067, '사람일': 3068, '우연을': 3069, '사람이어야만': 3070, '운명으로': 3071, '쏘았지만': 3072, '화살': 3073, '끌어들이면서도': 3074, '논란을': 3075, '배제하려': 3076, '주제의식으로': 3077, '막': 3078, '나가는': 3079, '후련함과': 3080, '서늘함': 3081, '과감하고도': 3082, '젖는': 3083, '사람에게서': 3084, '선량한': 3085, '날카롭게': 3086, '짜인': 3087, '놀랍게': 3088, '도드라진': 3089, '이설': 3090, '기다리게': 3091, '캐릭터만': 3092, '바꿔도': 3093, '새로워진다': 3094, '쏘아올려진': 3095, '잃어': 3096, '구역에': 3097, '떨어진': 3098, '오발탄': 3099, '볼품': 3100, '열연': 3101, '로고스': 3102, '역동적이고': 3103, '창의적인': 3104, '블랙을': 3105, '데리고': 3106, '처음으로': 3107, '화끈하게': 3108, '되돌아간': 3109, '마감하는': 3110, '최악에': 3111, '종결법': 3112, '점프컷의': 3113, '튀는': 3114, '하야오에': 3115, '정감': 3116, '화답': 3117, '도중에': 3118, '감독이': 3119, '바뀌면': 3120, '무탈하기': 3121, '얼굴들을': 3122, '소개한다': 3123, '여고괴담의': 3124, '그랬듯': 3125, '인크레더블에': 3126, '드림웍스의': 3127, '티끌로': 3128, '징그러울': 3129, '집요한': 3130, '만': 3131, '전인미답의': 3132, '심플하고': 3133, '힘있게': 3134, '치고': 3135, '통쾌함': 3136, '인물과': 3137, '가장자리에서': 3138, '물장구만': 3139, '친다': 3140, '손바닥에': 3141, '주먹의': 3142, '성과': 3143, '경계선에서': 3144, '딜레마와': 3145, '모순을': 3146, '깊숙이': 3147, '결정하는': 3148, '화자가': 3149, '청자': 3150, '광장의': 3151, '밀실의': 3152, '휘어진': 3153, '점묘화': 3154, '부부는': 3155, '무엇으로': 3156, '사는가에': 3157, '해답': 3158, '마지막이': 3159, '무게를': 3160, '지고': 3161, '불투명한': 3162, '공백을': 3163, '용납치': 3164, '투명한': 3165, '혼곤하게': 3166, '꽤': 3167, '있었지만': 3168, '들려줄': 3169, '활력으로': 3170, '살아낸': 3171, '거윅': 3172, '어떻길래라는': 3173, '보았다가레알': 3174, '시도가': 3175, '특히': 3176, '성룡은': 3177, '구하는': 3178, '제시하지': 3179, '선물하는': 3180, '일': 3181, '김윤석유아인은': 3182, '비극적': 3183, '설정으로부터': 3184, '훈훈한': 3185, '길어낸다': 3186, '고양이에겐': 3187, '다정하고': 3188, '인간에겐': 3189, '담담하며': 3190, '도시에겐': 3191, '유머라기보다는': 3192, '해학': 3193, '페이소스라기보다는': 3194, '도통': 3195, '터지지': 3196, '맺히자마자': 3197, '얼어붙는': 3198, '시시각각': 3199, '벽에': 3200, '부딪치며': 3201, '힘의': 3202, '포착한다': 3203, '지기': 3204, '경기장에서는': 3205, '선수들의': 3206, '현재의': 3207, '신기전': 3208, '발사의': 3209, '만으론': 3210, '볼거리든': 3211, '메시지든': 3212, '가닿은': 3213, '곳에서': 3214, '흐릿하게': 3215, '좀비에게': 3216, '옷': 3217, '입히기': 3218, '잘못된': 3219, '만남': 3220, '정치의': 3221, '써니를': 3222, '호출했을': 3223, '악마성을': 3224, '방식이': 3225, '참혹하고': 3226, '직접적인': 3227, '범행장면의': 3228, '현시': 3229, '자체라면': 3230, '여름이라서': 3231, '고마운': 3232, '년만의': 3233, '국내': 3234, '상영': 3235, '짜릿했던': 3236, '여전할까': 3237, '되어야': 3238, '할텐데': 3239, '관조하는': 3240, '희대의': 3241, '뮤직': 3242, '케이퍼무비가': 3243, '시작은': 3244, '그럴듯하지만': 3245, '진부하지': 3246, '에피소드': 3247, '줄리': 3248, '델피는': 3249, '배우로서만': 3250, '나을': 3251, '믿으세요': 3252, '크림': 3253, '아이들을': 3254, '낳아': 3255, '키울': 3256, '세상인가': 3257, '눈의': 3258, '잔상과': 3259, '편지의': 3260, '이명': 3261, '흔적들': 3262, '봉준호': 3263, '카락스': 3264, '에': 3265, '공드리': 3266, '행복할': 3267, '절망의': 3268, '정량분석과': 3269, '정성분석이': 3270, '블록버스터로': 3271, '이의없음': 3272, '할로윈데이에': 3273, '크리스마스': 3274, '멜로드라마의': 3275, '햇살같은': 3276, '축복': 3277, '관성적이고': 3278, '지루한': 3279, '라스트신이라니': 3280, '자신만만한': 3281, '오리엔탈리즘과': 3282, '노스탤지어가': 3283, '신기루': 3284, '만나다': 3285, '마주하는': 3286, '놀라움': 3287, '어둠에': 3288, '서린': 3289, '스릴을': 3290, '삼아': 3291, '통절하게': 3292, '환상이': 3293, '스멀스멀': 3294, '아득함': 3295, '고삐': 3296, '풀린': 3297, '대담한': 3298, '작법으로': 3299, '비틀어낸': 3300, '에덴의': 3301, '저편': 3302, '달콤쌉싸름한': 3303, '화룡점정하는': 3304, '장면들과': 3305, '현재': 3306, '장면들의': 3307, '배분에서부터': 3308, '실패': 3309, '화법의': 3310, '불협화음': 3311, '인물들이': 3312, '오랫동안': 3313, '살아온': 3314, '기분좋게': 3315, '간지럽다': 3316, '킬러처럼': 3317, '예측하고': 3318, '임기응변': 3319, '득이': 3320, '되는지만': 3321, '자문하는': 3322, '프로페셔널리즘': 3323, '노래하라': 3324, '온기로': 3325, '입이': 3326, '손을': 3327, '따라가야': 3328, '비로소': 3329, '들리는': 3330, '아바타': 3331, '직설적이고': 3332, '결연한': 3333, '제목에': 3334, '걸맞다': 3335, '재치를': 3336, '부리고': 3337, '굴곡을': 3338, '사안에': 3339, '제언의': 3340, '약화됐다': 3341, '쏟아낸다': 3342, '주워담질': 3343, '업의': 3344, '인연의': 3345, '고리를': 3346, '밸런스를': 3347, '무시한': 3348, '단순하게': 3349, '공동체를': 3350, '유기체처럼': 3351, '유기체가': 3352, '외부로부터의': 3353, '이물질에': 3354, '반응하는지': 3355, '그려낸다': 3356, '견디기': 3357, '판타지가': 3358, '필요하다는': 3359, '쓰라린': 3360, '깨달음': 3361, '살만한': 3362, '사회를': 3363, '직업윤리': 3364, '독립변수인': 3365, '종속변수인': 3366, '함수': 3367, '산이': 3368, '받아야': 3369, '돈이': 3370, '범죄영화의': 3371, '클리셰나': 3372, '맥거핀이': 3373, '약속인': 3374, '신선함': 3375, '고급': 3376, '프랑스': 3377, '패스트푸드': 3378, '보도록': 3379, '리액션': 3380, '그림': 3381, '구경만': 3382, '두시간': 3383, '미지가': 3384, '기지에': 3385, '당신은': 3386, '두려운': 3387, '뭔지': 3388, '계급투쟁처럼': 3389, '보였던': 3390, '사회생물학': 3391, '암연': 3392, '광기': 3393, '독기': 3394, '똘끼의': 3395, '전종서': 3396, '안에서만': 3397, '미묘한': 3398, '공기를': 3399, '떨리는': 3400, '완벽주의': 3401, '영화들이': 3402, '애용하는': 3403, '편리하고도': 3404, '패스트이긴': 3405, '하지만': 3406, '퓨리어스라니요': 3407, '들여다본다는': 3408, '그때를': 3409, '돌아다본다는': 3410, '샤말란이': 3411, '터미네이터를': 3412, '중병의': 3413, '앓고': 3414, '아픈': 3415, '써내려간': 3416, '일기': 3417, '캐릭터에서': 3418, '길어낸': 3419, '상황에': 3420, '액션이': 3421, '싸운다는': 3422, '사랑한다는': 3423, '치열하게': 3424, '지극히': 3425, '휴먼드라마를': 3426, '구해낸': 3427, '자체보다는': 3428, '파장을': 3429, '리액션이': 3430, '복합적': 3431, '입장을': 3432, '고밀도': 3433, '아쉬가르': 3434, '파라디가': 3435, '한국영화를': 3436, '만든다면': 3437, '영화에서의': 3438, '링겔만': 3439, '불쾌하기만': 3440, '미쳤거나': 3441, '핑계로': 3442, '디테일인가': 3443, '재미보다는': 3444, '멜로의': 3445, '갖췄다': 3446, '기타노': 3447, '다케시': 3448, '엔터테이너': 3449, '무능을': 3450, '감추기': 3451, '물량공세': 3452, '밑바닥': 3453, '오싹하지도': 3454, '로맨틱하지도': 3455, '연애': 3456, '노래가': 3457, '춤이': 3458, '아니죠': 3459, '배려': 3460, '예의': 3461, '나이': 3462, '차이조차': 3463, '극복하기': 3464, '자랐다': 3465, '제이미': 3466, '벨': 3467, '하늘을': 3468, '떠돌다': 3469, '꿀': 3470, '모금': 3471, '겨우': 3472, '돌아오던': 3473, '벌들은': 3474, '갔을까': 3475, '객석까지': 3476, '감염시키고야': 3477, '불안': 3478, '묻어둔': 3479, '비밀의': 3480, '웅얼대는': 3481, '때린다': 3482, '부순다': 3483, '무너버린다': 3484, '최남선': 3485, '해에게서': 3486, '소년에게': 3487, '좀비영화인데도': 3488, '펜과': 3489, '패닝': 3490, '비틀즈의': 3491, '따스한어울림': 3492, '속편이라기보다는': 3493, '전편의': 3494, '재활용': 3495, '하정우를': 3496, '신뢰할': 3497, '볼거리': 3498, '메아리': 3499, '메시지': 3500, '터지는': 3501, '새는': 3502, '엑스맨': 3503, '사랑하게': 3504, '웃기기와': 3505, '우기기의': 3506, '차이': 3507, '끊어지기': 3508, '직전의': 3509, '곡예': 3510, '반짝한': 3511, '우왕좌왕': 3512, '사랑영화와': 3513, '지점에': 3514, '뿌리내린': 3515, '예쁜': 3516, '나무': 3517, '그루': 3518, '캐릭터만으로는': 3519, '부족할': 3520, '발산하지': 3521, '수렴하는': 3522, '맛': 3523, '죽음의': 3524, '문명은': 3525, '거짓희망과': 3526, '슈퍼마켓을': 3527, '만들어냈나': 3528, '흩뜨리고': 3529, '상상해보는': 3530, '고흐의': 3531, '시선들': 3532, '늙어가는': 3533, '사랑할': 3534, '윤인호': 3535, '체온': 3536, '발랄한': 3537, '세태극의': 3538, '잡은': 3539, '작위적': 3540, '시스터후드': 3541, '정보국': 3542, '직원의': 3543, '허탈감을': 3544, '직업': 3545, '혼돈을': 3546, '에너지로': 3547, '끌어들이려다': 3548, '흔들린': 3549, '쉬리만큼': 3550, '매끈하고': 3551, '쉬리처럼': 3552, '땅거미': 3553, '질': 3554, '무렵': 3555, '한가운데서': 3556, '들려오는': 3557, '거란': 3558, '다짐의': 3559, '넌센스': 3560, '웅대한': 3561, '한가운데': 3562, '자리한': 3563, '인류학자의': 3564, '신화학자의': 3565, '망치처럼': 3566, '내려치고': 3567, '정처럼': 3568, '파고든다': 3569, '대지진에': 3570, '도시를': 3571, '다루다가': 3572, '해왔던': 3573, '것에서': 3574, '튕겨져나와': 3575, '해야할': 3576, '바라보다': 3577, '찾아낸': 3578, '톱니의': 3579, '호사를': 3580, '누리게': 3581, '좀비': 3582, '서스펜스의': 3583, '용례': 3584, '모음집': 3585, '편으로': 3586, '엮었다': 3587, '무난하게': 3588, '보았을': 3589, '양가적인': 3590, '심정이란': 3591, '길고': 3592, '독백의': 3593, '대사를': 3594, '체화하는': 3595, '꿈보다': 3596, '연민': 3597, '거시적': 3598, '느껴지지': 3599, '음악의': 3600, '과대망상': 3601, '챕터와': 3602, '센스로': 3603, '경박해지는': 3604, '챕터가': 3605, '착한': 3606, '지루하다는': 3607, '편견을': 3608, '깨면서': 3609, '탄탄하고': 3610, '쌈박하다': 3611, '바닥이': 3612, '심연을': 3613, '마주한': 3614, '캔버스를': 3615, '욕망하는': 3616, '붓을': 3617, '동경하는': 3618, '존재론을': 3619, '풍경화로': 3620, '뜨거워지는': 3621, '본능적으로': 3622, '경계하는': 3623, '성향과': 3624, '뜨거워질': 3625, '특성': 3626, '줄다리기': 3627, '잃어버린': 3628, '자식에': 3629, '비통한': 3630, '이야기라기보단': 3631, '상실한': 3632, '유년성에': 3633, '마스터': 3634, '마스터터치': 3635, '마스터피스': 3636, '한계가': 3637, '드러난다': 3638, '떠났으되': 3639, '새것은': 3640, '오지': 3641, '못했다': 3642, '내뿜는': 3643, '한숨에': 3644, '짝짓기의': 3645, '윈터보텀도': 3646, '이럴': 3647, '원작을': 3648, '재창조한': 3649, '데서': 3650, '엿보이는': 3651, '원형적이고': 3652, '신화적인': 3653, '자신감': 3654, '푸르른': 3655, '쑥갓과': 3656, '힘찬': 3657, '두꺼비들까지': 3658, '불러와서': 3659, '작위와': 3660, '뜬구름': 3661, '트란': 3662, '훙': 3663, '내려앉았다': 3664, '숱하게': 3665, '망쳤다': 3666, '대통령의': 3667, '사람들과': 3668, '거론될': 3669, '언론영화': 3670, '강렬하고': 3671, '전복적이며': 3672, '영화와도': 3673, '다르다': 3674, '당겨보면': 3675, '성긴': 3676, '틈': 3677, '순간부터': 3678, '오금으로': 3679, '그때는': 3680, '몰랐다고': 3681, '잊었다고': 3682, '수단에': 3683, '해묵은': 3684, '논쟁': 3685, '영화제': 3686, '울타리': 3687, '밖에서의': 3688, '생존력에': 3689, '확신이': 3690, '서지': 3691, '아오야마': 3692, '신지의': 3693, '영화들도': 3694, '개봉할': 3695, '있기를': 3696, '부디': 3697, '특정한': 3698, '시공간': 3699, '개인적': 3700, '보편성의': 3701, '달아준': 3702, '예술': 3703, '카메론': 3704, '디아즈는': 3705, '호들갑': 3706, '연기계의': 3707, '효도르': 3708, '대중영화에서': 3709, '모든것은': 3710, '게임이어야만': 3711, '예상하시는': 3712, '그대롭니다': 3713, '살아낼': 3714, '믿지': 3715, '모셔둘': 3716, '희극이고': 3717, '느끼는': 3718, '모든게': 3719, '비극이다': 3720, '묵은': 3721, '일신하는': 3722, '스타들의': 3723, '광휘': 3724, '확신할': 3725, '없어도': 3726, '행동하기를': 3727, '멈추지': 3728, '방울도': 3729, '헛되이': 3730, '흘리지': 3731, '세공력과': 3732, '보법': 3733, '억지스런': 3734, '청춘스타의': 3735, '빛나는': 3736, '십수년': 3737, '전의': 3738, '픽사처럼': 3739, '스포츠카에': 3740, '타고도': 3741, '밟는다': 3742, '찰나에': 3743, '제프': 3744, '브리지스': 3745, '만드는지': 3746, '위트와': 3747, '하모니': 3748, '관객에게': 3749, '안기기': 3750, '인간들의': 3751, '짓만': 3752, '하드보일드가': 3753, '신비주의를': 3754, '만나': 3755, '빚은': 3756, '기적같은': 3757, '재난영화의': 3758, '성선설': 3759, '주물럭거리다가': 3760, '괴물을': 3761, '속스럽고': 3762, '야단스런': 3763, '절대사랑의': 3764, '관념성에': 3765, '붙들려': 3766, '있어': 3767, '옆을': 3768, '데페이즈망과': 3769, '데포르마숑': 3770, '현대미술': 3771, '개념들로': 3772, '병리학': 3773, '깔': 3774, '나가던': 3775, '어쭙잖은': 3776, '잡아먹었다': 3777, '엘르': 3778, '패닝만큼은': 3779, '발하지만': 3780, '멱살을': 3781, '붙잡고': 3782, '공멸해가는': 3783, '인간사가': 3784, '허허롭게': 3785, '건너뛰는': 3786, '자연': 3787, '언뜻': 3788, '맺힌다': 3789, '풋풋하고': 3790, '감성이': 3791, '관습적인': 3792, '악다구니와': 3793, '목덜미까지': 3794, '선득하게': 3795, '내려온': 3796, '밧줄': 3797, '인수합병에': 3798, '재치있는': 3799, '비즈니스영화': 3800, '경혈을': 3801, '침을': 3802, '놓아가며': 3803, '갈증을': 3804, '해결해주는': 3805, '팬서비스무비': 3806, '가는지': 3807, '보자는': 3808, '흥미롭고': 3809, '요즘의': 3810, '빌런이': 3811, '매력적': 3812, '세컨드': 3813, '유닛이': 3814, '퀄리티': 3815, '관객보다': 3816, '늦게': 3817, '뒷짐지고': 3818, '뒤흔드는': 3819, '용기있는': 3820, '극화': 3821, '사랑이야말로': 3822, '계급의': 3823, '장력에': 3824, '지배된다는': 3825, '통찰과': 3826, '변죽만': 3827, '울리고': 3828, '마는': 3829, '감성의': 3830, '부조화': 3831, '아마도': 3832, '짜증나는': 3833, '주인공': 3834, '캐릭터일': 3835, '러셀의': 3836, '영화에만': 3837, '나오면': 3838, '감동적일': 3839, '부는': 3840, '신카이': 3841, '마코토': 3842, '작품세계의': 3843, '절정': 3844, '배우들만': 3845, '공식': 3846, '이식실험': 3847, '성공': 3848, '대중영화': 3849, '전진하다': 3850, '괴수들이': 3851, '등장하고나면': 3852, '전까지의': 3853, '과정이': 3854, '무의미하게': 3855, '본능적인': 3856, '가족애보다': 3857, '보완해주는': 3858, '장점은': 3859, '러닝타임이': 3860, '분이라는': 3861, '명절용': 3862, '기품있는': 3863, '손예진의': 3864, '관계인지도': 3865, '짐작하기': 3866, '연유인지도': 3867, '사건들': 3868, '생각하는지': 3869, '아리송한': 3870, '심리를': 3871, '탐색한다': 3872, '좋았던': 3873, '점을': 3874, '그만하면그럭저럭나름': 3875, '부사들이': 3876, '달라붙는다는': 3877, '게이': 3878, '로맨스': 3879, '범죄를': 3880, '실감나게': 3881, '하도': 3882, '긴장하면서': 3883, '봤더니': 3884, '몸이': 3885, '아프네': 3886, '더하기': 3887, '둘보다': 3888, '적은': 3889, '서쪽에서': 3890, '동쪽으로': 3891, '이동방향을': 3892, '바꾸고': 3893, '여성을': 3894, '중심에': 3895, '놓고서': 3896, '토미': 3897, '존스가': 3898, '써낸': 3899, '의미심장한': 3900, '서부극': 3901, '자기연민의': 3902, '밀실에서': 3903, '용두사미의': 3904, '번쩍거리는': 3905, '장식들만': 3906, '엣지라곤': 3907, '대를': 3908, '호러는': 3909, '실력': 3910, '차이가': 3911, '두드러지는': 3912, '그림자를': 3913, '담아냈다': 3914, '새를': 3915, '날려보내어': 3916, '안녕을': 3917, '고할': 3918, '권다함과': 3919, '권소현의': 3920, '향후': 3921, '활약을': 3922, '설명사건설명사건설명사건': 3923, '절로': 3924, '정우의': 3925, '멍하고': 3926, '맹한': 3927, '표정': 3928, '이스트우드가': 3929, '미리': 3930, '써둔': 3931, '유서를': 3932, '허락된': 3933, '자각된': 3934, '개성보다는': 3935, '안정적': 3936, '화술로': 3937, '페이지를': 3938, '준비한다': 3939, '요절복통': 3940, '진행되지만': 3941, '가슴': 3942, '검푸른': 3943, '멍': 3944, '도약': 3945, '행진을': 3946, '속편이': 3947, '낙승': 3948, '독특한': 3949, '끌': 3950, '냉소적': 3951, '악다구니를': 3952, '외피를': 3953, '두른': 3954, '드라마는': 3955, '테니스를': 3956, '단체': 3957, '구기': 3958, '종목처럼': 3959, '젊고': 3960, '얇다': 3961, '호출하고': 3962, '호명한다': 3963, '옥타비아': 3964, '스펜서의': 3965, '뱀파이어와': 3966, '늑대인간과': 3967, '가족제도': 3968, '딜레마에': 3969, '노년의': 3970, '나날을': 3971, '감당하지': 3972, '기억되고': 3973, '인용될': 3974, '명': 3975, '전체보다': 3976, '존재감이': 3977, '강한': 3978, '움직임이': 3979, '의미하는': 3980, '스트레인지': 3981, '프루트를': 3982, '때만': 3983, '가슴이': 3984, '울렸다': 3985, '정해진': 3986, '지점들': 3987, '터덜터덜': 3988, '달린다': 3989, '인공지옥': 3990, '테마파크': 3991, '돌아가라': 3992, '요구하면서': 3993, '돌아가길': 3994, '외면해': 3995, '제자리를': 3996, '자본가의': 3997, '조롱': 3998, '세트플레이에': 3999, '능한': 4000, '달콤하고': 4001, '해결책에': 4002, '눈길조차': 4003, '주지': 4004, '신뢰': 4005, '위엄이': 4006, '메워버리는': 4007, '신인': 4008, '피스풀': 4009, '소울풀': 4010, '뷰티풀': 4011, '고독까지': 4012, '적셔주는': 4013, '시적': 4014, '파동': 4015, '작법의': 4016, '빈약함은': 4017, '진할수록': 4018, '두드러지기': 4019, '마련': 4020, '영완얼': 4021, '선하고': 4022, '온화하며': 4023, '초석을': 4024, '놓았다': 4025, '구내식당에선': 4026, '메뉴가': 4027, '나오길래': 4028, '약은': 4029, '약사에게': 4030, '엑스맨은': 4031, '브라이언': 4032, '싱어에게': 4033, '전체적으로': 4034, '밋밋하다': 4035, '촉각': 4036, '가질': 4037, '가지려는': 4038, '끊겨': 4039, '양분된': 4040, '편의적': 4041, '보이스오버로': 4042, '상상력을': 4043, '그물에서': 4044, '건져올린': 4045, '펄펄': 4046, '뛰는': 4047, '에피소드들': 4048, '사로잡힌': 4049, '침묵과': 4050, '환한': 4051, '둥지를': 4052, '틀어서': 4053, '밤바다의': 4054, '불빛이': 4055, '경계를': 4056, '문질러': 4057, '홀리게': 4058, '몽유의': 4059, '침전물에': 4060, '골똘한': 4061, '부끄러움': 4062, '세대': 4063, '권력을': 4064, '학살하다': 4065, '달라진': 4066, '한국은': 4067, '나라라는': 4068, '김승효씨의': 4069, '한서린': 4070, '일갈에': 4071, '변명하거나': 4072, '위로할': 4073, '없어': 4074, '참담해진다': 4075, '헤밍웨이와': 4076, '호퍼와': 4077, '심은경을': 4078, '삼은': 4079, '놀이터': 4080, '초심의': 4081, '수련장': 4082, '잔혹': 4083, '범죄에': 4084, '분노로': 4085, '위장한': 4086, '쾌락': 4087, '타율': 4088, '분주한': 4089, '눈물만': 4090, '떨구는': 4091, '딴': 4092, '수족을': 4093, '잘라내며': 4094, '연명하는': 4095, '조직이라는': 4096, '괴물': 4097, '정서와': 4098, '포근한': 4099, '코미디에도': 4100, '위페르': 4101, '비고': 4102, '모텐슨': 4103, '본성이': 4104, '작법과': 4105, '깡통의': 4106, '에티카': 4107, '내다보느라': 4108, '피하지': 4109, '밑': 4110, '제자리걸음을': 4111, '자크': 4112, '타티도': 4113, '박수': 4114, '치면서': 4115, '끄덕일': 4116, '만화와': 4117, '그만': 4118, '잊자는': 4119, '광란': 4120, '이들의': 4121, '전설적인': 4122, '감탄스럽다': 4123, '어떻게를': 4124, '위엄': 4125, '애달픈': 4126, '아무런': 4127, '착하다': 4128, '속편엔': 4129, '프레데터': 4130, '붙는다고': 4131, '분': 4132, '러닝타임에도': 4133, '영화음악의': 4134, '것이란': 4135, '부제를': 4136, '붙일': 4137, '자격이': 4138, '말과': 4139, '일치하는': 4140, '내려앉지': 4141, '흩날리는': 4142, '풍경화': 4143, '들어서지': 4144, '머뭇거린다': 4145, '가와세': 4146, '나오미': 4147, '특유의': 4148, '감상주의를': 4149, '줄였더라면': 4150, '좋았을텐데': 4151, '바뀐다': 4152, '종국엔': 4153, '그마저': 4154, '사라진다': 4155, '뮤지컬': 4156, '역대': 4157, '힘은': 4158, '반전이나': 4159, '발목': 4160, '보법으로': 4161, '걷는다': 4162, '못내': 4163, '아리다': 4164, '슬픔에게도': 4165, '교육적': 4166, '성취보다': 4167, '커': 4168, '헤매다': 4169, '맴돈다': 4170, '스푼': 4171, '적나라하고': 4172, '사로잡혀': 4173, '소름끼치도록': 4174, '전장영화': 4175, '지적이지만': 4176, '생동감': 4177, '크로넨버그라서': 4178, '덧칠한': 4179, '응어리들이': 4180, '부활로도': 4181, '구원을': 4182, '선물할': 4183, '성자': 4184, '고와야': 4185, '묻고': 4186, '물었던': 4187, '히로카즈': 4188, '사랑이라도': 4189, '침묵이': 4190, '부재는': 4191, '흔들리는': 4192, '불빛': 4193, '밝힌다': 4194, '샤이닝': 4195, '테마파크에서': 4196, '발이': 4197, '땅에': 4198, '붙지': 4199, '비장미': 4200, '임팩트': 4201, '조급증': 4202, '년에': 4203, '오리지널을': 4204, '년쯤': 4205, '리메이크한': 4206, '전부야라는': 4207, '너무나도': 4208, '유려하고': 4209, '지독히도': 4210, '기억만이': 4211, '메아리칠': 4212, '효과에': 4213, '집착하느라': 4214, '전체를': 4215, '재미가': 4216, '우스꽝스러워진다': 4217, '시리즈와': 4218, '청소년의': 4219, '달에': 4220, '방영되는': 4221, '단막극': 4222, '만물이': 4223, '정지한': 4224, '끼어들어': 4225, '오는': 4226, '딸꾹질': 4227, '약하다': 4228, '전율을': 4229, '불러': 4230, '일으키는': 4231, '비전': 4232, '여전한': 4233, '저력': 4234, '작심하면': 4235, '정도는': 4236, '분탕질이라니': 4237, '해결하거나': 4238, '복원할': 4239, '없다해도': 4240, '과거를': 4241, '직면하려는': 4242, '풍파와': 4243, '안식': 4244, '동어반복으로만': 4245, '굴러가는': 4246, '허무한': 4247, '김곡': 4248, '김선': 4249, '앰뷸런스가': 4250, '베스트': 4251, '꽉': 4252, '번째': 4253, '비운': 4254, '스크린에': 4255, '담다': 4256, '미스터리지만': 4257, '정서적': 4258, '웃고': 4259, '폴란스키의': 4260, '잔기술': 4261, '독기와': 4262, '깡으로': 4263, '으르렁대는': 4264, '수컷들의': 4265, '힘자랑을': 4266, '진하고도': 4267, '문제의식': 4268, '표현방식': 4269, '용서받으려는': 4270, '용기와': 4271, '용서하지': 4272, '결기': 4273, '아득해진다': 4274, '파워풀한': 4275, '속성이': 4276, '성숙한': 4277, '시선에': 4278, '스크린을': 4279, '찢고': 4280, '지켜줄': 4281, '사람에': 4282, '판타지에': 4283, '숨결을': 4284, '주동우': 4285, '인권은': 4286, '대상에': 4287, '따른': 4288, '예외가': 4289, '설득한다': 4290, '있었으나': 4291, '딱히': 4292, '말은': 4293, '한계로': 4294, '타협했던': 4295, '결말의': 4296, '본뜻을': 4297, '되살려낸': 4298, '원작자': 4299, '올컷보다': 4300, '올컷같은': 4301, '재해석': 4302, '그녀가': 4303, '두근거린다': 4304, '모여도': 4305, '나올': 4306, '감독님': 4307, '만수무강': 4308, '하시기를': 4309, '경기장면의': 4310, '촬영과': 4311, '자매의': 4312, '눈물나는': 4313, '쓰러져가는': 4314, '지탱한다': 4315, '영화만들기에': 4316, '고민과': 4317, '연기법에': 4318, '은행나무': 4319, '침대와': 4320, '단적비연수': 4321, '어딘가': 4322, '끝맺으면': 4323, '전까지': 4324, '말들은': 4325, '뭐가': 4326, '되나요': 4327, '명예와': 4328, '낭만의': 4329, '미명': 4330, '왜곡된': 4331, '처절할수록': 4332, '허망해지는': 4333, '결투': 4334, '주다가': 4335, '감독이라도': 4336, '어머니를': 4337, '미치고': 4338, '미쳐지지': 4339, '즐기기': 4340, '바꿔야': 4341, '기술을': 4342, '기억해야': 4343, '이름': 4344, '엘렌': 4345, '페이지': 4346, '심심한': 4347, '맛에': 4348, '입에': 4349, '넣는': 4350, '감자칩처럼': 4351, '욕망이라는': 4352, '이름의': 4353, '전장': 4354, '배두나의': 4355, '카리스마로도': 4356, '구해내지': 4357, '시각적이고': 4358, '쾌감으로': 4359, '전달해내는': 4360, '고유성': 4361, '단계와': 4362, '활공하면서': 4363, '거미줄처럼': 4364, '엮는': 4365, '데에는': 4366, '스파이더맨이': 4367, '제격': 4368, '숏컷이나': 4369, '매그놀리아가': 4370, '뛰어난지': 4371, '알려준다': 4372, '태어남에': 4373, '망설임프란츠': 4374, '카프카': 4375, '잔물결': 4376, '소리에': 4377, '귀기울이는': 4378, '있어도': 4379, '절망하지': 4380, '않으리': 4381, '헨리': 4382, '소로': 4383, '살의와': 4384, '냉소로': 4385, '서부를': 4386, '가로지르는': 4387, '디센트의': 4388, '닐': 4389, '마셜을': 4390, '기대했지만': 4391, '괜찮은': 4392, '크리처': 4393, '생동감있게': 4394, '빚어낼': 4395, '니콜라스': 4396, '케이지의': 4397, '현장감이': 4398, '그린그래스': 4399, '존': 4400, '전편보다': 4401, '낫다는': 4402, '듣고': 4403, '그렇긴': 4404, '도약대': 4405, '포석': 4406, '둔한': 4407, '행마': 4408, '끝내기': 4409, '대상이었던': 4410, '코르사주를': 4411, '벗겨내고': 4412, '자유': 4413, '창의적': 4414, '예문으로': 4415, '영화상징사전': 4416, '소화해버린': 4417, '악에': 4418, '체온으로만': 4419, '선에': 4420, '관하여': 4421, '물적인': 4422, '광경에': 4423, '영적인': 4424, '정경을': 4425, '겹쳐놓으며': 4426, '되묻는다': 4427, '모티브의': 4428, '허점을': 4429, '행복했습니다': 4430, '왜와': 4431, '어떻게에서': 4432, '성공하지': 4433, '예술영화': 4434, '장력이': 4435, '분의': 4436, '러닝타임을': 4437, '지탱하지': 4438, '인물로부터': 4439, '누구의': 4440, '시선인가': 4441, '골짜기에서': 4442, '탄식할': 4443, '멜로디와': 4444, '서정으로': 4445, '넘실댄다': 4446, '예술가가': 4447, '아이러니를': 4448, '다루는': 4449, '팽팽하게': 4450, '잡아당기는': 4451, '핀처의': 4452, '장력': 4453, '벌판의': 4454, '구덩이': 4455, '던져진': 4456, '돌덩이': 4457, '존재의': 4458, '점멸과': 4459, '진동': 4460, '결정한': 4461, '후에': 4462, '가자가': 4463, '가면서': 4464, '결정하자는': 4465, '행동주의자들의': 4466, '정의': 4467, '풍요롭게': 4468, '밥': 4469, '말리의': 4470, '험난한': 4471, '파도에': 4472, '대응이었는지를': 4473, '하늘의': 4474, '비밀과': 4475, '거짓말': 4476, '세심하게': 4477, '일구는': 4478, '호소다와': 4479, '굳건하게': 4480, '버티는': 4481, '어깨동무': 4482, '블랙코미디의': 4483, '경공술로': 4484, '한국현대정치사를': 4485, '타고': 4486, '술술': 4487, '연애들을': 4488, '그늘에서': 4489, '동화는': 4490, '도피처가': 4491, '참호다': 4492, '발파': 4493, '빨랐다': 4494, '액션과': 4495, '소소한': 4496, '준다': 4497, '누아르이고': 4498, '눈호강시켜주는': 4499, '개만으로도': 4500, '가학과': 4501, '자학을': 4502, '오가며': 4503, '벌': 4504, '빛은': 4505, '어디에서': 4506, '오는가': 4507, '과거는': 4508, '어디에맺히는가': 4509, '문이': 4510, '활짝': 4511, '열려': 4512, '있으니까요': 4513, '미뤄둔': 4514, '이후의': 4515, '일들을': 4516, '더없이': 4517, '스산해진다': 4518, '해전': 4519, '부분은': 4520, '첩보': 4521, '서스펜스와': 4522, '스펙터클의': 4523, '배합': 4524, '사냥개처럼': 4525, '정확하고': 4526, '피아노처럼': 4527, '우아하며': 4528, '토끼처럼': 4529, '애처롭고': 4530, '밧줄처럼': 4531, '어메이징': 4532, '대지를': 4533, '붉게': 4534, '적시는': 4535, '바람의': 4536, '당길': 4537, '때와': 4538, '밀': 4539, '때를': 4540, '감탄과': 4541, '공감을': 4542, '끌어내는': 4543, '느리지만': 4544, '설득': 4545, '여정의': 4546, '쓰라림과': 4547, '간절함이': 4548, '부서진': 4549, '꿈의': 4550, '퇴적물': 4551, '소년은': 4552, '퍼스트': 4553, '어벤저': 4554, '음담패설': 4555, '숨은': 4556, '우악스러운': 4557, '시즌에': 4558, '귀여워': 4559, '학예회': 4560, '수준의': 4561, '앞으로': 4562, '나아가지': 4563, '맴도는': 4564, '펀치': 4565, '잽': 4566, '백번': 4567, '원칙에': 4568, '하루하루': 4569, '상상을': 4570, '넘어설': 4571, '해방감': 4572, '설풋': 4573, '꿈을': 4574, '꾸고': 4575, '겨울날': 4576, '오후에': 4577, '서설을': 4578, '소리를': 4579, '심상과': 4580, '언어가': 4581, '미끄러지면서': 4582, '일으킨': 4583, '공명': 4584, '단편이': 4585, '골고루': 4586, '드물게도': 4587, '수록작품들이': 4588, '명사를': 4589, '잃어버리고': 4590, '형용사로만': 4591, '아이들만의': 4592, '순수한': 4593, '고유한': 4594, '싸움': 4595, '물러선다고': 4596, '영영': 4597, '패배하는': 4598, '알고서': 4599, '든든하게': 4600, '끓여낸': 4601, '생선국을': 4602, '대접': 4603, '받은': 4604, '탄성과': 4605, '소름을': 4606, '안기는': 4607, '위페르의': 4608, '급속히': 4609, '부푼': 4610, '꿈은': 4611, '매끈한': 4612, '만듦새에도': 4613, '미스터리를': 4614, '막판까지': 4615, '유지하려다보니': 4616, '빠져버린': 4617, '들어': 4618, '특출하지': 4619, '차가움': 4620, '솔직함': 4621, '뻔뻔함': 4622, '집으로': 4623, '돌아간': 4624, '오딧세이': 4625, '순간들의': 4626, '설렘으로': 4627, '반짝이는': 4628, '점멸하는': 4629, '기억과': 4630, '발광하는': 4631, '서식하는': 4632, '웃기': 4633, '몇십': 4634, '헛웃어야': 4635, '내세우고': 4636, '파찰음': 4637, '공들여': 4638, '쌓은': 4639, '탑이': 4640, '무너질': 4641, '스트립과': 4642, '아담스': 4643, '신구의': 4644, '조화와': 4645, '대조': 4646, '증언에도': 4647, '화술이': 4648, '스크린에서': 4649, '객석으로': 4650, '불어오는': 4651, '훈풍': 4652, '이명세와': 4653, '허진호의': 4654, '야심가가': 4655, '모범생이': 4656, '완성도': 4657, '높고': 4658, '튼튼하고': 4659, '맵시있게': 4660, '보수해서': 4661, '발진시킨다': 4662, '반짝반짝': 4663, '최강희': 4664, '별': 4665, '고통과': 4666, '창작력': 4667, '당혹스런': 4668, '추석용': 4669, '기획영화의': 4670, '일정한': 4671, '오스트레일리아의': 4672, '풍광에만': 4673, '담길': 4674, '파란색으로도': 4675, '녹색으로도': 4676, '옷처럼': 4677, '미결과': 4678, '영원': 4679, '사무치도록': 4680, '재작년엔': 4681, '똥파리': 4682, '작년엔': 4683, '김복남': 4684, '올해는': 4685, '안온한': 4686, '유년의': 4687, '낙원을': 4688, '허물고': 4689, '세상으로': 4690, '민망함과': 4691, '허망함': 4692, '가끔씩은': 4693, '전개': 4694, '아슬아슬한': 4695, '엮이지': 4696, '엮었을': 4697, '다르거나': 4698, '이야기들이': 4699, '참신하게': 4700, '품고': 4701, '품긴다': 4702, '해질녘엔': 4703, '길어': 4704, '머피판': 4705, '유치원에': 4706, '사나이': 4707, '수단의': 4708, '관계에': 4709, '난제가': 4710, '한국정치사': 4711, '무대에': 4712, '뒷모습이': 4713, '크로넨버그가': 4714, '뿜어대는': 4715, '냉기': 4716, '유희정신이': 4717, '단순하고도': 4718, '안티테제': 4719, '붕대': 4720, '유리창에': 4721, '머무는': 4722, '잔영처럼': 4723, '되길': 4724, '응원하면서': 4725, '쳇': 4726, '베이커의': 4727, '달콤쌉쌀하게': 4728, '데뷔작에': 4729, '장점들이': 4730, '순하고': 4731, '선하다': 4732, '순순하지만': 4733, '선선하진': 4734, '영화물리학': 4735, '실험': 4736, '환부가': 4737, '순환시키는': 4738, '동력과': 4739, '장': 4740, '경배': 4741, '편견': 4742, '번의': 4743, '선택': 4744, '탄생': 4745, '전쟁의': 4746, '부조리와': 4747, '전투의': 4748, '혼란에만': 4749, '집중한': 4750, '반전영화의': 4751, '호소력': 4752, '한두': 4753, '부유하는': 4754, '이미지를': 4755, '흩어지다': 4756, '사색을': 4757, '적당히': 4758, '버무린': 4759, '바라는': 4760, '관객들': 4761, '취향을': 4762, '인공지능이': 4763, '놀이': 4764, '이런게': 4765, '김우빈이': 4766, '인상적이었을': 4767, '되묻다': 4768, '무력감을': 4769, '넘어서': 4770, '쥐어줄': 4771, '따뜻한데': 4772, '영화가뜩이나': 4773, '노곤한': 4774, '로드리고': 4775, '가르시아': 4776, '머리부터': 4777, '발끝까지': 4778, '마릴린': 4779, '먼로인': 4780, '미셸': 4781, '윌리엄스': 4782, '특수효과의': 4783, '족적': 4784, '낄낄댈': 4785, '제목만': 4786, '참아낼': 4787, '판타지와': 4788, '리얼리티': 4789, '잃은': 4790, '익숙해진': 4791, '은유보다는': 4792, '묘사들이': 4793, '아닙니다': 4794, '일종의': 4795, '재난영화입니다': 4796, '한국사회에': 4797, '알레고리로서나': 4798, '일궈낸': 4799, '이야기로서': 4800, '인디펜던스': 4801, '데이의': 4802, '반대말': 4803, '파리대왕의': 4804, '우주로': 4805, '서성댄다': 4806, '원작의': 4807, '연기만': 4808, '공포가': 4809, '신랄함': 4810, '날아오르게': 4811, '공포영화에': 4812, '버릴': 4813, '잔재미로': 4814, '빼곡': 4815, '없어서': 4816, '적극적으로': 4817, '믿었던': 4818, '국민이': 4819, '목도한': 4820, '인접': 4821, '주저하지': 4822, '셀린': 4823, '시아마': 4824, '빈을': 4825, '최적의': 4826, '형제가': 4827, '노인을': 4828, '나라는': 4829, '애프터': 4830, '리딩처럼': 4831, '모험적': 4832, '시도에': 4833, '스타파워가': 4834, '기여한': 4835, '우리가': 4836, '디디고': 4837, '아래로': 4838, '사람좋은': 4839, '미소': 4840, '감춰졌던': 4841, '나문희': 4842, '설경구': 4843, '공산품': 4844, '아스라이': 4845, '썰물이': 4846, '잔물결들': 4847, '현미경과': 4848, '망원경': 4849, '갱스터': 4850, '안을': 4851, '들여다봐야': 4852, '바깥만': 4853, '내다본': 4854, '수렁이': 4855, '오싹하다': 4856, '소소하고': 4857, '나른하게': 4858, '종착점': 4859, '또렷해지는': 4860, '체': 4861, '게바라라는': 4862, '마음만': 4863, '드러낼': 4864, '에피소드는': 4865, '괜찮은데': 4866, '플롯이': 4867, '비관주의자의': 4868, '낭만주의': 4869, '절절히': 4870, '장대한': 4871, '서사시': 4872, '고귀해서가': 4873, '너라서': 4874, '사랑해': 4875, '안착하지': 4876, '사랑받아온': 4877, '시리즈만이': 4878, '선사할': 4879, '선물에': 4880, '저절로': 4881, '미소와': 4882, '탄성이': 4883, '번진다': 4884, '형제의': 4885, '태작': 4886, '햇살로': 4887, '날들을': 4888, '축복하다': 4889, '논쟁에': 4890, '당기는': 4891, '직설로': 4892, '펼친다': 4893, '만들어지고': 4894, '작품세계를': 4895, '편으로만': 4896, '대변해야': 4897, '다니엘': 4898, '헤니와': 4899, '마이': 4900, '파더는': 4901, '행운': 4902, '가정사는': 4903, '함부로': 4904, '재단해선': 4905, '안된다는': 4906, '뒤의': 4907, '아동학대': 4908, '노크': 4909, '도시에서': 4910, '시끌벅적': 4911, '신뢰를': 4912, '다진': 4913, '즐겁게': 4914, '현장': 4915, '돌이켜보면': 4916, '반지의': 4917, '제왕은': 4918, '영화였어': 4919, '연기만큼은': 4920, '깊었지만': 4921, '만들면서': 4922, '자동차추격전에서조차': 4923, '점수를': 4924, '따지': 4925, '숱한': 4926, '기시감을': 4927, '하이틴': 4928, '결': 4929, '느낌으로': 4930, '묵직하고': 4931, '뭉클하게': 4932, '산에': 4933, '오르지': 4934, '말았어야': 4935, '했다는': 4936, '메인': 4937, '카피가': 4938, '생각난다': 4939, '검을': 4940, '생물처럼': 4941, '신데렐라': 4942, '펭귄은': 4943, '어울린다': 4944, '이야기에서': 4945, '아이다에게': 4946, '가냐고': 4947, '한가롭게': 4948, '묻다가': 4949, '떨궈야': 4950, '유희를': 4951, '만들지': 4952, '손끝만': 4953, '열어주지': 4954, '문의': 4955, '스피드를': 4956, '만끽하고도': 4957, '산': 4958, '너머로': 4959, '흩어졌으되': 4960, '뜨지': 4961, '끝자락에서': 4962, '아버지와': 4963, '평면적인': 4964, '어머니': 4965, '클레이': 4966, '느린': 4967, '제작': 4968, '속도만을': 4969, '탓할': 4970, '속편을': 4971, '인내심이': 4972, '사회적': 4973, '동물': 4974, '절망이자': 4975, '귀엽지': 4976, '않아': 4977, '깔아놓은': 4978, '멍석': 4979, '급': 4980, '오리엔탈리즘이': 4981, '뭐냐고': 4982, '묻거든': 4983, '하라': 4984, '해적': 4985, '보러': 4986, '갔다가': 4987, '인어만': 4988, '생기와': 4989, '엔딩이': 4990, '영화일': 4991, '흐르면': 4992, '오프닝만': 4993, '기억에': 4994, '찬란하고도': 4995, '퇴장사': 4996, '어머니라고': 4997, '말하면': 4998, '눈물부터': 4999, '많겠지만': 5000, '콩트처럼': 5001, '파트리스': 5002, '르콩트의': 5003, '영화들': 5004, '재생의': 5005, '날갯짓은': 5006, '멀기만': 5007, '나지막이': 5008, '시행착오': 5009, '천둥': 5010, '이슬': 5011, '영조는': 5012, '사도를': 5013, '아들이기에': 5014, '세자로': 5015, '여겼고': 5016, '사도는': 5017, '영조를': 5018, '왕이기에': 5019, '아버지로': 5020, '생각했다는': 5021, '꿈도': 5022, '꾸지': 5023, '주제의식이': 5024, '무목적성이야말로': 5025, '유희의': 5026, '핵심': 5027, '원없이': 5028, '넋놓고': 5029, '신화적으로': 5030, '풍성하고': 5031, '윤리적으로': 5032, '꼿꼿하다': 5033, '행운은': 5034, '이에겐': 5035, '웃음지으면서': 5036, '이들은': 5037, '흘려보내는가': 5038, '이글스': 5039, '보아내려는': 5040, '보여주려는': 5041, '미학적으로나': 5042, '한국사회를': 5043, '모두에서': 5044, '대담하고': 5045, '비범하다': 5046, '손의': 5047, '외유내강의': 5048, '짝만': 5049, '구하면': 5050, '만사형통': 5051, '적디즈니과': 5052, '싸우다보면': 5053, '적을': 5054, '닮아간다': 5055, '낄낄대면서': 5056, '각본가로서의': 5057, '애덤': 5058, '샌들러': 5059, '잠수': 5060, '직업정신이': 5061, '무엇인지': 5062, '한계라기보다는': 5063, '활용법의': 5064, '메뚜기도': 5065, '유월이': 5066, '없다면': 5067, '사건도': 5068, '수비학자': 5069, '그리너웨이': 5070, '콜라': 5071, '마시는': 5072, '후덜덜덜': 5073, '몽타주로': 5074, '대체할': 5075, '표현력과': 5076, '감수성의': 5077, '의학적': 5078, '곱고': 5079, '화사하게': 5080, '왔다고': 5081, '해서': 5082, '변질되었기': 5083, '때문인': 5084, '이별은': 5085, '흘러갔기': 5086, '찾아온다': 5087, '애니메이션이란': 5088, '응답': 5089, '핀처는': 5090, '고분고분하지': 5091, '프레임': 5092, '바깥으로까지': 5093, '흘러넘친다': 5094, '폭주의': 5095, '동력을': 5096, '위해서라면': 5097, '쯤이야': 5098, '뻔뻔하고': 5099, '버스비': 5100, '버클리의': 5101, '심리적': 5102, '흐름을': 5103, '섬세하게': 5104, '짚어가는': 5105, '틈새에서': 5106, '미끄러지며': 5107, '혼곤히': 5108, '이상했지만': 5109, '가능했던': 5110, '작품들은': 5111, '끝내주는': 5112, '나뉜다': 5113, '후자': 5114, '야심도': 5115, '재능이다': 5116, '분이': 5117, '지나간다': 5118, '정도로라도': 5119, '끝내줘서': 5120, '고맙슈렉': 5121, '대사들을': 5122, '실어나르는': 5123, '살아서': 5124, '행복': 5125, '부서질': 5126, '선율에': 5127, '서렸다': 5128, '상승과': 5129, '하강으로': 5130, '명징하게': 5131, '직조해낸': 5132, '신랄하면서': 5133, '계급': 5134, '황량한': 5135, '운율로': 5136, '유영하는': 5137, '화난다면': 5138, '그대들이': 5139, '지는': 5140, '거': 5141, '이어지고도': 5142, '아직껏': 5143, '서성이다니': 5144, '쏘는': 5145, '냉소와': 5146, '비판으로': 5147, '난사하는': 5148, '대환장파티': 5149, '닥쳐도': 5150, '윤리의': 5151, '하한선만큼은': 5152, '고결한': 5153, '영웅담': 5154, '뿅뿅거린다': 5155, '무난하거나': 5156, '무미하거나': 5157, '공개하고도': 5158, '먹음직스런': 5159, '음식을': 5160, '요리사처럼': 5161, '촌티를': 5162, '재미로': 5163, '바꿔낸': 5164, '경찰': 5165, '야단스러운': 5166, '추리': 5167, '신만': 5168, '짧았더라면': 5169, '펜에겐': 5170, '시작이': 5171, '순간순간의': 5172, '돌려막기': 5173, '영화들은': 5174, '익숙하다고': 5175, '찾아온': 5176, '경이': 5177, '민속학적으로': 5178, '흥미로울': 5179, '텁텁하다': 5180, '식당': 5181, '재료': 5182, '조리법': 5183, '캐릭터들에': 5184, '카메라가': 5185, '시나리오로': 5186, '멈춰선': 5187, '갈': 5188, '당나귀': 5189, '만물에': 5190, '카메라라는': 5191, '범신론': 5192, '단편영화로': 5193, '그쳤어야': 5194, '이미지들': 5195, '개': 5196, '재료로': 5197, '밍밍하게': 5198, '혐오로': 5199, '뒤덮여가는': 5200, '노대가의': 5201, '직설': 5202, '한정된': 5203, '공간의': 5204, '알뜰한': 5205, '비포': 5206, '선라이즈의': 5207, '잔영이': 5208, '짙다': 5209, '의미에서': 5210, '무시무시하다': 5211, '밝고': 5212, '맘': 5213, '거장의': 5214, '소품들': 5215, '나비의': 5216, '날개와': 5217, '고양이의': 5218, '끄덕이면서도': 5219, '언제': 5220, '훈시가': 5221, '끝날지': 5222, '시계를': 5223, '힐끔거렸던': 5224, '조회시간처럼': 5225, '축': 5226, '오스카': 5227, '수상': 5228, '줄리언': 5229, '무어는': 5230, '늦어도': 5231, '년엔': 5232, '받았어야': 5233, '앤트맨': 5234, '시리즈는': 5235, '마블이': 5236, '사용하는': 5237, '쉼표': 5238, '정념으로': 5239, '파들어간': 5240, '뮤지컬의': 5241, '기묘한': 5242, '너절한': 5243, '핑크영화였어': 5244, '망각이': 5245, '병인': 5246, '기억을': 5247, '앓는': 5248, '깊숙한': 5249, '환부': 5250, '단편에': 5251, '맞을': 5252, '상황극을': 5253, '장편으로': 5254, '만들다보니': 5255, '호연으로': 5256, '차근차근': 5257, '오르다가': 5258, '한꺼번에': 5259, '추락한다': 5260, '불타는': 5261, '야망은': 5262, '타락한다': 5263, '투영된': 5264, '꽃이라는': 5265, '신비하고': 5266, '원재료를': 5267, '가져다가': 5268, '겉만': 5269, '자기만의': 5270, '말하고': 5271, '여백으로': 5272, '쓸쓸함이': 5273, '문득': 5274, '두렵다': 5275, '몰입을': 5276, '방해하는': 5277, '톤과': 5278, '해석': 5279, '기회가': 5280, '생길': 5281, '점씩': 5282, '따내는': 5283, '파격적인': 5284, '일깨워주는': 5285, '것들과': 5286, '덮어버린': 5287, '이국의': 5288, '쾌적한': 5289, '멀티플렉스에서': 5290, '리처드': 5291, '젠킨스의': 5292, '조용한': 5293, '시대라는': 5294, '위선': 5295, '이상적': 5296, '공동체라는': 5297, '억압': 5298, '풋풋하게': 5299, '체념': 5300, '뒤에도': 5301, '위트': 5302, '사무친다': 5303, '탐색과': 5304, '성장을': 5305, '호흡에': 5306, '관통한다': 5307, '죽었다가': 5308, '살아난': 5309, '성룡이라네요': 5310, '방향이': 5311, '잘못되면': 5312, '잭슨조차도': 5313, '이분법': 5314, '곳에': 5315, '낙원이': 5316, '있다롤랑': 5317, '바르트': 5318, '용도': 5319, '숭고함은': 5320, '찾아오는가': 5321, '장르를': 5322, '대표하는': 5323, '계절처럼': 5324, '흐르다가': 5325, '머물러': 5326, '나를': 5327, '들여다보다': 5328, '충무로의': 5329, '야기라': 5330, '유야의': 5331, '칸영화제': 5332, '남우주연상': 5333, '수상조차': 5334, '공': 5335, '연대에': 5336, '소박하고도': 5337, '확고한': 5338, '믿음': 5339, '공동체': 5340, '인력이': 5341, '변하는': 5342, '폭력에': 5343, '보고서': 5344, '조형에서': 5345, '실패한다면': 5346, '머리는': 5347, '시리아나': 5348, '몸은': 5349, '람보': 5350, '앞의': 5351, '공포를': 5352, '다룬': 5353, '가치를': 5354, '숫자로만': 5355, '파악하는': 5356, '양적': 5357, '공리주의에': 5358, '비판이': 5359, '또렷하다': 5360, '바느질과': 5361, '커팅으로': 5362, '신파의': 5363, '빠져나오기': 5364, '올라가면': 5365, '나풀거리는': 5366, '낙엽': 5367, '블록버스터에서도': 5368, '묘사가': 5369, '가능하다': 5370, '마음들이': 5371, '한데': 5372, '타오르던': 5373, '밤의': 5374, '유영할': 5375, '방법은': 5376, '리듬': 5377, '살육으로': 5378, '붉지': 5379, '슬픔으로': 5380, '기이하도록': 5381, '아름답다': 5382, '상상력도': 5383, '이쯤': 5384, '시리우스급': 5385, '말투에서': 5386, '눈빛과': 5387, '몸놀림까지': 5388, '김영성에게': 5389, '놀랐다': 5390, '요란하게만': 5391, '누아르의': 5392, '팜므': 5393, '파탈에': 5394, '현대적': 5395, '일갈': 5396, '직조술은': 5397, '꿈꾼다는': 5398, '건지를': 5399, '짐작해보았다': 5400, '브리': 5401, '라슨의': 5402, '제이콥': 5403, '트렘블레이의': 5404, '후가': 5405, '무척': 5406, '궁금하다': 5407, '매튜': 5408, '맥커너히는': 5409, '배역에': 5410, '북촌방향의': 5411, '대안': 5412, '또는': 5413, '지금은맞고그때는틀리다의': 5414, '프리퀄처럼': 5415, '성취를': 5416, '가리는': 5417, '추격전에서': 5418, '애쓴': 5419, '배우들에게': 5420, '귀를': 5421, '헹군': 5422, '의미에': 5423, '온유하고도': 5424, '초심과': 5425, '취향과': 5426, '흥겨워지고': 5427, '놓을': 5428, '화려하고': 5429, '아름다우며': 5430, '바르다': 5431, '전편처럼': 5432, '제스처가': 5433, '염세주의는': 5434, '통념의': 5435, '울타리를': 5436, '걷고': 5437, '분방하게': 5438, '무가': 5439, '낙엽과': 5440, '포말의': 5441, '감수성': 5442, '시작하지만': 5443, '사연이': 5444, '후반이': 5445, '진부해진다': 5446, '심은경': 5447, '훔쳐가는': 5448, '마술사처럼': 5449, '성실하게': 5450, '촉각의': 5451, '리얼한': 5452, '문제제기': 5453, '무화시키는': 5454, '시각효과와': 5455, '까마득히': 5456, '곳의': 5457, '눈사태가': 5458, '발밑까지': 5459, '몰려온': 5460, '악몽처럼': 5461, '북소리에': 5462, '의지를': 5463, '헤아리게': 5464, '실패작이라니': 5465, '삼고도': 5466, '동화를': 5467, '뽑아내는': 5468, '스필버그': 5469, '피조물이': 5470, '창조주의': 5471, '위치에서': 5472, '인류가': 5473, '직면하게': 5474, '폭주하며': 5475, '순간에도': 5476, '일을': 5477, '해야만': 5478, '공정하다': 5479, '말도': 5480, '장진의': 5481, '봄소풍': 5482, '종류': 5483, '동거': 5484, '해의': 5485, '액땜으로': 5486, '여길': 5487, '블럭버스터가': 5488, '위엄의': 5489, '극대치': 5490, '그럼에도': 5491, '가족임을': 5492, '리들리': 5493, '스콧이': 5494, '맛을': 5495, '빼면': 5496, '우주괴담': 5497, '영향으로': 5498, '끌리지': 5499, '막상': 5500, '접해보면': 5501, '그럭저럭': 5502, '괜찮게': 5503, '느끼도록': 5504, '디즈니의': 5505, '공정관리': 5506, '소재에서': 5507, '스타일까지': 5508, '면모': 5509, '서서히': 5510, '끓다가': 5511, '무섭게': 5512, '분출해': 5513, '집어삼킨다': 5514, '용암': 5515, '진영을': 5516, '뒤섞은': 5517, '되비춰낸': 5518, '거울나라의': 5519, '매트릭스': 5520, '펑키한': 5521, '뉴올리언스': 5522, '밤나들이': 5523, '교사가': 5524, '헐리우드': 5525, '중에서': 5526, '캡틴': 5527, '강력하고': 5528, '명확하게': 5529, '전달하는': 5530, '여정을': 5531, '영화에서': 5532, '되짚어보는': 5533, '요리를': 5534, '샘터적인': 5535, '보그적인': 5536, '여자가': 5537, '철들고': 5538, '남자들의': 5539, '백일몽': 5540, '나였다': 5541, '세월이었다': 5542, '하나도': 5543, '남김없이': 5544, '프랑수아': 5545, '오종': 5546, '자본주의가': 5547, '흘리는': 5548, '방울의': 5549, '감촉': 5550, '다이너마이트가': 5551, '장착되어': 5552, '송중기의': 5553, '와중에': 5554, '완성도는': 5555, '최근으로': 5556, '올수록': 5557, '데크레센도': 5558, '재치의': 5559, '부스러기': 5560, '잔뜩': 5561, '주면': 5562, '장면에도': 5563, '실리지': 5564, '통속적이면': 5565, '연출도': 5566, '통속적이어야': 5567, '하는가의': 5568, '전기영화가': 5569, '평면적이고': 5570, '소극적으로': 5571, '다루면': 5572, '넘게': 5573, '모성': 5574, '탐구가': 5575, '역사의식에': 5576, '뿌리를': 5577, '내렸다': 5578, '호러에서나': 5579, '다루던': 5580, '신체절단': 5581, '모티브를': 5582, '대작': 5583, '활용했다': 5584, '신기한': 5585, '성대모사조차도': 5586, '번이나': 5587, '흡사하게': 5588, '반복하면': 5589, '여백을': 5590, '채우는': 5591, '상상력에': 5592, '호연이': 5593, '더했다': 5594, '개인기': 5595, '장점으로': 5596, '지나도': 5597, '결말은': 5598, '울었다': 5599, '저무는': 5600, '표층을': 5601, '울려퍼진': 5602, '벅찬': 5603, '서곡': 5604, '장려했으니': 5605, '낙일': 5606, '손안에': 5607, '제작진': 5608, '쿨하고': 5609, '도발적이어야': 5610, '칙칙하고': 5611, '엉뚱하게': 5612, '끌고': 5613, '년대': 5614, '적게': 5615, '잃다가': 5616, '딴다': 5617, '내면에서': 5618, '끌어낸': 5619, '근력과': 5620, '예술에서': 5621, '길어올린': 5622, '균열을': 5623, '허위허위': 5624, '건너다': 5625, '고비마다': 5626, '개인기로': 5627, '정도의': 5628, '돌파력': 5629, '정성스럽고': 5630, '소담스럽게': 5631, '먹는': 5632, '장면들에': 5633, '점이지대에서': 5634, '솟아나는': 5635, '활력': 5636, '캐스팅에': 5637, '존재감을': 5638, '파국을': 5639, '전력질주': 5640, '겪는': 5641, '죽지': 5642, '밝히는': 5643, '방법인지도': 5644, '카락스의': 5645, '심연': 5646, '이건': 5647, '킹스맨인': 5648, '아니고': 5649, '로맨스는': 5650, '건성': 5651, '과잉': 5652, '트리에의': 5653, '인정하게': 5654, '전개의': 5655, '필요에': 5656, '제조해낸': 5657, '인위적': 5658, '우주에서': 5659, '날아온': 5660, '넘도록': 5661, '작별': 5662, '인사를': 5663, '사랑해라는': 5664, '이처럼': 5665, '간절하고': 5666, '사무치게': 5667, '덜': 5668, '권력자라는': 5669, '격언': 5670, '피바다': 5671, '스스로를': 5672, '찍었던': 5673, '영상': 5674, '매체가': 5675, '도달할': 5676, '감동을': 5677, '얻어내려': 5678, '되돌아갈': 5679, '가지만': 5680, '있고': 5681, '잎사귀는': 5682, '고목처럼': 5683, '이리저리': 5684, '떠밀려가며': 5685, '범죄극과': 5686, '클루니': 5687, '사회극의': 5688, '팽팽한': 5689, '대립': 5690, '구도에서': 5691, '박진감': 5692, '전개까지': 5693, '톱': 5694, '액션스릴러의': 5695, '모범': 5696, '시절의': 5697, '각자의': 5698, '나만의': 5699, '활력도': 5700, '앞에서는': 5701, '소통': 5702, '투명해지려는': 5703, '한때': 5704, '쿨했던': 5705, '기획이': 5706, '정의가': 5707, '배제된': 5708, '카타르시스를': 5709, '제거한': 5710, '복수극': 5711, '변화와': 5712, '작동원리가': 5713, '기념비적': 5714, '액션장면들의': 5715, '연쇄': 5716, '떠난': 5717, '남겨진': 5718, '혼곤한': 5719, '배회': 5720, '묻혀버린': 5721, '시원의': 5722, '향수와': 5723, '사라져버린': 5724, '고전의': 5725, '향취를': 5726, '몽환의': 5727, '발걸음': 5728, '딴소리로': 5729, '끝맺는': 5730, '만용': 5731, '조연들이': 5732, '주연이다': 5733, '오차': 5734, '이순재': 5735, '천재라기보다는': 5736, '끝날': 5737, '같지': 5738, '그때의': 5739, '다음날은': 5740, '능란하게': 5741, '완급을': 5742, '전환하는': 5743, '리듬이': 5744, '즐겁다': 5745, '테크닉은': 5746, '설득력은': 5747, '다가와야': 5748, '기술도': 5749, '욕망은': 5750, '증류되는가': 5751, '시적이고': 5752, '마술적인': 5753, '죽음보다': 5754, '고독이': 5755, '내려앉은': 5756, '샬럿': 5757, '램플링의': 5758, '싸구려': 5759, '너저분한': 5760, '흔쾌히': 5761, '박수칠': 5762, '정치영화를': 5763, '애타게': 5764, '기다리며': 5765, '흥건한': 5766, '웅덩이에서도': 5767, '직장': 5768, '여성에': 5769, '화풀이': 5770, '안고': 5771, '디졸브의': 5772, '짙은': 5773, '무표정은': 5774, '표정이다': 5775, '사로잡히던': 5776, '떨림만이': 5777, '생생할': 5778, '색깔을': 5779, '칠해버리기만': 5780, '지옥에': 5781, '속내를': 5782, '날렵하게': 5783, '세태풍자극의': 5784, '묘미': 5785, '전쟁이라는': 5786, '모순': 5787, '역설과': 5788, '이야기인데도': 5789, '근심을': 5790, '거두고': 5791, '응원을': 5792, '보태게': 5793, '유머러스한': 5794, '정조와': 5795, '질감만으로도': 5796, '납득시킨다': 5797, '에너지는': 5798, '넘쳐나지만': 5799, '여운을': 5800, '실린': 5801, '파란만장한': 5802, '세월들': 5803, '살아낸다': 5804, '휘청인다': 5805, '유지된다': 5806, '논전이': 5807, '설정에만': 5808, '머문': 5809, '서사의': 5810, '아쉬움을': 5811, '넘어서는': 5812, '굵고': 5813, '방부제가': 5814, '저녁의': 5815, '메아리가': 5816, '냉철한': 5817, '지성으로': 5818, '묘파한': 5819, '석유의': 5820, '정치학': 5821, '흘러가되': 5822, '떠내려가진': 5823, '추억들이': 5824, '방울방울': 5825, '너에게도': 5826, '사랑보다': 5827, '정호승의': 5828, '시': 5829, '슬픔이': 5830, '기쁨에게': 5831, '해결하기': 5832, '싫어서': 5833, '일부러': 5834, '행동을': 5835, '사람들처럼': 5836, '제조공정이': 5837, '시나리오': 5838, '찍다와': 5839, '쏘다가': 5840, '영어로': 5841, '이라는': 5842, '사실이': 5843, '안이': 5844, '열광적인': 5845, '심드렁한': 5846, '까닭': 5847, '듣는': 5848, '없는데도': 5849, '고집스레': 5850, '옛말만': 5851, '노인처럼': 5852, '액션영화일': 5853, '퇴락해가는': 5854, '공간과': 5855, '인물들을': 5856, '순례하며': 5857, '빛과': 5858, '목소리를': 5859, '절실하게': 5860, '되찾아준다': 5861, '히치콕이라는': 5862, '수수께끼': 5863, '수수께끼를': 5864, '숙고하며': 5865, '응시하려는': 5866, '감독들': 5867, '부뉴엘이': 5868, '감수한': 5869, '알렝': 5870, '레네': 5871, '리차드': 5872, '링클레이터가': 5873, '연출한': 5874, '이야깃감과': 5875, '동원하고도': 5876, '떠나기': 5877, '전에': 5878, '해결해야': 5879, '눈으로': 5880, '바라보게': 5881, '항로를': 5882, '변경해': 5883, '승부를': 5884, '거는': 5885, '사회드라마에서': 5886, '의아할': 5887, '피상적이며': 5888, '위험하다': 5889, '혹시': 5890, '픽사는': 5891, '내리막길을': 5892, '걷게': 5893, '전하지': 5894, '경기': 5895, '해설자가': 5896, '말해준다': 5897, '새싹들을': 5898, '바람을': 5899, '포격당하는': 5900, '건물': 5901, '지하에': 5902, '놓인': 5903, '무고한': 5904, '희생': 5905, '기자정신의': 5906, '리액션만으로도': 5907, '장편영화': 5908, '너끈히': 5909, '뚝심': 5910, '폴': 5911, '워커의': 5912, '질주했던': 5913, '쏘아올리는': 5914, '예포': 5915, '장르에서': 5916, '구마': 5917, '의식이': 5918, '맥없다면': 5919, '인물들에': 5920, '여성판': 5921, '노팅힐': 5922, '두툼하게': 5923, '맷': 5924, '데이먼': 5925, '이해할': 5926, '순': 5927, '그런지는': 5928, '모른다는': 5929, '영화다': 5930, '가족영화에도': 5931, '상상력이': 5932, '촌스럽지만': 5933, '낙천적인': 5934, '재난영화': 5935, '우아하면서도': 5936, '감각적인': 5937, '에머리히는': 5938, '언제쯤': 5939, '극영화를': 5940, '찍을': 5941, '족쇄': 5942, '세기의': 5943, '펜으로': 5944, '제인': 5945, '에어': 5946, '밀려왔다': 5947, '물러가는': 5948, '파도처럼': 5949, '달라져도': 5950, '화술은': 5951, '달라지지': 5952, '점짜리': 5953, '시퀀스들이': 5954, '일급': 5955, '변호사를': 5956, '고용한': 5957, '노년이란': 5958, '소리와': 5959, '외에': 5960, '무엇이란': 5961, '말인가': 5962, '에우리피데스': 5963, '조난': 5964, '실존주의': 5965, '엽기적': 5966, '내용임에도': 5967, '넉넉한': 5968, '종교적인': 5969, '잣대들': 5970, '사이에도': 5971, '갈등과': 5972, '위계가': 5973, '있기에': 5974, '뒤집혀도': 5975, '슬퍼진다는': 5976, '삼각형들': 5977, '파일로': 5978, '넘쳐나는': 5979, '조각의': 5980, '나면': 5981, '적절할': 5982, '파고': 5983, '든다': 5984, '면에서': 5985, '예측': 5986, '불가능한': 5987, '특급': 5988, '엄마와': 5989, '딸이': 5990, '담기면': 5991, '긴장감으로': 5992, '프레임이': 5993, '터질': 5994, '계승할': 5995, '숙고가': 5996, '재래': 5997, '야망을': 5998, '줄인': 5999, '비틀즈가': 6000, '감사드린다': 6001, '직설에': 6002, '유심히': 6003, '들여다보게': 6004, '어제와': 6005, '별반': 6006, '다를': 6007, '바': 6008, '오늘들이': 6009, '훌쩍': 6010, '뚝심과': 6011, '비장미가': 6012, '몰려온다': 6013, '주성치의': 6014, '앉은키': 6015, '클라이맥스에서만': 6016, '음정을': 6017, '칼의': 6018, '노래': 6019, '장르에도': 6020, '미답지가': 6021, '세다': 6022, '인테리어만으로도': 6023, '건물을': 6024, '지을': 6025, '있다고': 6026, '듯이': 6027, '다뤄내는': 6028, '한국영화의': 6029, '마녀로': 6030, '몰려': 6031, '희생된': 6032, '여성들의': 6033, '뒤집어보는': 6034, '축약하는': 6035, '정신과': 6036, '시차가': 6037, '낳은': 6038, '멀미': 6039, '고리들의': 6040, '연쇄에': 6041, '서론만': 6042, '허탈감': 6043, '장면마다': 6044, '피멍과': 6045, '물집이': 6046, '잡혀': 6047, '쾌락과': 6048, '가짜': 6049, '옆에': 6050, '두고도': 6051, '창을': 6052, '깨고': 6053, '폭주하는': 6054, '벽': 6055, '당신의': 6056, '부탁': 6057, '그이의': 6058, '우리의': 6059, '시작': 6060, '망망한': 6061, '우주와': 6062, '막막한': 6063, '인생에서': 6064, '무를': 6065, '견딜': 6066, '좀비는': 6067, '환경일': 6068, '절망적인': 6069, '땅에서': 6070, '고립되어': 6071, '미쳐가는': 6072, '자들과': 6073, '발명하는': 6074, '대비를': 6075, '펼쳐낸다': 6076, '설명만': 6077, '늘어놓다가': 6078, '로맨스와': 6079, '형태도': 6080, '심술궂지만': 6081, '지혜로운': 6082, '영감님의': 6083, '상실된': 6084, '소실된': 6085, '감촉으로': 6086, '착해': 6087, '접합에서': 6088, '활력을': 6089, '끌어내지': 6090, '제목에만': 6091, '넣었다': 6092, '피투성이': 6093, '고요히': 6094, '사슴을': 6095, '삼켜주기': 6096, '자의식': 6097, '속화된': 6098, '현대인에게': 6099, '마지막으로': 6100, '가족이란': 6101, '성지에': 6102, '흙발을': 6103, '들이밀고': 6104, '냉정하게': 6105, '질문한다': 6106, '살리기': 6107, '전문가들과': 6108, '죽이기': 6109, '전문가들의': 6110, '간명한': 6111, '대결': 6112, '향할': 6113, '같이': 6114, '살아갈': 6115, '청춘의': 6116, '이다지도': 6117, '야비한': 6118, '푸석푸석한': 6119, '중독': 6120, '김곡김선의': 6121, '제일': 6122, '좋았어요': 6123, '관능적': 6124, '섹스신을': 6125, '얘기가': 6126, '물감': 6127, '땀': 6128, '냄새가': 6129, '물씬': 6130, '풍기는': 6131, '노작': 6132, '갈수록': 6133, '깊어지는': 6134, '넉넉히': 6135, '품는': 6136, '그림의': 6137, '감독들에겐': 6138, '손으로': 6139, '만들어보고': 6140, '하나씩': 6141, '보다': 6142, '세대를': 6143, '안쓰러움과': 6144, '컷이': 6145, '바뀔': 6146, '사무치기도': 6147, '없기도': 6148, '툭툭툭': 6149, '넘어간다': 6150, '사랑만': 6151, '외치다': 6152, '목이': 6153, '쉬어버린': 6154, '노동': 6155, '문제에': 6156, '주제의식을': 6157, '화법에': 6158, '작품들에서나': 6159, '발견할': 6160, '애절한': 6161, '마블에서': 6162, '만나게': 6163, '되다니': 6164, '활을': 6165, '제목으로': 6166, '내세운': 6167, '소멸과': 6168, '종결이': 6169, '인연과': 6170, '순환으로': 6171, '무는': 6172, '정밀하면서': 6173, '만다라': 6174, '형형한': 6175, '미끄러져': 6176, '흘러간': 6177, '시네마의': 6178, '몽환': 6179, '시각적으로나': 6180, '이야기로나': 6181, '멀티버스의': 6182, '잠재력은': 6183, '거야': 6184, '숨죽이게': 6185, '환호하게': 6186, '하며': 6187, '돌아가게': 6188, '캐스팅한': 6189, '목표지점을': 6190, '질주한다': 6191, '김정은': 6192, '코믹': 6193, '연기는': 6194, '그날의': 6195, '공기까지': 6196, '인': 6197, '명과': 6198, '암': 6199, '짝수번째': 6200, '안소니': 6201, '밍겔라는': 6202, '자연과': 6203, '조화시킬': 6204, '이성이': 6205, '잠들면': 6206, '요괴가': 6207, '눈뜬다': 6208, '안온함과': 6209, '안쓰러움이': 6210, '노인정': 6211, '효과적인': 6212, '트릭과': 6213, '반전들': 6214, '아래': 6215, '승부에서': 6216, '이기고': 6217, '순수를': 6218, '잃게': 6219, '전락이': 6220, '길게': 6221, '물결친다': 6222, '콧날이': 6223, '시큰한데도': 6224, '미소를': 6225, '고갯짓을': 6226, '하게': 6227, '익숙함과': 6228, '새로움': 6229, '절묘한': 6230, '균형감각': 6231, '마틴': 6232, '세기': 6233, '영화인들이': 6234, '기대를': 6235, '충족시킨다': 6236, '클라이맥스를': 6237, '할리우드에서도': 6238, '오우삼적이어서': 6239, '오우삼': 6240, '아기자기한': 6241, '집어삼킨': 6242, '한숨만': 6243, '타임': 6244, '루프': 6245, '곡예에': 6246, '혼란스러운': 6247, '상황을': 6248, '혼란스럽게': 6249, '나직한': 6250, '정직한': 6251, '뇌': 6252, '흉하게': 6253, '부정하고픈': 6254, '들어앉아': 6255, '우화를': 6256, '타문화를': 6257, '눈먼': 6258, '시선': 6259, '일망무제': 6260, '거칠고': 6261, '동물적': 6262, '죽음으로': 6263, '농담할': 6264, '거처에서': 6265, '상상하는': 6266, '서부극의': 6267, '곡진한': 6268, '가던': 6269, '스릴러가': 6270, '호러로': 6271, '윤리학적': 6272, '실험실': 6273, '제노사이드': 6274, '노골적으로': 6275, '묘사하고': 6276, '직접적으로': 6277, '고발한다': 6278, '나누었던': 6279, '진실이었어도': 6280, '문제들을': 6281, '곱씹게': 6282, '다가온': 6283, '다큐멘터리가': 6284, '있었던가': 6285, '자각몽': 6286, '숲에서': 6287, '나오니': 6288, '숲이': 6289, '보이네': 6290, '시인과': 6291, '촌장': 6292, '새로': 6293, '안경을': 6294, '맞추고': 6295, '클로즈업으로': 6296, '날들의': 6297, '살며': 6298, '사랑하며': 6299, '잃고': 6300, '되돌아가서': 6301, '창작이란': 6302, '것인데': 6303, '스펙타클': 6304, '재난극이라기보다는': 6305, '인간이라는': 6306, '종에': 6307, '환멸이': 6308, '이집트는': 6309, '할리우드의': 6310, '쓰지도': 6311, '캐릭터들과': 6312, '오해를': 6313, '경유해서': 6314, '이해에': 6315, '이르는': 6316, '경험': 6317, '관객은': 6318, '아래서': 6319, '증인이': 6320, '의미심장해지는': 6321, '파리하게': 6322, '회귀하는': 6323, '강박과': 6324, '눅눅한': 6325, '구두점을': 6326, '향하여': 6327, '인생이': 6328, '세우는지를': 6329, '어이없으면서도': 6330, '유머에': 6331, '직업의식을': 6332, '돌림노래': 6333, '예리한': 6334, '통각': 6335, '명배우의': 6336, '반가운': 6337, '말하지': 6338, '슬픔은': 6339, '내파하는가': 6340, '카모메': 6341, '식당에': 6342, '찾아가': 6343, '오니기리를': 6344, '먹고': 6345, '바다의': 6346, '가녀린': 6347, '서': 6348, '말이라도': 6349, '꿰어야': 6350, '보배': 6351, '빠져나온': 6352, '잠들어': 6353, '있던': 6354, '세포들의': 6355, '일제': 6356, '봉기': 6357, '다빈치': 6358, '바흐': 6359, '톨스토이와': 6360, '타르콥스키가': 6361, '시인이기도': 6362, '하다는': 6363, '갈라지는': 6364, '파괴력과': 6365, '치유력': 6366, '감동의': 6367, '태반은': 6368, '연결하려는': 6369, '안간힘에서': 6370, '온다': 6371, '주술적인': 6372, '위로를': 6373, '받을': 6374, '잘못이': 6375, '다르게': 6376, '보아도': 6377, '주류가': 6378, '겨울잠': 6379, '골방에선': 6380, '혹한보다': 6381, '혹독한': 6382, '외로움이': 6383, '해내는': 6384, '남아있음을': 6385, '과시한': 6386, '엄청나게': 6387, '시끄럽고': 6388, '없게': 6389, '주년인': 6390, '년에서': 6391, '지나서': 6392, '흥미진진할': 6393, '성찬': 6394, '맞닥뜨린': 6395, '바다같은': 6396, '해당': 6397, '몰각한': 6398, '맥빠진': 6399, '사극': 6400, '악마의': 6401, '씨': 6402, '주년': 6403, '오컬트': 6404, '대표작': 6405, '목록에': 6406, '추가됐다': 6407, '왕가위의': 6408, '영어': 6409, '숙제': 6410, '호흡': 6411, '개그다발': 6412, '말로': 6413, '위로하는': 6414, '힘주어': 6415, '손잡아주기': 6416, '갑을': 6417, '바꾸기': 6418, '놀이의': 6419, '도돌이표': 6420, '사건이': 6421, '서술된': 6422, '그리운': 6423, '과거가': 6424, '봉인된': 6425, '세계가': 6426, '간접체험된': 6427, '신기에': 6428, '오프닝': 6429, '롱테이크': 6430, '친구의': 6431, '지켜본다는': 6432, '그걸': 6433, '담는다는': 6434, '정치적으로': 6435, '옳으면': 6436, '옳다는': 6437, '윈터보텀': 6438, '그리면서': 6439, '지워나가는': 6440, '신필': 6441, '이병헌만큼은': 6442, '충분히': 6443, '인상적이지만': 6444, '이보게': 6445, '나이가': 6446, '숫자에': 6447, '불과할': 6448, '있겠나': 6449, '경공술': 6450, '비단': 6451, '보자기로': 6452, '싼': 6453, '도시락': 6454, '몫을': 6455, '카메오': 6456, '시작과': 6457, '유려하게': 6458, '맞닿아': 6459, '대응': 6460, '달리': 6461, '듣게': 6462, '매력적으로': 6463, '몽타주': 6464, '나다가도': 6465, '멈칫멈칫하게': 6466, '개성은': 6467, '잃었지만': 6468, '얻었다': 6469, '지난한': 6470, '설득의': 6471, '시도와': 6472, '과정': 6473, '구원이다': 6474, '탄력있는': 6475, '설정마다': 6476, '부도덕하고': 6477, '부실한': 6478, '시스템이라는': 6479, '킬킬대게': 6480, '검은': 6481, '비틀린': 6482, '회색': 6483, '어디서': 6484, '되어': 6485, '만나리': 6486, '산트는': 6487, '뒷모습의': 6488, '표정을': 6489, '영화로도': 6490, '훌륭하고': 6491, '스릴러로도': 6492, '성실하고': 6493, '세심한': 6494, '모범생': 6495, '조선': 6496, '천주교의': 6497, '초기': 6498, '파란만장하다': 6499, '울분': 6500, '삶보다': 6501, '꿈꿔온': 6502, '마르지': 6503, '최동훈': 6504, '감독을': 6505, '홈': 6506, '비디오로': 6507, '절묘하게': 6508, '공기': 6509, '군내': 6510, '풍기지': 6511, '좋게': 6512, '조리한': 6513, '중년': 6514, '남자의': 6515, '초처럼': 6516, '제목이라도': 6517, '튀게': 6518, '붙였어야': 6519, '했을': 6520, '이슬처럼': 6521, '맺히는': 6522, '감동에': 6523, '엄마를': 6524, '이름으로': 6525, '불러보고': 6526, '익숙함에서': 6527, '진부함으로': 6528, '넘어가는': 6529, '고개': 6530, '기다려야': 6531, '무모한': 6532, '변신에': 6533, '절실하고': 6534, '간절해도': 6535, '관계에서': 6536, '우리들': 6537, '흥미가': 6538, '급격히': 6539, '줄어드는': 6540, '역설': 6541, '낙천성은': 6542, '예술에': 6543, '기여하는가': 6544, '천지는': 6545, '어질지': 6546, '않아서': 6547, '짚으로': 6548, '개처럼': 6549, '여긴다': 6550, '노자': 6551, '도덕경': 6552, '함량과': 6553, '온도를': 6554, '맞춘': 6555, '풍자극': 6556, '주연': 6557, '클로즈업될': 6558, '부담스러운': 6559, '이유는': 6560, '형식은': 6561, '선택이었을까': 6562, '미니멀리즘': 6563, '캐스팅으로도': 6564, '가려지지': 6565, '접합': 6566, '굴레에': 6567, '요르고스': 6568, '란티모스의': 6569, '경이롭고도': 6570, '몸서리쳐지는': 6571, '신화': 6572, '피와': 6573, '연금술': 6574, '체화되지': 6575, '상큼함': 6576, '우승하고': 6577, '외적': 6578, '목표와': 6579, '인간답고': 6580, '지향': 6581, '충돌': 6582, '인간다움을': 6583, '되찾고': 6584, '싶어하고': 6585, '세상으로부터': 6586, '받기': 6587, '인정투쟁을': 6588, '벌이고': 6589, '있는데': 6590, '이같은': 6591, '목표들은': 6592, '최고가': 6593, '상충된다': 6594, '목표를': 6595, '이전의': 6596, '방식을': 6597, '결승전에서': 6598, '져야': 6599, '역설이': 6600, '성립된다': 6601, '스티븐': 6602, '천의무봉의': 6603, '방울': 6604, '도그마의': 6605, '율법으로도': 6606, '가리지': 6607, '상투성': 6608, '중심과': 6609, '주변': 6610, '문명과': 6611, '야만을': 6612, '서구의': 6613, '근대적': 6614, '이분법에': 6615, '교란과': 6616, '분산으로': 6617, '맞선다': 6618, '전율과': 6619, '거침없이': 6620, '뛰어든다': 6621, '호랑이를': 6622, '그릴': 6623, '고양이를': 6624, '그리며': 6625, '효과적으로': 6626, '주입한': 6627, '재난영화에': 6628, '현실감을': 6629, '불어넣는': 6630, '한국사회': 6631, '탄식과': 6632, '염원이': 6633, '무표정': 6634, '발하는': 6635, '창의력': 6636, '어깨': 6637, '재기는': 6638, '사라지고': 6639, '엽기만': 6640, '메시지가': 6641, '구하진': 6642, '의미없음을': 6643, '견뎌내지': 6644, '이유없음을': 6645, '떨쳐내지': 6646, '손목을': 6647, '뱃전을': 6648, '어지럽히는': 6649, '잔파도에': 6650, '눈돌리지': 6651, '당당하게': 6652, '항진한다': 6653, '연민은': 6654, '지친다': 6655, '장벽을': 6656, '창의성의': 6657, '발판으로': 6658, '어이': 6659, '뻔뻔한데': 6660, '가끔씩': 6661, '사랑스럽기도': 6662, '하다': 6663, '멜로는': 6664, '허진호였다': 6665, '직접': 6666, '대면하게': 6667, '굉장한': 6668, '박력': 6669, '속고': 6670, '속이는': 6671, '첩보의': 6672, '믿음으로': 6673, '내뻗는': 6674, '손이': 6675, '역설적': 6676, '타협의': 6677, '예술이지만': 6678, '예술가에겐': 6679, '말아야': 6680, '지점이': 6681, '다짐': 6682, '호러적': 6683, '접목이': 6684, '사로잡기는': 6685, '타자의': 6686, '깔끔한': 6687, '루타': 6688, '집단적': 6689, '광기는': 6690, '희생양을': 6691, '만드나': 6692, '데자뷔로서의': 6693, '생': 6694, '우로보로스로서의': 6695, '신비로서의': 6696, '장악하지': 6697, '손쉽게': 6698, '감정에만': 6699, '지른다': 6700, '주사한': 6701, '행오버': 6702, '앤': 6703, '시티': 6704, '괴물이': 6705, '지': 6706, '지났는데': 6707, '호랑이': 6708, '그리려다': 6709, '고양이': 6710, '산발하는': 6711, '어둡고': 6712, '황폐한': 6713, '구석을': 6714, '우스꽝스러운': 6715, '도약을': 6716, '공존': 6717, '거부하면': 6718, '아니지만': 6719, '공존의': 6720, '윤리를': 6721, '받아들이면': 6722, '예루살렘': 6723, '감독판': 6724, '맹신을': 6725, '지나': 6726, '풍경의': 6727, '백보에': 6728, '오십보의': 6729, '분노와': 6730, '난폭한': 6731, '극성이': 6732, '삼켜버린': 6733, '열망에': 6734, '오늘만': 6735, '사는': 6736, '악다구니만으로': 6737, '들끓어': 6738, '오르는': 6739, '작품을': 6740, '이미지로': 6741, '경이롭게': 6742, '정곡을': 6743, '쩔쩔매는': 6744, '부모들': 6745, '대화하면서': 6746, '뭔가': 6747, '설정들이': 6748, '덫과': 6749, '도끼를': 6750, '괴력의': 6751, '피로에': 6752, '붙박인': 6753, '사람들데드': 6754, '주위의': 6755, '데드': 6756, '걸스': 6757, '숨결로': 6758, '상실을': 6759, '끓고': 6760, '격정': 6761, '격랑': 6762, '위를': 6763, '음화와': 6764, '양화': 6765, '재미있을': 6766, '시선과': 6767, '저주에': 6768, '독하고': 6769, '별난': 6770, '농담들': 6771, '횃불이': 6772, '불씨다': 6773, '폭죽': 6774, '끝이': 6775, '아련하고': 6776, '스산해서': 6777, '그렇다': 6778, '염도가': 6779, '해야될': 6780, '천방지축': 6781, '흘러가는': 6782, '산만함을': 6783, '커버한다': 6784, '내러티브와': 6785, '완벽히': 6786, '장악한': 6787, '활공': 6788, '홍상수를': 6789, '알게': 6790, '시선을': 6791, '상상할': 6792, '찾아드는': 6793, '찾기': 6794, '종류의': 6795, '애니메이션에는': 6796, '맞았던': 6797, '실뱅': 6798, '쇼메의': 6799, '감성이었지만': 6800, '잠재력에': 6801, '비해': 6802, '아기자기하게': 6803, '통제된': 6804, '풍금소리처럼': 6805, '포근하고': 6806, '펀치드렁크처럼': 6807, '얼얼하다': 6808, '희한한': 6809, '사랑영화의': 6810, '마력': 6811, '영혼도': 6812, '아이디어도': 6813, '이탁': 6814, '오민애': 6815, '김재화': 6816, '불모지가': 6817, '좋았다': 6818, '테일러': 6819, '로트너': 6820, '트와일라잇': 6821, '밖에서': 6822, '살아남을': 6823, '격랑에도': 6824, '그늘': 6825, '얼굴이란': 6826, '실감할': 6827, '인간은': 6828, '회상력의': 6829, '날개로': 6830, '비상한다': 6831, '시스템과': 6832, '충돌한다는': 6833, '광장에서든': 6834, '밀실에서든': 6835, '꿰뚫어본다': 6836, '분노': 6837, '눈물도': 6838, '웃음도': 6839, '넘쳐흐른다': 6840, '망각에': 6841, '저항하는': 6842, '연기보다는': 6843, '기획과': 6844, '제작의': 6845, '피': 6846, '달리고도': 6847, '소진되지': 6848, '손님': 6849, '계급론과': 6850, '예술론으로': 6851, '차린': 6852, '만찬': 6853, '진실': 6854, '가셨습니다': 6855, '각각의': 6856, '곡절을': 6857, '헤아려보다가': 6858, '정말임이란': 6859, '삶에': 6860, '조건일': 6861, '상상은': 6862, '그에': 6863, '대응하는': 6864, '인간과': 6865, '태도이자': 6866, '무기': 6867, '스릴러에': 6868, '오해': 6869, '매체에': 6870, '벌인다': 6871, '없더라는': 6872, '불완전한': 6873, '언어에': 6874, '은총이': 6875, '깃드는': 6876, '에피소드들을': 6877, '모았는데': 6878, '흥미롭지': 6879, '기대와': 6880, '냉소': 6881, '삼아낸': 6882, '미각이': 6883, '불러내는': 6884, '플래시백': 6885, '대사와': 6886, '마사지에': 6887, '몰두하느라': 6888, '놓쳐버린': 6889, '리듬과': 6890, '긴장감': 6891, '효율적인': 6892, '각본과': 6893, '위력': 6894, '이질적인': 6895, '요소들로': 6896, '설득해내지': 6897, '극장들에서': 6898, '관람하면': 6899, '체험이': 6900, '도발적으로': 6901, '교훈극으로': 6902, '똑같은': 6903, '방식으로': 6904, '슬퍼해야': 6905, '옳고': 6906, '메시지도': 6907, '강력하다': 6908, '우울증이': 6909, '창작에': 6910, '창의적으로': 6911, '작용된': 6912, '경쾌하다': 6913, '더운': 6914, '피가': 6915, '급작스러운': 6916, '성공이라는': 6917, '하나는': 6918, '만의': 6919, '문제의식이': 6920, '또렷하지만': 6921, '방향으로만': 6922, '몰아넣는다': 6923, '엑조티시즘': 6924, '목질은': 6925, '단단하진': 6926, '수액은': 6927, '조니뎁스럽다는': 6928, '형용사도': 6929, '가능할': 6930, '제이크': 6931, '질렌할의': 6932, '눈빛': 6933, '어우러진': 6934, '색과': 6935, '음이': 6936, '파릇파릇': 6937, '맺어야': 6938, '하는가에': 6939, '천만원으로': 6940, '있겠냐고': 6941, '묻는다면': 6942, '자동차경주': 6943, '영화면서': 6944, '찾아가는': 6945, '쌍곡선': 6946, '믿지도': 6947, '이야기도': 6948, '황홀하게': 6949, '그려낼': 6950, '예상하지': 6951, '액션은': 6952, '없지만': 6953, '밀어붙이는': 6954, '액션도': 6955, '권력': 6956, '일들에': 6957, '야유와': 6958, '장탄식': 6959, '밀봉한': 6960, '고통의': 6961, '밀실': 6962, '여진에': 6963, '흔들린다': 6964, '받아들일': 6965, '벗어나려': 6966, '발버둥치는': 6967, '심리가': 6968, '되먹임되는': 6969, '안일하고': 6970, '안이하다': 6971, '현대문명의': 6972, '허상을': 6973, '익살과': 6974, '넉살': 6975, '능청과': 6976, '딴청': 6977, '히어로를': 6978, '웨스': 6979, '앤더슨이': 6980, '왕국': 6981, '영웅을': 6982, '그려야': 6983, '하는지': 6984, '구원은': 6985, '무망한': 6986, '반복': 6987, '변화에': 6988, '담기고': 6989, '피상적': 6990, '표식': 6991, '모순에': 6992, '스민다': 6993, '완성하기': 6994, '웃다가': 6995, '턱이': 6996, '빠질': 6997, '견뎌낸': 6998, '것에': 6999, '갈채를': 7000, '간지럽히는': 7001, '트릭의': 7002, '때리기': 7003, '차례': 7004, '연타가': 7005, '워낙': 7006, '많아': 7007, '틀릴': 7008, '있음': 7009, '맞닿은': 7010, '신기루에서': 7011, '몽글거린다': 7012, '손발이': 7013, '오그라드는': 7014, '악센트보다': 7015, '흐름이': 7016, '중요하다고': 7017, '디자인의': 7018, '전시장': 7019, '알리는': 7020, '공력을': 7021, '압도한다': 7022, '상반된': 7023, '방향으로': 7024, '매력과': 7025, '뚜벅뚜벅': 7026, '원스가': 7027, '이끌어낸': 7028, '트와이스': 7029, '클루니가': 7030, '먹어가는': 7031, '뒤도': 7032, '돌아보고': 7033, '긴장감을': 7034, '허무는': 7035, '평면': 7036, '페이소스의': 7037, '극점': 7038, '다루기': 7039, '중심에서': 7040, '섬세하고도': 7041, '단호하게': 7042, '하나만으로': 7043, '스릴러를': 7044, '류승완의': 7045, '선전포고': 7046, '남자는': 7047, '배': 7048, '여자는': 7049, '항구의': 7050, '와킨': 7051, '피닉스가': 7052, '등장할': 7053, '중력으로': 7054, '공간들이': 7055, '시리즈에선': 7056, '캐릭터들은': 7057, '해주세요': 7058, '플라스틱으로': 7059, '순수': 7060, '옛날': 7061, '보러갔다': 7062, '굽힘없이': 7063, '뻗어나가는': 7064, '에로': 7065, '블루오션으로': 7066, '선보였던': 7067, '레드오션': 7068, '아이러니한': 7069, '배어들지': 7070, '혼을': 7071, '열연은': 7072, '잠든': 7073, '병든': 7074, '여자의': 7075, '주요': 7076, '한명의': 7077, '이름이': 7078, '가련인': 7079, '운다': 7080, '쉽다': 7081, '깊다': 7082, '가져간다': 7083, '마리의': 7084, '새끼': 7085, '사자를': 7086, '것인지': 7087, '폭풍처럼': 7088, '몰아친다': 7089, '들어서야': 7090, '흑백으로': 7091, '음울한': 7092, '그늘을': 7093, '얹어주는': 7094, '나라': 7095, '운명처럼': 7096, '다가오는': 7097, '건반': 7098, '피아노가': 7099, '혼란까지도': 7100, '싱그럽다': 7101, '흥미롭기도': 7102, '부담스럽기도': 7103, '지점': 7104, '폴토머스앤더슨교에': 7105, '입교한': 7106, '배우는': 7107, '파는': 7108, '직업마이클': 7109, '케인이라는': 7110, '꺼내도': 7111, '결국엔': 7112, '쥐어짜는': 7113, '분출보다': 7114, '이성적': 7115, '접근이': 7116, '오히려': 7117, '필요했을': 7118, '실없이': 7119, '푸근하게': 7120, '두번째': 7121, '타석에서': 7122, '헛스윙': 7123, '필요한': 7124, '봄날의': 7125, '연인들을': 7126, '코미디로서만': 7127, '성공했다': 7128, '지식인의': 7129, '매달린': 7130, '반성': 7131, '사각형에': 7132, '자유와': 7133, '방관이': 7134, '천의무봉': 7135, '실의': 7136, '아이는': 7137, '파괴된': 7138, '알려진': 7139, '일의': 7140, '어려움': 7141, '록음악': 7142, '골때리는': 7143, '정서가': 7144, '감각은': 7145, '닳는다': 7146, '문소리는': 7147, '탁월하고': 7148, '김선영은': 7149, '굉장하며': 7150, '장윤주는': 7151, '놀랍다': 7152, '기본': 7153, '분위기조차': 7154, '부부가': 7155, '살아가고': 7156, '같고': 7157, '그들에게': 7158, '깨달음은': 7159, '진공을': 7160, '동경한다': 7161, '당도하지': 7162, '되돌릴': 7163, '파편들을': 7164, '깁는': 7165, '한국의': 7166, '법정이라는': 7167, '부조리': 7168, '티베트어로': 7169, '존재를': 7170, '뜻한다는': 7171, '사실을': 7172, '떠올렸다': 7173, '확신에': 7174, '찬': 7175, '신념에': 7176, '등돌리고': 7177, '보잘': 7178, '끄덕이며': 7179, '일신하려는': 7180, '사장시켰다': 7181, '사연을': 7182, '주워섬기느라': 7183, '멱살잡고': 7184, '끌고가는': 7185, '넓이를': 7186, '깊이로': 7187, '착각한': 7188, '결과물': 7189, '실감': 7190, '외에도': 7191, '장점이': 7192, '여럿': 7193, '제목의': 7194, '어정쩡한': 7195, '뒷걸음질': 7196, '시각의': 7197, '청각의': 7198, '맹신': 7199, '린치가': 7200, '들려주는': 7201, '극악무도하면서도': 7202, '순진무구한': 7203, '년은': 7204, '감독들의': 7205, '진입이': 7206, '두드러진': 7207, '해': 7208, '현재를': 7209, '가다가': 7210, '부친다': 7211, '온화한': 7212, '틀을': 7213, '깨는': 7214, '흔들렸다': 7215, '여진이': 7216, '길었다': 7217, '작법이': 7218, '설정의': 7219, '고갈시킨다': 7220, '설탕': 7221, '다섯': 7222, '인생': 7223, '인생이라는': 7224, '가면': 7225, '가면이라는': 7226, '운동이라는': 7227, '제한적인': 7228, '여건': 7229, '효율적': 7230, '장르영화를': 7231, '끊임': 7232, '바느질하는': 7233, '편집의': 7234, '효과를': 7235, '자랑하는': 7236, '프로작향우울제': 7237, '외국관객들은': 7238, '뉘앙스까지': 7239, '만끽하는': 7240, '한국관객의': 7241, '복': 7242, '누구인지': 7243, '누구인가': 7244, '본': 7245, '야구소재영화': 7246, '데뷔작에서': 7247, '이선균이라는': 7248, '토양': 7249, '세워진': 7250, '최강희라는': 7251, '백화점': 7252, '시각효과로도': 7253, '도달하지': 7254, '전형성의': 7255, '효과와': 7256, '역효과': 7257, '사랑에': 7258, '내려': 7259, '앉은': 7260, '더께': 7261, '사게': 7262, '청신한': 7263, '액션을': 7264, '배제한': 7265, '첩보영화의': 7266, '뚜렷한': 7267, '성취와': 7268, '근래': 7269, '호연지기': 7270, '사람도': 7271, '위엄있게': 7272, '끝맺을': 7273, '술에': 7274, '한석규의': 7275, '데뷔작이자': 7276, '그해': 7277, '흥행': 7278, '위작': 7279, '그랬다구요': 7280, '따스한': 7281, '적셔오는': 7282, '설혹': 7283, '종말이': 7284, '눈앞에': 7285, '다가온다고': 7286, '야만적인': 7287, '풍파를': 7288, '헤치고': 7289, '내리는': 7290, '닻의': 7291, '고요함이라니': 7292, '배우였던': 7293, '맥커너히에게': 7294, '사랑도': 7295, '결국은': 7296, '부피감을': 7297, '표현력으로': 7298, '넘어선다': 7299, '실크처럼': 7300, '매끄럽고': 7301, '벨벳처럼': 7302, '우아하다': 7303, '액션영웅': 7304, '홈즈가': 7305, '세계정복하려는': 7306, '악당과': 7307, '싸운다고라고라': 7308, '범작': 7309, '사내': 7310, '아이들에게': 7311, '락밴드란': 7312, '만들고': 7313, '밖에': 7314, '만들어서': 7315, '수명이': 7316, '다한': 7317, '살려내려는': 7318, '안간힘': 7319, '송강호라는': 7320, '거인의': 7321, '크리스티안': 7322, '문주의': 7323, '집중력은': 7324, '정도': 7325, '작품마다': 7326, '연출력': 7327, '편차가': 7328, '필모그래피의': 7329, '두려워하지': 7330, '로드': 7331, '피학과': 7332, '얼룩진': 7333, '노래와': 7334, '춤을': 7335, '넣어야': 7336, '효과적인지': 7337, '허탈함을': 7338, '흩어진': 7339, '스타일의': 7340, '원심력': 7341, '타협': 7342, '세운': 7343, '패기와': 7344, '상상력까지': 7345, '있었더라면': 7346, '프란시스': 7347, '그대로': 7348, '프란시스트리스': 7349, '아메리카': 7350, '노아': 7351, '바움백과': 7352, '거윅의': 7353, '협업을': 7354, '시리즈처럼': 7355, '하고자': 7356, '살아있는': 7357, '사마중달이': 7358, '죽은': 7359, '제갈공명에게': 7360, '쫓겼던': 7361, '생일': 7362, '모임에': 7363, '초대받아': 7364, '말석에서라도': 7365, '나눈': 7366, '지독한가': 7367, '과연': 7368, '비장한가': 7369, '글쎄': 7370, '공감하나': 7371, '아니': 7372, '엔진과': 7373, '심장이': 7374, '지옥에서': 7375, '보낸': 7376, '시각화한': 7377, '드니': 7378, '빌뇌브와': 7379, '로저': 7380, '디킨스의': 7381, '협업': 7382, '악마적인': 7383, '인물들도': 7384, '주변에선': 7385, '호인으로': 7386, '여겨진다지': 7387, '현장을': 7388, '놓치고도': 7389, '다큐를': 7390, '좋으련만': 7391, '생동감에': 7392, '피로': 7393, '사건의': 7394, '키우는': 7395, '절절하게': 7396, '집중한다': 7397, '주연작으로': 7398, '고를': 7399, '클루니란': 7400, '부끄러움을': 7401, '강요하는': 7402, '집들을': 7403, '벗어난': 7404, '거처를': 7405, '마련하는': 7406, '기기묘묘한': 7407, '주유천하': 7408, '금송아지가': 7409, '뭐하나': 7410, '엽기적인': 7411, '그녀에서': 7412, '애니메이션인가란': 7413, '질문에': 7414, '애니메이션이면': 7415, '되나로': 7416, '재담은': 7417, '끊고': 7418, '재기를': 7419, '질식시킨다': 7420, '던지고나서': 7421, '허탈한': 7422, '답을': 7423, '쥐어준다': 7424, '격렬하게': 7425, '안하고': 7426, '덕후의': 7427, '음모론': 7428, '몽상': 7429, '울타리에도': 7430, '가둬지지': 7431, '원시적': 7432, '에너지의': 7433, '분출을': 7434, '바라보았다': 7435, '수직과': 7436, '수평의': 7437, '상징을': 7438, '뛰어나게': 7439, '직조했다': 7440, '진행으로도': 7441, '유지하지': 7442, '기적': 7443, '명절에는': 7444, '영화면': 7445, '대양을': 7446, '물방울의': 7447, '염원': 7448, '첸카이거에': 7449, '실망': 7450, '걸로': 7451, '달변': 7452, '사랑에서': 7453, '제하면': 7454, '남을까': 7455, '전쟁이고': 7456, '전장이어도': 7457, '아랑곳하지': 7458, '아키': 7459, '카우리스마키의': 7460, '페달을': 7461, '밟은': 7462, '그녀들에게': 7463, '축복을': 7464, '여기로': 7465, '모이지': 7466, '부서지는': 7467, '일화들': 7468, '닻을': 7469, '고투가': 7470, '시리도록': 7471, '클리셰의': 7472, '뻘밭에서도': 7473, '맥동하는': 7474, '기교': 7475, '몰입도에서': 7476, '출연진들의': 7477, '소화력': 7478, '삶이라는': 7479, '족쇄와': 7480, '예술이라는': 7481, '전망': 7482, '환상': 7483, '착란': 7484, '남긴다고': 7485, '특별할': 7486, '혼자': 7487, '옆자리를': 7488, '살피는': 7489, '마음이란': 7490, '의표를': 7491, '랠리와': 7492, '휘젓는': 7493, '헛손질을': 7494, '오간': 7495, '완벽한': 7496, '라이브': 7497, '플레쉬에서부터': 7498, '알모도바르': 7499, '작품은': 7500, '일정': 7501, '수준': 7502, '품질관리가': 7503, '프랜차이즈': 7504, '식당의': 7505, '음식처럼': 7506, '예술에의': 7507, '강박은': 7508, '예술영화를': 7509, '망친다': 7510, '아이디어가': 7511, '영화보다': 7512, '크다': 7513, '우려에서': 7514, '환호로': 7515, '팀은': 7516, '성과를': 7517, '낼': 7518, '있었다는': 7519, '강렬하게만': 7520, '붓질하느라': 7521, '그리는': 7522, '잊었다': 7523, '대답들': 7524, '요령부득': 7525, '각색의': 7526, '품이': 7527, '넓어서': 7528, '맥락과': 7529, '매체의': 7530, '특성에': 7531, '토대해': 7532, '제한을': 7533, '재치있게': 7534, '활용한다': 7535, '신비롭게': 7536, '살랑이는': 7537, '나날': 7538, '웃음을': 7539, '조화시키기가': 7540, '어렵습니다': 7541, '스페이스': 7542, '노잼': 7543, '컴플렉스를': 7544, '벗은': 7545, '밖에선': 7546, '들여다보이지': 7547, '지긋지긋한': 7548, '무엇과': 7549, '왜를': 7550, '결여한': 7551, '어떻게의': 7552, '공허함': 7553, '지날': 7554, '땐': 7555, '흐르고서야': 7556, '맥이': 7557, '잡히는': 7558, '설풋하게': 7559, '디스토피아를': 7560, '우아하게': 7561, '그려낸': 7562, '동화에서': 7563, '당의를': 7564, '벗겨내면': 7565, '기괴하게': 7566, '이제껏': 7567, '재발견한': 7568, '일상이라는': 7569, '불꽃의': 7570, '눌러': 7571, '다시금': 7572, '영역으로': 7573, '성큼': 7574, '이창동': 7575, '지금이곳': 7576, '청춘들의': 7577, '고투와': 7578, '다룬다는': 7579, '한국적이고': 7580, '인식의': 7581, '토대를': 7582, '되묻는다는': 7583, '근원적이다': 7584, '밖을': 7585, '폭넓은': 7586, '공감으로': 7587, '사례모음집': 7588, '감정으로만': 7589, '환원되어버린': 7590, '능란하지만': 7591, '성찰없는': 7592, '어수선한': 7593, '재기발랄': 7594, '통제불능': 7595, '아브라카다바타': 7596, '음악으로도': 7597, '난맥을': 7598, '풀': 7599, '락커의': 7600, '제목은': 7601, '아들과': 7602, '연인': 7603, '폼': 7604, '보내는': 7605, '응원': 7606, '야만의': 7607, '뜻하지': 7608, '삶들': 7609, '강인하게': 7610, '얽혔기에': 7611, '이겨낸': 7612, '사연들': 7613, '극단주의는': 7614, '토양에서': 7615, '자라는가': 7616, '화제가': 7617, '됐던': 7618, '영화도': 7619, '뒤늦게': 7620, '개봉하게': 7621, '되니': 7622, '이것저것': 7623, '다해보는': 7624, '윈터보텀을': 7625, '안타까움': 7626, '한계를': 7627, '매력으로': 7628, '바꾸어': 7629, '캐머런의': 7630, '호랑이와': 7631, '사자가': 7632, '맞붙는': 7633, '배틀': 7634, '천재성과': 7635, '후회에도': 7636, '살아야': 7637, '판타지인가에': 7638, '버튼은': 7639, '이집트에서': 7640, '독일인으로': 7641, '오인된': 7642, '헝가리인이': 7643, '이탈리아에서': 7644, '캐나다인에게': 7645, '치료받으며': 7646, '영국인': 7647, '환자가': 7648, '아이러니에': 7649, '습도': 7650, '채도': 7651, '착해지고': 7652, '우연과': 7653, '작위의': 7654, '바다에서': 7655, '허우적대는': 7656, '격렬한데': 7657, '확신하는': 7658, '악이야말로': 7659, '끼친다': 7660, '대사가': 7661, '나온다': 7662, '재밌다고': 7663, '생각하면': 7664, '오산이야': 7665, '정처없고': 7666, '느닷없이': 7667, '서사에': 7668, '함몰되었다': 7669, '판단착오': 7670, '월에': 7671, '배우를': 7672, '예약한': 7673, '고함과': 7674, '비명': 7675, '모두에': 7676, '귀': 7677, '기울일': 7678, '금방': 7679, '흐르고': 7680, '빨리': 7681, '마르는': 7682, '귀여움과': 7683, '닭살': 7684, '허둥지둥': 7685, '변박의': 7686, '스피드': 7687, '걷거나': 7688, '뛰어야만': 7689, '경험할': 7690, '써야': 7691, '자서전': 7692, '예상치': 7693, '자리에서': 7694, '의도치': 7695, '닿았던': 7696, '손으로부터': 7697, '전해오는': 7698, '온기': 7699, '소년성의': 7700, '인력과': 7701, '척력의': 7702, '미로에서': 7703, '형형하게': 7704, '환청': 7705, '대상이': 7706, '주체가': 7707, '어른의': 7708, '일순간': 7709, '진격하는': 7710, '자에게': 7711, '경의를': 7712, '실타래': 7713, '앞에서도': 7714, '우선': 7715, '숟가락을': 7716, '들고': 7717, '떠먹을': 7718, '벗어날': 7719, '낮고': 7720, '고개들을': 7721, '넘어가며': 7722, '인생찬가': 7723, '그곳이': 7724, '어디라도': 7725, '장르든': 7726, '시대든': 7727, '배우든': 7728, '자기희화로': 7729, '만들기': 7730, '감미로운': 7731, '기성품': 7732, '주인공들의': 7733, '태도가': 7734}\n"
          ]
        }
      ]
    },
    {
      "cell_type": "code",
      "source": [
        "max_words = len(tokenizer.index_word)"
      ],
      "metadata": {
        "id": "2SFrlXzaIGt1"
      },
      "execution_count": 124,
      "outputs": []
    },
    {
      "cell_type": "code",
      "source": [
        "print(max_words)"
      ],
      "metadata": {
        "colab": {
          "base_uri": "https://localhost:8080/"
        },
        "id": "fCfi6fCvIIS2",
        "outputId": "644a1632-5402-4717-c9f2-d2eedcc29c90"
      },
      "execution_count": 125,
      "outputs": [
        {
          "output_type": "stream",
          "name": "stdout",
          "text": [
            "7734\n"
          ]
        }
      ]
    },
    {
      "cell_type": "code",
      "source": [
        "#문장을 숫자로 나열\n",
        "X_train_seq = tokenizer.texts_to_sequences(X_train)\n",
        "X_test_seq = tokenizer.texts_to_sequences(X_test)\n",
        "\n",
        "#최대 문장 길이 판별\n",
        "max_len= max(len(line) for line in X_train_seq)\n",
        "\n",
        "#Padding Sequence 사용\n",
        "x_train_pad = pad_sequences(X_train_seq, maxlen=max_len)\n",
        "x_test_pad = pad_sequences(X_test_seq, maxlen=max_len)"
      ],
      "metadata": {
        "id": "L_Sink4oIIW2"
      },
      "execution_count": 129,
      "outputs": []
    },
    {
      "cell_type": "code",
      "source": [
        "max_len"
      ],
      "metadata": {
        "colab": {
          "base_uri": "https://localhost:8080/"
        },
        "id": "RtChzKsmIfZj",
        "outputId": "dcd2fa36-af68-4625-9597-d20a870363c4"
      },
      "execution_count": 130,
      "outputs": [
        {
          "output_type": "execute_result",
          "data": {
            "text/plain": [
              "62"
            ]
          },
          "metadata": {},
          "execution_count": 130
        }
      ]
    },
    {
      "cell_type": "code",
      "source": [
        "# LSTM 모델 활용하여 모델링\n",
        "from tensorflow.keras.layers import Dense, Flatten, Conv1D, MaxPool2D\n",
        "from tensorflow.keras.layers import Embedding, Bidirectional, LSTM, SimpleRNN, GRU, Dropout\n",
        "from tensorflow.keras.models import Sequential\n",
        "from tensorflow.keras.callbacks import EarlyStopping, ModelCheckpoint\n",
        "max_words = 7734 + 1 # 총 단어 갯수 + padding 0 번호\n",
        "max_len = 62 # 최대 문장 길이\n",
        "embedding_dim = 32 # embedding 차원"
      ],
      "metadata": {
        "id": "ezdzN1rfIQWp"
      },
      "execution_count": 160,
      "outputs": []
    },
    {
      "cell_type": "code",
      "source": [
        "# LSTM 모델\n",
        "model = Sequential()\n",
        "model.add(Embedding(max_words, embedding_dim, input_length=max_len))\n",
        "model.add(LSTM(16, return_sequences=True))\n",
        "model.add(LSTM(16, return_sequences=True))\n",
        "model.add(Flatten())\n",
        "model.add(Dense(128, activation='swish'))\n",
        "model.add(Dense(32, activation='swish'))\n",
        "model.add(Dense(11, activation='softmax'))\n",
        "# 모델 compile\n",
        "model.compile(optimizer='adam',\n",
        "              loss='sparse_categorical_crossentropy',\n",
        "              metrics=['accuracy'])\n",
        "model.summary()"
      ],
      "metadata": {
        "colab": {
          "base_uri": "https://localhost:8080/",
          "height": 409
        },
        "id": "q8kyd-rkIhdI",
        "outputId": "4a32964d-f975-40ef-d344-971769e92192"
      },
      "execution_count": 161,
      "outputs": [
        {
          "output_type": "stream",
          "name": "stderr",
          "text": [
            "/usr/local/lib/python3.11/dist-packages/keras/src/layers/core/embedding.py:90: UserWarning: Argument `input_length` is deprecated. Just remove it.\n",
            "  warnings.warn(\n"
          ]
        },
        {
          "output_type": "display_data",
          "data": {
            "text/plain": [
              "\u001b[1mModel: \"sequential_8\"\u001b[0m\n"
            ],
            "text/html": [
              "<pre style=\"white-space:pre;overflow-x:auto;line-height:normal;font-family:Menlo,'DejaVu Sans Mono',consolas,'Courier New',monospace\"><span style=\"font-weight: bold\">Model: \"sequential_8\"</span>\n",
              "</pre>\n"
            ]
          },
          "metadata": {}
        },
        {
          "output_type": "display_data",
          "data": {
            "text/plain": [
              "┏━━━━━━━━━━━━━━━━━━━━━━━━━━━━━━━━━┳━━━━━━━━━━━━━━━━━━━━━━━━┳━━━━━━━━━━━━━━━┓\n",
              "┃\u001b[1m \u001b[0m\u001b[1mLayer (type)                   \u001b[0m\u001b[1m \u001b[0m┃\u001b[1m \u001b[0m\u001b[1mOutput Shape          \u001b[0m\u001b[1m \u001b[0m┃\u001b[1m \u001b[0m\u001b[1m      Param #\u001b[0m\u001b[1m \u001b[0m┃\n",
              "┡━━━━━━━━━━━━━━━━━━━━━━━━━━━━━━━━━╇━━━━━━━━━━━━━━━━━━━━━━━━╇━━━━━━━━━━━━━━━┩\n",
              "│ embedding_8 (\u001b[38;5;33mEmbedding\u001b[0m)         │ ?                      │   \u001b[38;5;34m0\u001b[0m (unbuilt) │\n",
              "├─────────────────────────────────┼────────────────────────┼───────────────┤\n",
              "│ lstm_16 (\u001b[38;5;33mLSTM\u001b[0m)                  │ ?                      │   \u001b[38;5;34m0\u001b[0m (unbuilt) │\n",
              "├─────────────────────────────────┼────────────────────────┼───────────────┤\n",
              "│ lstm_17 (\u001b[38;5;33mLSTM\u001b[0m)                  │ ?                      │   \u001b[38;5;34m0\u001b[0m (unbuilt) │\n",
              "├─────────────────────────────────┼────────────────────────┼───────────────┤\n",
              "│ flatten_8 (\u001b[38;5;33mFlatten\u001b[0m)             │ ?                      │   \u001b[38;5;34m0\u001b[0m (unbuilt) │\n",
              "├─────────────────────────────────┼────────────────────────┼───────────────┤\n",
              "│ dense_24 (\u001b[38;5;33mDense\u001b[0m)                │ ?                      │   \u001b[38;5;34m0\u001b[0m (unbuilt) │\n",
              "├─────────────────────────────────┼────────────────────────┼───────────────┤\n",
              "│ dense_25 (\u001b[38;5;33mDense\u001b[0m)                │ ?                      │   \u001b[38;5;34m0\u001b[0m (unbuilt) │\n",
              "├─────────────────────────────────┼────────────────────────┼───────────────┤\n",
              "│ dense_26 (\u001b[38;5;33mDense\u001b[0m)                │ ?                      │   \u001b[38;5;34m0\u001b[0m (unbuilt) │\n",
              "└─────────────────────────────────┴────────────────────────┴───────────────┘\n"
            ],
            "text/html": [
              "<pre style=\"white-space:pre;overflow-x:auto;line-height:normal;font-family:Menlo,'DejaVu Sans Mono',consolas,'Courier New',monospace\">┏━━━━━━━━━━━━━━━━━━━━━━━━━━━━━━━━━┳━━━━━━━━━━━━━━━━━━━━━━━━┳━━━━━━━━━━━━━━━┓\n",
              "┃<span style=\"font-weight: bold\"> Layer (type)                    </span>┃<span style=\"font-weight: bold\"> Output Shape           </span>┃<span style=\"font-weight: bold\">       Param # </span>┃\n",
              "┡━━━━━━━━━━━━━━━━━━━━━━━━━━━━━━━━━╇━━━━━━━━━━━━━━━━━━━━━━━━╇━━━━━━━━━━━━━━━┩\n",
              "│ embedding_8 (<span style=\"color: #0087ff; text-decoration-color: #0087ff\">Embedding</span>)         │ ?                      │   <span style=\"color: #00af00; text-decoration-color: #00af00\">0</span> (unbuilt) │\n",
              "├─────────────────────────────────┼────────────────────────┼───────────────┤\n",
              "│ lstm_16 (<span style=\"color: #0087ff; text-decoration-color: #0087ff\">LSTM</span>)                  │ ?                      │   <span style=\"color: #00af00; text-decoration-color: #00af00\">0</span> (unbuilt) │\n",
              "├─────────────────────────────────┼────────────────────────┼───────────────┤\n",
              "│ lstm_17 (<span style=\"color: #0087ff; text-decoration-color: #0087ff\">LSTM</span>)                  │ ?                      │   <span style=\"color: #00af00; text-decoration-color: #00af00\">0</span> (unbuilt) │\n",
              "├─────────────────────────────────┼────────────────────────┼───────────────┤\n",
              "│ flatten_8 (<span style=\"color: #0087ff; text-decoration-color: #0087ff\">Flatten</span>)             │ ?                      │   <span style=\"color: #00af00; text-decoration-color: #00af00\">0</span> (unbuilt) │\n",
              "├─────────────────────────────────┼────────────────────────┼───────────────┤\n",
              "│ dense_24 (<span style=\"color: #0087ff; text-decoration-color: #0087ff\">Dense</span>)                │ ?                      │   <span style=\"color: #00af00; text-decoration-color: #00af00\">0</span> (unbuilt) │\n",
              "├─────────────────────────────────┼────────────────────────┼───────────────┤\n",
              "│ dense_25 (<span style=\"color: #0087ff; text-decoration-color: #0087ff\">Dense</span>)                │ ?                      │   <span style=\"color: #00af00; text-decoration-color: #00af00\">0</span> (unbuilt) │\n",
              "├─────────────────────────────────┼────────────────────────┼───────────────┤\n",
              "│ dense_26 (<span style=\"color: #0087ff; text-decoration-color: #0087ff\">Dense</span>)                │ ?                      │   <span style=\"color: #00af00; text-decoration-color: #00af00\">0</span> (unbuilt) │\n",
              "└─────────────────────────────────┴────────────────────────┴───────────────┘\n",
              "</pre>\n"
            ]
          },
          "metadata": {}
        },
        {
          "output_type": "display_data",
          "data": {
            "text/plain": [
              "\u001b[1m Total params: \u001b[0m\u001b[38;5;34m0\u001b[0m (0.00 B)\n"
            ],
            "text/html": [
              "<pre style=\"white-space:pre;overflow-x:auto;line-height:normal;font-family:Menlo,'DejaVu Sans Mono',consolas,'Courier New',monospace\"><span style=\"font-weight: bold\"> Total params: </span><span style=\"color: #00af00; text-decoration-color: #00af00\">0</span> (0.00 B)\n",
              "</pre>\n"
            ]
          },
          "metadata": {}
        },
        {
          "output_type": "display_data",
          "data": {
            "text/plain": [
              "\u001b[1m Trainable params: \u001b[0m\u001b[38;5;34m0\u001b[0m (0.00 B)\n"
            ],
            "text/html": [
              "<pre style=\"white-space:pre;overflow-x:auto;line-height:normal;font-family:Menlo,'DejaVu Sans Mono',consolas,'Courier New',monospace\"><span style=\"font-weight: bold\"> Trainable params: </span><span style=\"color: #00af00; text-decoration-color: #00af00\">0</span> (0.00 B)\n",
              "</pre>\n"
            ]
          },
          "metadata": {}
        },
        {
          "output_type": "display_data",
          "data": {
            "text/plain": [
              "\u001b[1m Non-trainable params: \u001b[0m\u001b[38;5;34m0\u001b[0m (0.00 B)\n"
            ],
            "text/html": [
              "<pre style=\"white-space:pre;overflow-x:auto;line-height:normal;font-family:Menlo,'DejaVu Sans Mono',consolas,'Courier New',monospace\"><span style=\"font-weight: bold\"> Non-trainable params: </span><span style=\"color: #00af00; text-decoration-color: #00af00\">0</span> (0.00 B)\n",
              "</pre>\n"
            ]
          },
          "metadata": {}
        }
      ]
    },
    {
      "cell_type": "code",
      "source": [
        "# 조기종료 콜백함수 정의(EarlyStopping)\n",
        "es = EarlyStopping(monitor='val_loss', patience=5, verbose=1)"
      ],
      "metadata": {
        "id": "tUGyVd4YIsrL"
      },
      "execution_count": 162,
      "outputs": []
    },
    {
      "cell_type": "code",
      "source": [
        "x_train_pad"
      ],
      "metadata": {
        "colab": {
          "base_uri": "https://localhost:8080/"
        },
        "id": "S39EqAT8JqRS",
        "outputId": "3a13ac7d-d23d-4fe1-e54e-9398246efb4f"
      },
      "execution_count": 163,
      "outputs": [
        {
          "output_type": "execute_result",
          "data": {
            "text/plain": [
              "array([[   0,    0,    0, ..., 1671,  471, 1672],\n",
              "       [   0,    0,    0, ..., 1675, 1676, 1677],\n",
              "       [   0,    0,    0, ...,   72,  103, 1680],\n",
              "       ...,\n",
              "       [   0,    0,    0, ...,    0, 7724, 7725],\n",
              "       [   0,    0,    0, ..., 7729,  183, 7730],\n",
              "       [   0,    0,    0, ..., 7734,  111, 1659]], dtype=int32)"
            ]
          },
          "metadata": {},
          "execution_count": 163
        }
      ]
    },
    {
      "cell_type": "code",
      "source": [
        "# 모델 학습(fit)\n",
        "history = model.fit(x_train_pad, y_train, epochs=50, batch_size=512,validation_split=0.2, verbose =1, callbacks=[es])"
      ],
      "metadata": {
        "colab": {
          "base_uri": "https://localhost:8080/"
        },
        "id": "KoMQRzSWI1Wz",
        "outputId": "fd72cdbe-fd8c-4130-cd88-60b2bb488fc9"
      },
      "execution_count": 164,
      "outputs": [
        {
          "output_type": "stream",
          "name": "stdout",
          "text": [
            "Epoch 1/50\n",
            "\u001b[1m3/3\u001b[0m \u001b[32m━━━━━━━━━━━━━━━━━━━━\u001b[0m\u001b[37m\u001b[0m \u001b[1m7s\u001b[0m 736ms/step - accuracy: 0.1592 - loss: 2.3610 - val_accuracy: 0.1958 - val_loss: 2.1676\n",
            "Epoch 2/50\n",
            "\u001b[1m3/3\u001b[0m \u001b[32m━━━━━━━━━━━━━━━━━━━━\u001b[0m\u001b[37m\u001b[0m \u001b[1m1s\u001b[0m 275ms/step - accuracy: 0.2298 - loss: 2.0957 - val_accuracy: 0.1958 - val_loss: 2.0527\n",
            "Epoch 3/50\n",
            "\u001b[1m3/3\u001b[0m \u001b[32m━━━━━━━━━━━━━━━━━━━━\u001b[0m\u001b[37m\u001b[0m \u001b[1m1s\u001b[0m 290ms/step - accuracy: 0.2371 - loss: 1.9967 - val_accuracy: 0.2116 - val_loss: 2.0177\n",
            "Epoch 4/50\n",
            "\u001b[1m3/3\u001b[0m \u001b[32m━━━━━━━━━━━━━━━━━━━━\u001b[0m\u001b[37m\u001b[0m \u001b[1m1s\u001b[0m 337ms/step - accuracy: 0.2295 - loss: 1.9835 - val_accuracy: 0.1958 - val_loss: 2.0295\n",
            "Epoch 5/50\n",
            "\u001b[1m3/3\u001b[0m \u001b[32m━━━━━━━━━━━━━━━━━━━━\u001b[0m\u001b[37m\u001b[0m \u001b[1m0s\u001b[0m 165ms/step - accuracy: 0.2503 - loss: 1.9483 - val_accuracy: 0.2354 - val_loss: 2.0097\n",
            "Epoch 6/50\n",
            "\u001b[1m3/3\u001b[0m \u001b[32m━━━━━━━━━━━━━━━━━━━━\u001b[0m\u001b[37m\u001b[0m \u001b[1m0s\u001b[0m 162ms/step - accuracy: 0.2320 - loss: 1.9385 - val_accuracy: 0.1958 - val_loss: 1.9637\n",
            "Epoch 7/50\n",
            "\u001b[1m3/3\u001b[0m \u001b[32m━━━━━━━━━━━━━━━━━━━━\u001b[0m\u001b[37m\u001b[0m \u001b[1m0s\u001b[0m 169ms/step - accuracy: 0.2413 - loss: 1.9328 - val_accuracy: 0.2143 - val_loss: 1.9684\n",
            "Epoch 8/50\n",
            "\u001b[1m3/3\u001b[0m \u001b[32m━━━━━━━━━━━━━━━━━━━━\u001b[0m\u001b[37m\u001b[0m \u001b[1m0s\u001b[0m 162ms/step - accuracy: 0.2319 - loss: 1.9352 - val_accuracy: 0.1958 - val_loss: 1.9735\n",
            "Epoch 9/50\n",
            "\u001b[1m3/3\u001b[0m \u001b[32m━━━━━━━━━━━━━━━━━━━━\u001b[0m\u001b[37m\u001b[0m \u001b[1m0s\u001b[0m 168ms/step - accuracy: 0.2431 - loss: 1.9318 - val_accuracy: 0.2063 - val_loss: 1.9617\n",
            "Epoch 10/50\n",
            "\u001b[1m3/3\u001b[0m \u001b[32m━━━━━━━━━━━━━━━━━━━━\u001b[0m\u001b[37m\u001b[0m \u001b[1m1s\u001b[0m 244ms/step - accuracy: 0.2509 - loss: 1.9175 - val_accuracy: 0.2169 - val_loss: 1.9612\n",
            "Epoch 11/50\n",
            "\u001b[1m3/3\u001b[0m \u001b[32m━━━━━━━━━━━━━━━━━━━━\u001b[0m\u001b[37m\u001b[0m \u001b[1m1s\u001b[0m 292ms/step - accuracy: 0.2487 - loss: 1.9178 - val_accuracy: 0.2249 - val_loss: 1.9701\n",
            "Epoch 12/50\n",
            "\u001b[1m3/3\u001b[0m \u001b[32m━━━━━━━━━━━━━━━━━━━━\u001b[0m\u001b[37m\u001b[0m \u001b[1m1s\u001b[0m 194ms/step - accuracy: 0.2627 - loss: 1.9223 - val_accuracy: 0.1958 - val_loss: 1.9604\n",
            "Epoch 13/50\n",
            "\u001b[1m3/3\u001b[0m \u001b[32m━━━━━━━━━━━━━━━━━━━━\u001b[0m\u001b[37m\u001b[0m \u001b[1m0s\u001b[0m 161ms/step - accuracy: 0.2503 - loss: 1.9179 - val_accuracy: 0.2275 - val_loss: 1.9589\n",
            "Epoch 14/50\n",
            "\u001b[1m3/3\u001b[0m \u001b[32m━━━━━━━━━━━━━━━━━━━━\u001b[0m\u001b[37m\u001b[0m \u001b[1m0s\u001b[0m 160ms/step - accuracy: 0.2741 - loss: 1.8928 - val_accuracy: 0.2037 - val_loss: 1.9604\n",
            "Epoch 15/50\n",
            "\u001b[1m3/3\u001b[0m \u001b[32m━━━━━━━━━━━━━━━━━━━━\u001b[0m\u001b[37m\u001b[0m \u001b[1m1s\u001b[0m 170ms/step - accuracy: 0.2542 - loss: 1.9047 - val_accuracy: 0.1958 - val_loss: 1.9556\n",
            "Epoch 16/50\n",
            "\u001b[1m3/3\u001b[0m \u001b[32m━━━━━━━━━━━━━━━━━━━━\u001b[0m\u001b[37m\u001b[0m \u001b[1m0s\u001b[0m 158ms/step - accuracy: 0.2558 - loss: 1.9013 - val_accuracy: 0.2354 - val_loss: 1.9530\n",
            "Epoch 17/50\n",
            "\u001b[1m3/3\u001b[0m \u001b[32m━━━━━━━━━━━━━━━━━━━━\u001b[0m\u001b[37m\u001b[0m \u001b[1m1s\u001b[0m 170ms/step - accuracy: 0.2641 - loss: 1.9045 - val_accuracy: 0.1958 - val_loss: 1.9528\n",
            "Epoch 18/50\n",
            "\u001b[1m3/3\u001b[0m \u001b[32m━━━━━━━━━━━━━━━━━━━━\u001b[0m\u001b[37m\u001b[0m \u001b[1m0s\u001b[0m 162ms/step - accuracy: 0.2567 - loss: 1.9044 - val_accuracy: 0.2302 - val_loss: 1.9478\n",
            "Epoch 19/50\n",
            "\u001b[1m3/3\u001b[0m \u001b[32m━━━━━━━━━━━━━━━━━━━━\u001b[0m\u001b[37m\u001b[0m \u001b[1m1s\u001b[0m 170ms/step - accuracy: 0.2902 - loss: 1.8790 - val_accuracy: 0.2090 - val_loss: 1.9435\n",
            "Epoch 20/50\n",
            "\u001b[1m3/3\u001b[0m \u001b[32m━━━━━━━━━━━━━━━━━━━━\u001b[0m\u001b[37m\u001b[0m \u001b[1m0s\u001b[0m 162ms/step - accuracy: 0.2935 - loss: 1.8776 - val_accuracy: 0.2328 - val_loss: 1.9362\n",
            "Epoch 21/50\n",
            "\u001b[1m3/3\u001b[0m \u001b[32m━━━━━━━━━━━━━━━━━━━━\u001b[0m\u001b[37m\u001b[0m \u001b[1m0s\u001b[0m 171ms/step - accuracy: 0.3076 - loss: 1.8671 - val_accuracy: 0.2063 - val_loss: 1.9516\n",
            "Epoch 22/50\n",
            "\u001b[1m3/3\u001b[0m \u001b[32m━━━━━━━━━━━━━━━━━━━━\u001b[0m\u001b[37m\u001b[0m \u001b[1m1s\u001b[0m 158ms/step - accuracy: 0.2743 - loss: 1.8389 - val_accuracy: 0.2116 - val_loss: 1.9277\n",
            "Epoch 23/50\n",
            "\u001b[1m3/3\u001b[0m \u001b[32m━━━━━━━━━━━━━━━━━━━━\u001b[0m\u001b[37m\u001b[0m \u001b[1m0s\u001b[0m 172ms/step - accuracy: 0.3271 - loss: 1.8266 - val_accuracy: 0.2063 - val_loss: 1.9304\n",
            "Epoch 24/50\n",
            "\u001b[1m3/3\u001b[0m \u001b[32m━━━━━━━━━━━━━━━━━━━━\u001b[0m\u001b[37m\u001b[0m \u001b[1m0s\u001b[0m 161ms/step - accuracy: 0.3516 - loss: 1.7910 - val_accuracy: 0.2090 - val_loss: 1.9447\n",
            "Epoch 25/50\n",
            "\u001b[1m3/3\u001b[0m \u001b[32m━━━━━━━━━━━━━━━━━━━━\u001b[0m\u001b[37m\u001b[0m \u001b[1m0s\u001b[0m 165ms/step - accuracy: 0.4004 - loss: 1.7275 - val_accuracy: 0.2196 - val_loss: 1.9574\n",
            "Epoch 26/50\n",
            "\u001b[1m3/3\u001b[0m \u001b[32m━━━━━━━━━━━━━━━━━━━━\u001b[0m\u001b[37m\u001b[0m \u001b[1m1s\u001b[0m 192ms/step - accuracy: 0.4239 - loss: 1.6725 - val_accuracy: 0.2487 - val_loss: 1.9322\n",
            "Epoch 27/50\n",
            "\u001b[1m3/3\u001b[0m \u001b[32m━━━━━━━━━━━━━━━━━━━━\u001b[0m\u001b[37m\u001b[0m \u001b[1m1s\u001b[0m 192ms/step - accuracy: 0.4310 - loss: 1.6254 - val_accuracy: 0.2196 - val_loss: 1.9319\n",
            "Epoch 27: early stopping\n"
          ]
        }
      ]
    },
    {
      "cell_type": "code",
      "source": [
        "loss, acc = model.evaluate(x_test_pad, y_test)\n",
        "print(f\"✅ Test Accuracy: {acc:.2%}\")"
      ],
      "metadata": {
        "colab": {
          "base_uri": "https://localhost:8080/"
        },
        "id": "JY10RyE_0FVB",
        "outputId": "9fcee0f3-711c-4ebf-e4bf-3aadc04354cf"
      },
      "execution_count": 165,
      "outputs": [
        {
          "output_type": "stream",
          "name": "stdout",
          "text": [
            "\u001b[1m15/15\u001b[0m \u001b[32m━━━━━━━━━━━━━━━━━━━━\u001b[0m\u001b[37m\u001b[0m \u001b[1m0s\u001b[0m 14ms/step - accuracy: 0.2345 - loss: 1.9368\n",
            "✅ Test Accuracy: 22.88%\n"
          ]
        }
      ]
    },
    {
      "cell_type": "code",
      "source": [
        "#25년 4월 28일 새롭게 추가된 이동진 평론가 평 LSTM 분류 모델 활용 별점 예측\n",
        "new_reviews = [\n",
        "  \"빛이 있으라, 그러자 영화는 꿈꾸기 시작했다.\",\n",
        "  \"끝을 치러내면서 다시 시작하는 거울의 마술.\",\n",
        "  \"오르락내리락 흥얼흥얼 평화로운 리듬에 느긋하게 젖는다.\",\n",
        "  \"착상으로는 무척이나 신선한 실험, 감흥으로는 자꾸 밀어내는 구현.\"\n",
        "]\n",
        "\n",
        "new_reviews_seq = tokenizer.texts_to_sequences(new_reviews)\n",
        "\n",
        "# 3. 시퀀스 길이를 기존 학습 데이터 max_len에 맞게 padding\n",
        "new_reviews_pad = pad_sequences(new_reviews_seq, maxlen=max_len, padding='post')\n",
        "\n",
        "# 4. 모델을 사용해서 예측\n",
        "predictions = model.predict(new_reviews_pad)\n",
        "\n",
        "# 5. softmax 출력에서 가장 높은 확률을 가진 클래스를 예측 결과로 선택\n",
        "predicted_classes = predictions.argmax(axis=1)\n",
        "\n",
        "print(\"예측된 별점 클래스 (0~10):\", predicted_classes)\n",
        "print(\"실제 예측 별점 (0.0~5.0점):\", predicted_classes / 2)"
      ],
      "metadata": {
        "id": "arz6Lzk4Jixk",
        "colab": {
          "base_uri": "https://localhost:8080/"
        },
        "outputId": "4c2cea8a-5579-47be-8063-0f7e22cb7599"
      },
      "execution_count": 166,
      "outputs": [
        {
          "output_type": "stream",
          "name": "stdout",
          "text": [
            "\u001b[1m1/1\u001b[0m \u001b[32m━━━━━━━━━━━━━━━━━━━━\u001b[0m\u001b[37m\u001b[0m \u001b[1m0s\u001b[0m 377ms/step\n",
            "예측된 별점 클래스 (0~10): [6 6 6 6]\n",
            "실제 예측 별점 (0.0~5.0점): [3. 3. 3. 3.]\n"
          ]
        }
      ]
    },
    {
      "cell_type": "code",
      "source": [
        "new_reviews_pad[3]"
      ],
      "metadata": {
        "colab": {
          "base_uri": "https://localhost:8080/"
        },
        "id": "Ky6KalWg0P8e",
        "outputId": "44bd9bba-b679-4bfc-e5c6-75b9a1d83e86"
      },
      "execution_count": 141,
      "outputs": [
        {
          "output_type": "execute_result",
          "data": {
            "text/plain": [
              "array([ 115, 4736,  520,    0,    0,    0,    0,    0,    0,    0,    0,\n",
              "          0,    0,    0,    0,    0,    0,    0,    0,    0,    0,    0,\n",
              "          0,    0,    0,    0,    0,    0,    0,    0,    0,    0,    0,\n",
              "          0,    0,    0,    0,    0,    0,    0,    0,    0,    0,    0,\n",
              "          0,    0,    0,    0,    0,    0,    0,    0,    0,    0,    0,\n",
              "          0,    0,    0,    0,    0,    0,    0], dtype=int32)"
            ]
          },
          "metadata": {},
          "execution_count": 141
        }
      ]
    },
    {
      "cell_type": "code",
      "source": [
        "from tensorflow.keras.models import Sequential\n",
        "from tensorflow.keras.layers import Embedding, LSTM, Flatten, Dense\n",
        "\n",
        "# LSTM 기반 회귀 모델\n",
        "model = Sequential()\n",
        "model.add(Embedding(max_words, embedding_dim, input_length=max_len))\n",
        "model.add(LSTM(16, return_sequences=True))\n",
        "model.add(LSTM(16, return_sequences=True))\n",
        "model.add(Flatten())\n",
        "model.add(Dense(128, activation='swish'))\n",
        "model.add(Dense(32, activation='swish'))\n",
        "model.add(Dense(1))\n",
        "\n",
        "# 모델 compile (회귀용)\n",
        "model.compile(optimizer='adam',\n",
        "              loss='mse',\n",
        "              metrics=['mae'])\n",
        "\n",
        "model.summary()\n",
        "\n",
        "model.fit(x_train_pad, y_train, epochs=50, batch_size=128, validation_split=0.2, callbacks=[es])"
      ],
      "metadata": {
        "colab": {
          "base_uri": "https://localhost:8080/",
          "height": 1000
        },
        "id": "HVob4TxgM2i_",
        "outputId": "e101d45a-644d-4454-81e3-6e1fd249e01d"
      },
      "execution_count": 153,
      "outputs": [
        {
          "output_type": "stream",
          "name": "stderr",
          "text": [
            "/usr/local/lib/python3.11/dist-packages/keras/src/layers/core/embedding.py:90: UserWarning: Argument `input_length` is deprecated. Just remove it.\n",
            "  warnings.warn(\n"
          ]
        },
        {
          "output_type": "display_data",
          "data": {
            "text/plain": [
              "\u001b[1mModel: \"sequential_7\"\u001b[0m\n"
            ],
            "text/html": [
              "<pre style=\"white-space:pre;overflow-x:auto;line-height:normal;font-family:Menlo,'DejaVu Sans Mono',consolas,'Courier New',monospace\"><span style=\"font-weight: bold\">Model: \"sequential_7\"</span>\n",
              "</pre>\n"
            ]
          },
          "metadata": {}
        },
        {
          "output_type": "display_data",
          "data": {
            "text/plain": [
              "┏━━━━━━━━━━━━━━━━━━━━━━━━━━━━━━━━━┳━━━━━━━━━━━━━━━━━━━━━━━━┳━━━━━━━━━━━━━━━┓\n",
              "┃\u001b[1m \u001b[0m\u001b[1mLayer (type)                   \u001b[0m\u001b[1m \u001b[0m┃\u001b[1m \u001b[0m\u001b[1mOutput Shape          \u001b[0m\u001b[1m \u001b[0m┃\u001b[1m \u001b[0m\u001b[1m      Param #\u001b[0m\u001b[1m \u001b[0m┃\n",
              "┡━━━━━━━━━━━━━━━━━━━━━━━━━━━━━━━━━╇━━━━━━━━━━━━━━━━━━━━━━━━╇━━━━━━━━━━━━━━━┩\n",
              "│ embedding_7 (\u001b[38;5;33mEmbedding\u001b[0m)         │ ?                      │   \u001b[38;5;34m0\u001b[0m (unbuilt) │\n",
              "├─────────────────────────────────┼────────────────────────┼───────────────┤\n",
              "│ lstm_14 (\u001b[38;5;33mLSTM\u001b[0m)                  │ ?                      │   \u001b[38;5;34m0\u001b[0m (unbuilt) │\n",
              "├─────────────────────────────────┼────────────────────────┼───────────────┤\n",
              "│ lstm_15 (\u001b[38;5;33mLSTM\u001b[0m)                  │ ?                      │   \u001b[38;5;34m0\u001b[0m (unbuilt) │\n",
              "├─────────────────────────────────┼────────────────────────┼───────────────┤\n",
              "│ flatten_7 (\u001b[38;5;33mFlatten\u001b[0m)             │ ?                      │   \u001b[38;5;34m0\u001b[0m (unbuilt) │\n",
              "├─────────────────────────────────┼────────────────────────┼───────────────┤\n",
              "│ dense_21 (\u001b[38;5;33mDense\u001b[0m)                │ ?                      │   \u001b[38;5;34m0\u001b[0m (unbuilt) │\n",
              "├─────────────────────────────────┼────────────────────────┼───────────────┤\n",
              "│ dense_22 (\u001b[38;5;33mDense\u001b[0m)                │ ?                      │   \u001b[38;5;34m0\u001b[0m (unbuilt) │\n",
              "├─────────────────────────────────┼────────────────────────┼───────────────┤\n",
              "│ dense_23 (\u001b[38;5;33mDense\u001b[0m)                │ ?                      │   \u001b[38;5;34m0\u001b[0m (unbuilt) │\n",
              "└─────────────────────────────────┴────────────────────────┴───────────────┘\n"
            ],
            "text/html": [
              "<pre style=\"white-space:pre;overflow-x:auto;line-height:normal;font-family:Menlo,'DejaVu Sans Mono',consolas,'Courier New',monospace\">┏━━━━━━━━━━━━━━━━━━━━━━━━━━━━━━━━━┳━━━━━━━━━━━━━━━━━━━━━━━━┳━━━━━━━━━━━━━━━┓\n",
              "┃<span style=\"font-weight: bold\"> Layer (type)                    </span>┃<span style=\"font-weight: bold\"> Output Shape           </span>┃<span style=\"font-weight: bold\">       Param # </span>┃\n",
              "┡━━━━━━━━━━━━━━━━━━━━━━━━━━━━━━━━━╇━━━━━━━━━━━━━━━━━━━━━━━━╇━━━━━━━━━━━━━━━┩\n",
              "│ embedding_7 (<span style=\"color: #0087ff; text-decoration-color: #0087ff\">Embedding</span>)         │ ?                      │   <span style=\"color: #00af00; text-decoration-color: #00af00\">0</span> (unbuilt) │\n",
              "├─────────────────────────────────┼────────────────────────┼───────────────┤\n",
              "│ lstm_14 (<span style=\"color: #0087ff; text-decoration-color: #0087ff\">LSTM</span>)                  │ ?                      │   <span style=\"color: #00af00; text-decoration-color: #00af00\">0</span> (unbuilt) │\n",
              "├─────────────────────────────────┼────────────────────────┼───────────────┤\n",
              "│ lstm_15 (<span style=\"color: #0087ff; text-decoration-color: #0087ff\">LSTM</span>)                  │ ?                      │   <span style=\"color: #00af00; text-decoration-color: #00af00\">0</span> (unbuilt) │\n",
              "├─────────────────────────────────┼────────────────────────┼───────────────┤\n",
              "│ flatten_7 (<span style=\"color: #0087ff; text-decoration-color: #0087ff\">Flatten</span>)             │ ?                      │   <span style=\"color: #00af00; text-decoration-color: #00af00\">0</span> (unbuilt) │\n",
              "├─────────────────────────────────┼────────────────────────┼───────────────┤\n",
              "│ dense_21 (<span style=\"color: #0087ff; text-decoration-color: #0087ff\">Dense</span>)                │ ?                      │   <span style=\"color: #00af00; text-decoration-color: #00af00\">0</span> (unbuilt) │\n",
              "├─────────────────────────────────┼────────────────────────┼───────────────┤\n",
              "│ dense_22 (<span style=\"color: #0087ff; text-decoration-color: #0087ff\">Dense</span>)                │ ?                      │   <span style=\"color: #00af00; text-decoration-color: #00af00\">0</span> (unbuilt) │\n",
              "├─────────────────────────────────┼────────────────────────┼───────────────┤\n",
              "│ dense_23 (<span style=\"color: #0087ff; text-decoration-color: #0087ff\">Dense</span>)                │ ?                      │   <span style=\"color: #00af00; text-decoration-color: #00af00\">0</span> (unbuilt) │\n",
              "└─────────────────────────────────┴────────────────────────┴───────────────┘\n",
              "</pre>\n"
            ]
          },
          "metadata": {}
        },
        {
          "output_type": "display_data",
          "data": {
            "text/plain": [
              "\u001b[1m Total params: \u001b[0m\u001b[38;5;34m0\u001b[0m (0.00 B)\n"
            ],
            "text/html": [
              "<pre style=\"white-space:pre;overflow-x:auto;line-height:normal;font-family:Menlo,'DejaVu Sans Mono',consolas,'Courier New',monospace\"><span style=\"font-weight: bold\"> Total params: </span><span style=\"color: #00af00; text-decoration-color: #00af00\">0</span> (0.00 B)\n",
              "</pre>\n"
            ]
          },
          "metadata": {}
        },
        {
          "output_type": "display_data",
          "data": {
            "text/plain": [
              "\u001b[1m Trainable params: \u001b[0m\u001b[38;5;34m0\u001b[0m (0.00 B)\n"
            ],
            "text/html": [
              "<pre style=\"white-space:pre;overflow-x:auto;line-height:normal;font-family:Menlo,'DejaVu Sans Mono',consolas,'Courier New',monospace\"><span style=\"font-weight: bold\"> Trainable params: </span><span style=\"color: #00af00; text-decoration-color: #00af00\">0</span> (0.00 B)\n",
              "</pre>\n"
            ]
          },
          "metadata": {}
        },
        {
          "output_type": "display_data",
          "data": {
            "text/plain": [
              "\u001b[1m Non-trainable params: \u001b[0m\u001b[38;5;34m0\u001b[0m (0.00 B)\n"
            ],
            "text/html": [
              "<pre style=\"white-space:pre;overflow-x:auto;line-height:normal;font-family:Menlo,'DejaVu Sans Mono',consolas,'Courier New',monospace\"><span style=\"font-weight: bold\"> Non-trainable params: </span><span style=\"color: #00af00; text-decoration-color: #00af00\">0</span> (0.00 B)\n",
              "</pre>\n"
            ]
          },
          "metadata": {}
        },
        {
          "output_type": "stream",
          "name": "stdout",
          "text": [
            "Epoch 1/50\n",
            "\u001b[1m12/12\u001b[0m \u001b[32m━━━━━━━━━━━━━━━━━━━━\u001b[0m\u001b[37m\u001b[0m \u001b[1m12s\u001b[0m 130ms/step - loss: 23.0802 - mae: 4.1330 - val_loss: 5.1664 - val_mae: 1.7689\n",
            "Epoch 2/50\n",
            "\u001b[1m12/12\u001b[0m \u001b[32m━━━━━━━━━━━━━━━━━━━━\u001b[0m\u001b[37m\u001b[0m \u001b[1m1s\u001b[0m 68ms/step - loss: 4.1073 - mae: 1.6108 - val_loss: 3.1986 - val_mae: 1.4688\n",
            "Epoch 3/50\n",
            "\u001b[1m12/12\u001b[0m \u001b[32m━━━━━━━━━━━━━━━━━━━━\u001b[0m\u001b[37m\u001b[0m \u001b[1m1s\u001b[0m 77ms/step - loss: 2.9532 - mae: 1.3809 - val_loss: 3.2541 - val_mae: 1.4851\n",
            "Epoch 4/50\n",
            "\u001b[1m12/12\u001b[0m \u001b[32m━━━━━━━━━━━━━━━━━━━━\u001b[0m\u001b[37m\u001b[0m \u001b[1m1s\u001b[0m 70ms/step - loss: 2.9152 - mae: 1.3826 - val_loss: 3.1558 - val_mae: 1.4392\n",
            "Epoch 5/50\n",
            "\u001b[1m12/12\u001b[0m \u001b[32m━━━━━━━━━━━━━━━━━━━━\u001b[0m\u001b[37m\u001b[0m \u001b[1m1s\u001b[0m 68ms/step - loss: 2.8678 - mae: 1.3677 - val_loss: 3.1969 - val_mae: 1.4151\n",
            "Epoch 6/50\n",
            "\u001b[1m12/12\u001b[0m \u001b[32m━━━━━━━━━━━━━━━━━━━━\u001b[0m\u001b[37m\u001b[0m \u001b[1m2s\u001b[0m 93ms/step - loss: 2.7510 - mae: 1.3281 - val_loss: 3.1233 - val_mae: 1.4253\n",
            "Epoch 7/50\n",
            "\u001b[1m12/12\u001b[0m \u001b[32m━━━━━━━━━━━━━━━━━━━━\u001b[0m\u001b[37m\u001b[0m \u001b[1m1s\u001b[0m 114ms/step - loss: 2.6245 - mae: 1.2943 - val_loss: 3.1096 - val_mae: 1.4127\n",
            "Epoch 8/50\n",
            "\u001b[1m12/12\u001b[0m \u001b[32m━━━━━━━━━━━━━━━━━━━━\u001b[0m\u001b[37m\u001b[0m \u001b[1m2s\u001b[0m 169ms/step - loss: 2.8209 - mae: 1.3275 - val_loss: 3.0747 - val_mae: 1.4048\n",
            "Epoch 9/50\n",
            "\u001b[1m12/12\u001b[0m \u001b[32m━━━━━━━━━━━━━━━━━━━━\u001b[0m\u001b[37m\u001b[0m \u001b[1m2s\u001b[0m 121ms/step - loss: 2.8515 - mae: 1.3449 - val_loss: 3.0154 - val_mae: 1.4097\n",
            "Epoch 10/50\n",
            "\u001b[1m12/12\u001b[0m \u001b[32m━━━━━━━━━━━━━━━━━━━━\u001b[0m\u001b[37m\u001b[0m \u001b[1m1s\u001b[0m 116ms/step - loss: 2.6456 - mae: 1.2938 - val_loss: 2.9678 - val_mae: 1.3828\n",
            "Epoch 11/50\n",
            "\u001b[1m12/12\u001b[0m \u001b[32m━━━━━━━━━━━━━━━━━━━━\u001b[0m\u001b[37m\u001b[0m \u001b[1m3s\u001b[0m 140ms/step - loss: 2.5662 - mae: 1.2661 - val_loss: 2.9301 - val_mae: 1.3549\n",
            "Epoch 12/50\n",
            "\u001b[1m12/12\u001b[0m \u001b[32m━━━━━━━━━━━━━━━━━━━━\u001b[0m\u001b[37m\u001b[0m \u001b[1m1s\u001b[0m 114ms/step - loss: 2.5052 - mae: 1.2329 - val_loss: 2.9351 - val_mae: 1.3429\n",
            "Epoch 13/50\n",
            "\u001b[1m12/12\u001b[0m \u001b[32m━━━━━━━━━━━━━━━━━━━━\u001b[0m\u001b[37m\u001b[0m \u001b[1m2s\u001b[0m 107ms/step - loss: 2.3647 - mae: 1.1984 - val_loss: 2.9388 - val_mae: 1.3760\n",
            "Epoch 14/50\n",
            "\u001b[1m12/12\u001b[0m \u001b[32m━━━━━━━━━━━━━━━━━━━━\u001b[0m\u001b[37m\u001b[0m \u001b[1m2s\u001b[0m 84ms/step - loss: 2.0131 - mae: 1.0821 - val_loss: 2.8678 - val_mae: 1.3200\n",
            "Epoch 15/50\n",
            "\u001b[1m12/12\u001b[0m \u001b[32m━━━━━━━━━━━━━━━━━━━━\u001b[0m\u001b[37m\u001b[0m \u001b[1m1s\u001b[0m 77ms/step - loss: 1.7604 - mae: 0.9700 - val_loss: 2.8337 - val_mae: 1.3093\n",
            "Epoch 16/50\n",
            "\u001b[1m12/12\u001b[0m \u001b[32m━━━━━━━━━━━━━━━━━━━━\u001b[0m\u001b[37m\u001b[0m \u001b[1m1s\u001b[0m 75ms/step - loss: 1.1832 - mae: 0.7724 - val_loss: 2.8029 - val_mae: 1.3095\n",
            "Epoch 17/50\n",
            "\u001b[1m12/12\u001b[0m \u001b[32m━━━━━━━━━━━━━━━━━━━━\u001b[0m\u001b[37m\u001b[0m \u001b[1m1s\u001b[0m 69ms/step - loss: 0.8705 - mae: 0.6567 - val_loss: 2.8524 - val_mae: 1.3105\n",
            "Epoch 18/50\n",
            "\u001b[1m12/12\u001b[0m \u001b[32m━━━━━━━━━━━━━━━━━━━━\u001b[0m\u001b[37m\u001b[0m \u001b[1m1s\u001b[0m 75ms/step - loss: 0.7704 - mae: 0.6135 - val_loss: 2.8682 - val_mae: 1.3183\n",
            "Epoch 19/50\n",
            "\u001b[1m12/12\u001b[0m \u001b[32m━━━━━━━━━━━━━━━━━━━━\u001b[0m\u001b[37m\u001b[0m \u001b[1m1s\u001b[0m 75ms/step - loss: 0.6372 - mae: 0.5409 - val_loss: 2.9071 - val_mae: 1.3051\n",
            "Epoch 20/50\n",
            "\u001b[1m12/12\u001b[0m \u001b[32m━━━━━━━━━━━━━━━━━━━━\u001b[0m\u001b[37m\u001b[0m \u001b[1m1s\u001b[0m 78ms/step - loss: 0.5007 - mae: 0.4699 - val_loss: 2.8796 - val_mae: 1.3135\n",
            "Epoch 21/50\n",
            "\u001b[1m12/12\u001b[0m \u001b[32m━━━━━━━━━━━━━━━━━━━━\u001b[0m\u001b[37m\u001b[0m \u001b[1m1s\u001b[0m 74ms/step - loss: 0.5019 - mae: 0.4281 - val_loss: 2.9535 - val_mae: 1.3552\n",
            "Epoch 21: early stopping\n"
          ]
        },
        {
          "output_type": "execute_result",
          "data": {
            "text/plain": [
              "<keras.src.callbacks.history.History at 0x7d356c4f1610>"
            ]
          },
          "metadata": {},
          "execution_count": 153
        }
      ]
    },
    {
      "cell_type": "code",
      "source": [
        "#25년 4월 28일 새롭게 추가된 이동진 평론가 평 LSTM 회귀모델 활용 별점 예측\n",
        "new_reviews = [\n",
        "  \"빛이 있으라, 그러자 영화는 꿈꾸기 시작했다.\",\n",
        "  \"끝을 치러내면서 다시 시작하는 거울의 마술.\",\n",
        "  \"오르락내리락 흥얼흥얼 평화로운 리듬에 느긋하게 젖는다.\",\n",
        "  \"착상으로는 무척이나 신선한 실험, 감흥으로는 자꾸 밀어내는 구현.\"\n",
        "]\n",
        "new_reviews_seq = tokenizer.texts_to_sequences(new_reviews)\n",
        "\n",
        "# 3. 시퀀스 길이를 기존 학습 데이터 max_len에 맞게 padding\n",
        "new_reviews_pad = pad_sequences(new_reviews_seq, maxlen=max_len, padding='post')\n",
        "\n",
        "# 4. 모델을 사용해서 예측\n",
        "predictions = model.predict(new_reviews_pad)\n",
        "print(predictions/2)"
      ],
      "metadata": {
        "colab": {
          "base_uri": "https://localhost:8080/"
        },
        "id": "7h7aUw1lNuFt",
        "outputId": "19ae7988-cfea-4055-84c5-f1a895c9a3e0"
      },
      "execution_count": 158,
      "outputs": [
        {
          "output_type": "stream",
          "name": "stdout",
          "text": [
            "\u001b[1m1/1\u001b[0m \u001b[32m━━━━━━━━━━━━━━━━━━━━\u001b[0m\u001b[37m\u001b[0m \u001b[1m0s\u001b[0m 156ms/step\n",
            "[[2.7474627]\n",
            " [2.6344366]\n",
            " [2.7883444]\n",
            " [2.6996543]]\n"
          ]
        }
      ]
    },
    {
      "cell_type": "code",
      "source": [
        "new_reviews_pad"
      ],
      "metadata": {
        "colab": {
          "base_uri": "https://localhost:8080/"
        },
        "id": "Xr6u1PD7ODFm",
        "outputId": "f1fb32ee-c2cd-457a-ede2-4ae0808aad0f"
      },
      "execution_count": 157,
      "outputs": [
        {
          "output_type": "execute_result",
          "data": {
            "text/plain": [
              "array([[ 133,    0,    0,    0,    0,    0,    0,    0,    0,    0,    0,\n",
              "           0,    0,    0,    0,    0,    0,    0,    0,    0,    0,    0,\n",
              "           0,    0,    0,    0,    0,    0,    0,    0,    0,    0,    0,\n",
              "           0,    0,    0,    0,    0,    0,    0,    0,    0,    0,    0,\n",
              "           0,    0,    0,    0,    0,    0,    0,    0,    0,    0,    0,\n",
              "           0,    0,    0,    0,    0,    0,    0],\n",
              "       [2629,   51, 1199,  417,    0,    0,    0,    0,    0,    0,    0,\n",
              "           0,    0,    0,    0,    0,    0,    0,    0,    0,    0,    0,\n",
              "           0,    0,    0,    0,    0,    0,    0,    0,    0,    0,    0,\n",
              "           0,    0,    0,    0,    0,    0,    0,    0,    0,    0,    0,\n",
              "           0,    0,    0,    0,    0,    0,    0,    0,    0,    0,    0,\n",
              "           0,    0,    0,    0,    0,    0,    0],\n",
              "       [   0,    0,    0,    0,    0,    0,    0,    0,    0,    0,    0,\n",
              "           0,    0,    0,    0,    0,    0,    0,    0,    0,    0,    0,\n",
              "           0,    0,    0,    0,    0,    0,    0,    0,    0,    0,    0,\n",
              "           0,    0,    0,    0,    0,    0,    0,    0,    0,    0,    0,\n",
              "           0,    0,    0,    0,    0,    0,    0,    0,    0,    0,    0,\n",
              "           0,    0,    0,    0,    0,    0,    0],\n",
              "       [ 115, 4736,  520,    0,    0,    0,    0,    0,    0,    0,    0,\n",
              "           0,    0,    0,    0,    0,    0,    0,    0,    0,    0,    0,\n",
              "           0,    0,    0,    0,    0,    0,    0,    0,    0,    0,    0,\n",
              "           0,    0,    0,    0,    0,    0,    0,    0,    0,    0,    0,\n",
              "           0,    0,    0,    0,    0,    0,    0,    0,    0,    0,    0,\n",
              "           0,    0,    0,    0,    0,    0,    0]], dtype=int32)"
            ]
          },
          "metadata": {},
          "execution_count": 157
        }
      ]
    },
    {
      "cell_type": "code",
      "source": [],
      "metadata": {
        "id": "NIC89UJwUe4e"
      },
      "execution_count": null,
      "outputs": []
    }
  ],
  "metadata": {
    "colab": {
      "provenance": [],
      "toc_visible": true,
      "include_colab_link": true
    },
    "kernelspec": {
      "display_name": "Python 3",
      "name": "python3"
    },
    "language_info": {
      "codemirror_mode": {
        "name": "ipython",
        "version": 3
      },
      "file_extension": ".py",
      "mimetype": "text/x-python",
      "name": "python",
      "nbconvert_exporter": "python",
      "pygments_lexer": "ipython3",
      "version": "3.12.2"
    }
  },
  "nbformat": 4,
  "nbformat_minor": 0
}